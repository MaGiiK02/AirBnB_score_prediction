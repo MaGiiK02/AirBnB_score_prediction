{
 "cells": [
  {
   "cell_type": "code",
   "execution_count": 1,
   "metadata": {},
   "outputs": [],
   "source": [
    "# move workidir to the correct folder\n",
    "import os\n",
    "os.chdir(\"../\")\n"
   ]
  },
  {
   "cell_type": "code",
   "execution_count": 2,
   "metadata": {},
   "outputs": [],
   "source": [
    "import numpy as np\n",
    "import pandas as pd\n",
    "import torch\n",
    "import torch.nn as nn\n",
    "import pytorch_lightning as pl\n",
    "\n",
    "from torch.utils.data import TensorDataset, DataLoader\n",
    "from sklearn.model_selection import train_test_split\n",
    "\n",
    "# Custom Libs\n",
    "from dataset.dataset import Dataset\n",
    "from model.models.classifier import MLPClassifier"
   ]
  },
  {
   "cell_type": "code",
   "execution_count": 24,
   "metadata": {},
   "outputs": [],
   "source": [
    "# Set up which conlumn to use as a target :\n",
    "# 'review_scores_rating', 'review_scores_accuracy', 'review_scores_cleanliness', 'review_scores_checkin', \n",
    "# 'review_scores_communication', 'review_scores_location', 'review_scores_value',\n",
    "\n",
    "REFERENCE_COlUMN = \"review_scores_rating\"\n",
    "BUCKETS = [(0, 4.5), (4.5, 4.8), (4.8, 5)]\n",
    "OUTLIERS_HIGH = 4.99999\n",
    "OUTLIERS_LOW = 4.5\n",
    "\n",
    "REFERENCE_COlUMN = \"price\"\n",
    "BUCKETS = [(50,100), (100, 200), (200, 300), (300,400), (400,500)]\n",
    "OUTLIERS_HIGH = 500\n",
    "OUTLIERS_LOW = 50\n",
    "\n",
    "REFERENCE_COlUMN = \"price\"\n",
    "BUCKETS = [(50, 100), (100, 150), (150, 200)]\n",
    "OUTLIERS_LOW = 50\n",
    "OUTLIERS_HIGH = 200\n"
   ]
  },
  {
   "cell_type": "code",
   "execution_count": 25,
   "metadata": {},
   "outputs": [
    {
     "name": "stderr",
     "output_type": "stream",
     "text": [
      "Global seed set to 42\n"
     ]
    },
    {
     "data": {
      "text/plain": [
       "42"
      ]
     },
     "execution_count": 25,
     "metadata": {},
     "output_type": "execute_result"
    }
   ],
   "source": [
    "# Experiments Reproducibility\n",
    "from pytorch_lightning import seed_everything\n",
    "\n",
    "seed_everything(42, workers=True)"
   ]
  },
  {
   "cell_type": "code",
   "execution_count": 26,
   "metadata": {},
   "outputs": [],
   "source": [
    "# Load the precleaned and spearated datset\n",
    "with open(f'./dataset/train_dataset.pkl', 'rb') as f:\n",
    "    train_dataset = pd.read_pickle(f)\n",
    "\n",
    "with open(f'./dataset/test_dataset.pkl', 'rb') as f:\n",
    "    test_dataset = pd.read_pickle(f)"
   ]
  },
  {
   "cell_type": "code",
   "execution_count": 27,
   "metadata": {},
   "outputs": [
    {
     "name": "stdout",
     "output_type": "stream",
     "text": [
      "not_embeddings_shape (5598, 146)\n",
      "embeddings_shape (5598, 1536)\n"
     ]
    }
   ],
   "source": [
    "y_train = train_dataset.getAllScores()[REFERENCE_COlUMN]\n",
    "x_not_embeddings_train = train_dataset.getListingsNotEmbeddings()\n",
    "x_embeddings_train = train_dataset.getListingsEmbeddings()\n",
    "print(\"not_embeddings_shape\", x_not_embeddings_train.shape)\n",
    "print(\"embeddings_shape\", x_embeddings_train.shape)"
   ]
  },
  {
   "cell_type": "code",
   "execution_count": 28,
   "metadata": {},
   "outputs": [],
   "source": [
    "# Apply PCA to non embeddings fields + normalization\n",
    "import numpy as np\n",
    "import matplotlib.pyplot as plt\n",
    "from sklearn.decomposition import PCA\n",
    "from sklearn.preprocessing import StandardScaler\n",
    "\n",
    "# Note that the PCA and the scaler are kept to be reused in the test\n",
    "pca = PCA(n_components=60)\n",
    "scaler = StandardScaler()\n",
    "\n",
    "x_not_embeddings_train = x_not_embeddings_train.fillna(0)\n",
    "x_not_embeddings_train_scaled = scaler.fit_transform(x_not_embeddings_train)\n",
    "x_not_embeddings_train_60 = pca.fit_transform(x_not_embeddings_train_scaled)"
   ]
  },
  {
   "cell_type": "code",
   "execution_count": 29,
   "metadata": {},
   "outputs": [],
   "source": [
    "#  define X and y for training\n",
    "X_train = np.concatenate((x_not_embeddings_train_60, x_embeddings_train), axis=1)   "
   ]
  },
  {
   "cell_type": "code",
   "execution_count": 30,
   "metadata": {},
   "outputs": [
    {
     "name": "stdout",
     "output_type": "stream",
     "text": [
      "not_embeddings_shape (1400, 146)\n",
      "embeddings_shape (1400, 1536)\n"
     ]
    }
   ],
   "source": [
    "# Load and prepare Test\n",
    "y_test = test_dataset.getAllScores()[REFERENCE_COlUMN]\n",
    "x_not_embeddings_test = test_dataset.getListingsNotEmbeddings()\n",
    "x_embeddings_test = test_dataset.getListingsEmbeddings()\n",
    "print(\"not_embeddings_shape\", x_not_embeddings_test.shape)\n",
    "print(\"embeddings_shape\", x_embeddings_test.shape)\n",
    "\n",
    "# PCA for dimensionality reduction\n",
    "pca = PCA(n_components=60)\n",
    "scaler = StandardScaler()\n",
    "\n",
    "x_not_embeddings_test = x_not_embeddings_test.fillna(0)\n",
    "x_not_embeddings_test_scaled = scaler.fit_transform(x_not_embeddings_test)\n",
    "x_not_embeddings_test_60 = pca.fit_transform(x_not_embeddings_test_scaled)\n",
    "\n",
    "X_test = np.concatenate((x_not_embeddings_test_60, x_embeddings_test), axis=1)"
   ]
  },
  {
   "cell_type": "code",
   "execution_count": 31,
   "metadata": {},
   "outputs": [],
   "source": [
    "X_train = X_train.astype(np.float32)\n",
    "X_test = X_test.astype(np.float32)\n",
    "y_train = y_train.astype(np.float32)\n",
    "y_test = y_test.astype(np.float32)\n",
    "\n",
    "# Drop nan values based on target conlumn\n",
    "empty_target_indexes_train = y_train.notna()\n",
    "X_train = X_train[empty_target_indexes_train]\n",
    "y_train = y_train[empty_target_indexes_train]\n",
    "\n",
    "empty_target_indexes_test = y_test.notna()\n",
    "X_test = X_test[empty_target_indexes_test]\n",
    "y_test = y_test[empty_target_indexes_test]\n",
    "\n",
    "## Appling cutout\n",
    "not_outliers_idx = y_train <= OUTLIERS_HIGH\n",
    "not_outliers_idx_2 = y_train[y_train <= OUTLIERS_HIGH] >= OUTLIERS_LOW\n",
    "X_train = X_train[not_outliers_idx][not_outliers_idx_2]\n",
    "y_train = y_train[not_outliers_idx][not_outliers_idx_2]\n",
    "\n",
    "not_outliers_idx = y_test <= OUTLIERS_HIGH\n",
    "not_outliers_idx_2 = y_test[y_test <= OUTLIERS_HIGH] >= OUTLIERS_LOW\n",
    "X_test = X_test[not_outliers_idx][not_outliers_idx_2]\n",
    "y_test = y_test[not_outliers_idx][not_outliers_idx_2]\n"
   ]
  },
  {
   "cell_type": "code",
   "execution_count": 32,
   "metadata": {},
   "outputs": [],
   "source": [
    "# Bucket generations\n",
    "def bucketizie(x):\n",
    "    for i in range(len(BUCKETS)):\n",
    "        start, end = BUCKETS[i]\n",
    "        if (i == 0): \n",
    "            if x >= start and  x<=end: return i\n",
    "        else:\n",
    "            if x > start and  x<=end: return i\n",
    "        \n",
    "    return len(BUCKETS) \n",
    "\n",
    "y_train_buckets = [bucketizie(val) for val in y_train]\n",
    "y_test_buckets = [bucketizie(val) for val in y_test]\n"
   ]
  },
  {
   "cell_type": "code",
   "execution_count": 33,
   "metadata": {},
   "outputs": [
    {
     "data": {
      "text/plain": [
       "array([0, 1, 2, 3, 4])"
      ]
     },
     "execution_count": 33,
     "metadata": {},
     "output_type": "execute_result"
    }
   ],
   "source": [
    "np.unique(y_train_buckets)"
   ]
  },
  {
   "cell_type": "code",
   "execution_count": 34,
   "metadata": {},
   "outputs": [],
   "source": [
    "# An util function to plot the result of a trained model on the test data\n",
    "from sklearn import metrics\n",
    "from lightgbm import LGBMClassifier\n",
    "\n",
    "def evaluate_and_display(model, x, y):\n",
    "    y_hat = None\n",
    "    if  type(LGBMClassifier()) == type(model):\n",
    "        y_hat = model.predict(x).round()\n",
    "    else:\n",
    "        y_hat = model.transform(x).round()\n",
    "\n",
    "    # print reference\n",
    "    for i in range(len(BUCKETS)):\n",
    "        start, end = BUCKETS[i]\n",
    "        print(f\"Bucket {i}-> {start}-{end}\")\n",
    " \n",
    "    ## Confusion\n",
    "    cm = metrics.confusion_matrix(y, y_hat)\n",
    "    disp = metrics.ConfusionMatrixDisplay(confusion_matrix=cm)\n",
    "    disp.plot()\n",
    "\n",
    "    ## ROC\n",
    "    fpr, tpr, thresholds = metrics.roc_curve(y, y_hat, pos_label=2)\n",
    "    auc = metrics.auc(fpr, tpr)\n",
    "    plt.plot(fpr,tpr)\n",
    "    plt.ylabel('True Positive Rate')\n",
    "    plt.xlabel('False Positive Rate')\n",
    "    plt.show()\n",
    "    print(\"AUC:\", auc)\n",
    "\n",
    "    # Accuracy\n",
    "    print(\"Accuracy:\", metrics.accuracy_score(y, y_hat))\n",
    "\n",
    "    print(metrics.classification_report(y, y_hat))"
   ]
  },
  {
   "cell_type": "code",
   "execution_count": 35,
   "metadata": {},
   "outputs": [
    {
     "name": "stdout",
     "output_type": "stream",
     "text": [
      "[LightGBM] [Warning] num_threads is set with nthread=-1, will be overridden by n_jobs=-1. Current value: num_threads=-1\n"
     ]
    },
    {
     "data": {
      "text/html": [
       "<style>#sk-container-id-5 {color: black;background-color: white;}#sk-container-id-5 pre{padding: 0;}#sk-container-id-5 div.sk-toggleable {background-color: white;}#sk-container-id-5 label.sk-toggleable__label {cursor: pointer;display: block;width: 100%;margin-bottom: 0;padding: 0.3em;box-sizing: border-box;text-align: center;}#sk-container-id-5 label.sk-toggleable__label-arrow:before {content: \"▸\";float: left;margin-right: 0.25em;color: #696969;}#sk-container-id-5 label.sk-toggleable__label-arrow:hover:before {color: black;}#sk-container-id-5 div.sk-estimator:hover label.sk-toggleable__label-arrow:before {color: black;}#sk-container-id-5 div.sk-toggleable__content {max-height: 0;max-width: 0;overflow: hidden;text-align: left;background-color: #f0f8ff;}#sk-container-id-5 div.sk-toggleable__content pre {margin: 0.2em;color: black;border-radius: 0.25em;background-color: #f0f8ff;}#sk-container-id-5 input.sk-toggleable__control:checked~div.sk-toggleable__content {max-height: 200px;max-width: 100%;overflow: auto;}#sk-container-id-5 input.sk-toggleable__control:checked~label.sk-toggleable__label-arrow:before {content: \"▾\";}#sk-container-id-5 div.sk-estimator input.sk-toggleable__control:checked~label.sk-toggleable__label {background-color: #d4ebff;}#sk-container-id-5 div.sk-label input.sk-toggleable__control:checked~label.sk-toggleable__label {background-color: #d4ebff;}#sk-container-id-5 input.sk-hidden--visually {border: 0;clip: rect(1px 1px 1px 1px);clip: rect(1px, 1px, 1px, 1px);height: 1px;margin: -1px;overflow: hidden;padding: 0;position: absolute;width: 1px;}#sk-container-id-5 div.sk-estimator {font-family: monospace;background-color: #f0f8ff;border: 1px dotted black;border-radius: 0.25em;box-sizing: border-box;margin-bottom: 0.5em;}#sk-container-id-5 div.sk-estimator:hover {background-color: #d4ebff;}#sk-container-id-5 div.sk-parallel-item::after {content: \"\";width: 100%;border-bottom: 1px solid gray;flex-grow: 1;}#sk-container-id-5 div.sk-label:hover label.sk-toggleable__label {background-color: #d4ebff;}#sk-container-id-5 div.sk-serial::before {content: \"\";position: absolute;border-left: 1px solid gray;box-sizing: border-box;top: 0;bottom: 0;left: 50%;z-index: 0;}#sk-container-id-5 div.sk-serial {display: flex;flex-direction: column;align-items: center;background-color: white;padding-right: 0.2em;padding-left: 0.2em;position: relative;}#sk-container-id-5 div.sk-item {position: relative;z-index: 1;}#sk-container-id-5 div.sk-parallel {display: flex;align-items: stretch;justify-content: center;background-color: white;position: relative;}#sk-container-id-5 div.sk-item::before, #sk-container-id-5 div.sk-parallel-item::before {content: \"\";position: absolute;border-left: 1px solid gray;box-sizing: border-box;top: 0;bottom: 0;left: 50%;z-index: -1;}#sk-container-id-5 div.sk-parallel-item {display: flex;flex-direction: column;z-index: 1;position: relative;background-color: white;}#sk-container-id-5 div.sk-parallel-item:first-child::after {align-self: flex-end;width: 50%;}#sk-container-id-5 div.sk-parallel-item:last-child::after {align-self: flex-start;width: 50%;}#sk-container-id-5 div.sk-parallel-item:only-child::after {width: 0;}#sk-container-id-5 div.sk-dashed-wrapped {border: 1px dashed gray;margin: 0 0.4em 0.5em 0.4em;box-sizing: border-box;padding-bottom: 0.4em;background-color: white;}#sk-container-id-5 div.sk-label label {font-family: monospace;font-weight: bold;display: inline-block;line-height: 1.2em;}#sk-container-id-5 div.sk-label-container {text-align: center;}#sk-container-id-5 div.sk-container {/* jupyter's `normalize.less` sets `[hidden] { display: none; }` but bootstrap.min.css set `[hidden] { display: none !important; }` so we also need the `!important` here to be able to override the default hidden behavior on the sphinx rendered scikit-learn.org. See: https://github.com/scikit-learn/scikit-learn/issues/21755 */display: inline-block !important;position: relative;}#sk-container-id-5 div.sk-text-repr-fallback {display: none;}</style><div id=\"sk-container-id-5\" class=\"sk-top-container\"><div class=\"sk-text-repr-fallback\"><pre>LGBMClassifier(nthread=-1, seed=0)</pre><b>In a Jupyter environment, please rerun this cell to show the HTML representation or trust the notebook. <br />On GitHub, the HTML representation is unable to render, please try loading this page with nbviewer.org.</b></div><div class=\"sk-container\" hidden><div class=\"sk-item\"><div class=\"sk-estimator sk-toggleable\"><input class=\"sk-toggleable__control sk-hidden--visually\" id=\"sk-estimator-id-5\" type=\"checkbox\" checked><label for=\"sk-estimator-id-5\" class=\"sk-toggleable__label sk-toggleable__label-arrow\">LGBMClassifier</label><div class=\"sk-toggleable__content\"><pre>LGBMClassifier(nthread=-1, seed=0)</pre></div></div></div></div></div>"
      ],
      "text/plain": [
       "LGBMClassifier(nthread=-1, seed=0)"
      ]
     },
     "execution_count": 35,
     "metadata": {},
     "output_type": "execute_result"
    }
   ],
   "source": [
    "model = LGBMClassifier(n_estimators=200, nthread=-1, seed=0)\n",
    "model.fit(X_train, y_train_buckets)"
   ]
  },
  {
   "cell_type": "code",
   "execution_count": 37,
   "metadata": {},
   "outputs": [
    {
     "name": "stdout",
     "output_type": "stream",
     "text": [
      "Bucket 0-> 50-100\n",
      "Bucket 1-> 100-200\n",
      "Bucket 2-> 200-300\n",
      "Bucket 3-> 300-400\n",
      "Bucket 4-> 400-500\n"
     ]
    },
    {
     "data": {
      "image/png": "[encoded data removed]",
      "text/plain": [
       "<Figure size 640x480 with 2 Axes>"
      ]
     },
     "metadata": {},
     "output_type": "display_data"
    },
    {
     "name": "stdout",
     "output_type": "stream",
     "text": [
      "AUC: 0.5346687999404668\n",
      "Accuracy: 0.48721804511278194\n",
      "              precision    recall  f1-score   support\n",
      "\n",
      "           0       0.46      0.06      0.11       172\n",
      "           1       0.55      0.82      0.66       676\n",
      "           2       0.32      0.22      0.26       319\n",
      "           3       0.14      0.10      0.12       111\n",
      "           4       0.17      0.02      0.03        52\n",
      "\n",
      "    accuracy                           0.49      1330\n",
      "   macro avg       0.33      0.24      0.24      1330\n",
      "weighted avg       0.44      0.49      0.42      1330\n",
      "\n"
     ]
    }
   ],
   "source": [
    "evaluate_and_display(model, X_test, y_test_buckets)"
   ]
  },
  {
   "cell_type": "code",
   "execution_count": null,
   "metadata": {},
   "outputs": [],
   "source": []
  }
 ],
 "metadata": {
  "kernelspec": {
   "display_name": "nlp1",
   "language": "python",
   "name": "python3"
  },
  "language_info": {
   "codemirror_mode": {
    "name": "ipython",
    "version": 3
   },
   "file_extension": ".py",
   "mimetype": "text/x-python",
   "name": "python",
   "nbconvert_exporter": "python",
   "pygments_lexer": "ipython3",
   "version": "3.11.3"
  },
  "orig_nbformat": 4
 },
 "nbformat": 4,
 "nbformat_minor": 2
}
