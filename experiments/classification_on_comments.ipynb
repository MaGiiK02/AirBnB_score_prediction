{
 "cells": [
  {
   "cell_type": "code",
   "execution_count": 1,
   "metadata": {},
   "outputs": [],
   "source": [
    "# move workidir to the correct folder\n",
    "import os\n",
    "os.chdir(\"../\")\n"
   ]
  },
  {
   "cell_type": "code",
   "execution_count": 2,
   "metadata": {},
   "outputs": [],
   "source": [
    "import numpy as np\n",
    "import pandas as pd\n",
    "\n",
    "from sklearn.model_selection import train_test_split\n",
    "\n",
    "# Custom Libs\n",
    "from dataset.dataset import Dataset\n",
    "import matplotlib.pyplot as plt"
   ]
  },
  {
   "cell_type": "code",
   "execution_count": 16,
   "metadata": {},
   "outputs": [],
   "source": [
    "# Set up which conlumn to use as a target :\n",
    "# 'review_scores_rating', 'review_scores_accuracy', 'review_scores_cleanliness', 'review_scores_checkin', \n",
    "# 'review_scores_communication', 'review_scores_location', 'review_scores_value',\n",
    "\n",
    "REFERENCE_COlUMN = \"review_scores_rating\"\n",
    "BUCKETS = [(0, 4), (4, 4.5), (4.5, 4.8), (4.8, 5)]\n",
    "OUTLIERS_HIGH = 4.99999\n",
    "OUTLIERS_LOW = 0\n",
    "\n",
    "\n",
    "# Other experiments\n",
    "# REFERENCE_COlUMN = \"price\"\n",
    "# BUCKETS = [(50,100), (100, 200), (200, 300), (300,400), (400,500)]\n",
    "# OUTLIERS_HIGH = 500\n",
    "# OUTLIERS_LOW = 50\n",
    "\n",
    "# REFERENCE_COlUMN = \"price\"\n",
    "# BUCKETS = [(50, 100), (100, 150), (150, 200)]\n",
    "# OUTLIERS_LOW = 50\n",
    "# OUTLIERS_HIGH = 200\n"
   ]
  },
  {
   "cell_type": "code",
   "execution_count": 17,
   "metadata": {},
   "outputs": [],
   "source": [
    "# Load the precleaned and spearated datset\n",
    "with open(f'./dataset/train_dataset.pkl', 'rb') as f:\n",
    "    train_dataset = pd.read_pickle(f)\n",
    "\n",
    "with open(f'./dataset/test_dataset.pkl', 'rb') as f:\n",
    "    test_dataset = pd.read_pickle(f)"
   ]
  },
  {
   "cell_type": "code",
   "execution_count": 18,
   "metadata": {},
   "outputs": [],
   "source": [
    "y_train = train_dataset.getAllScores()[REFERENCE_COlUMN]\n",
    "X_train = train_dataset.getComments()"
   ]
  },
  {
   "cell_type": "code",
   "execution_count": 19,
   "metadata": {},
   "outputs": [],
   "source": [
    "# Load and prepare Test\n",
    "y_test = test_dataset.getAllScores()[REFERENCE_COlUMN]\n",
    "X_test = test_dataset.getComments()"
   ]
  },
  {
   "cell_type": "code",
   "execution_count": 20,
   "metadata": {},
   "outputs": [],
   "source": [
    "X_train = X_train.astype(np.float32)\n",
    "X_test = X_test.astype(np.float32)\n",
    "y_train = y_train.astype(np.float32)\n",
    "y_test = y_test.astype(np.float32)\n",
    "\n",
    "# Drop nan values based on target conlumn\n",
    "empty_target_indexes_train = y_train.notna()\n",
    "X_train = X_train[empty_target_indexes_train]\n",
    "y_train = y_train[empty_target_indexes_train]\n",
    "\n",
    "empty_target_indexes_test = y_test.notna()\n",
    "X_test = X_test[empty_target_indexes_test]\n",
    "y_test = y_test[empty_target_indexes_test]\n",
    "\n",
    "## Appling cutout\n",
    "not_outliers_idx = y_train <= OUTLIERS_HIGH\n",
    "not_outliers_idx_2 = y_train[y_train <= OUTLIERS_HIGH] >= OUTLIERS_LOW\n",
    "X_train = X_train[not_outliers_idx][not_outliers_idx_2]\n",
    "y_train = y_train[not_outliers_idx][not_outliers_idx_2]\n",
    "\n",
    "not_outliers_idx = y_test <= OUTLIERS_HIGH\n",
    "not_outliers_idx_2 = y_test[y_test <= OUTLIERS_HIGH] >= OUTLIERS_LOW\n",
    "X_test = X_test[not_outliers_idx][not_outliers_idx_2]\n",
    "y_test = y_test[not_outliers_idx][not_outliers_idx_2]\n"
   ]
  },
  {
   "cell_type": "code",
   "execution_count": 30,
   "metadata": {},
   "outputs": [
    {
     "data": {
      "text/plain": [
       "count    1330.000000\n",
       "mean      197.878189\n",
       "std        93.567444\n",
       "min        50.000000\n",
       "25%       128.000000\n",
       "50%       179.000000\n",
       "75%       249.000000\n",
       "max       500.000000\n",
       "Name: price, dtype: float64"
      ]
     },
     "execution_count": 30,
     "metadata": {},
     "output_type": "execute_result"
    }
   ],
   "source": [
    "y_test.describe()"
   ]
  },
  {
   "cell_type": "code",
   "execution_count": 21,
   "metadata": {},
   "outputs": [],
   "source": [
    "# Bucket generations\n",
    "def bucketizie(x):\n",
    "    for i in range(len(BUCKETS)):\n",
    "        start, end = BUCKETS[i]\n",
    "        if (i == 0): \n",
    "            if x >= start and  x<=end: return i\n",
    "        else:\n",
    "            if x > start and  x<=end: return i\n",
    "        \n",
    "    return len(BUCKETS) -1\n",
    "\n",
    "y_train_buckets = [bucketizie(val) for val in y_train]\n",
    "y_test_buckets = [bucketizie(val) for val in y_test]\n"
   ]
  },
  {
   "cell_type": "code",
   "execution_count": 22,
   "metadata": {},
   "outputs": [
    {
     "data": {
      "text/plain": [
       "array([0, 1, 2, 3, 4])"
      ]
     },
     "execution_count": 22,
     "metadata": {},
     "output_type": "execute_result"
    }
   ],
   "source": [
    "print(np.unique(y_train_buckets))"
   ]
  },
  {
   "cell_type": "code",
   "execution_count": 23,
   "metadata": {},
   "outputs": [],
   "source": [
    "# An util function to plot the result of a trained model on the test data\n",
    "from sklearn import metrics\n",
    "from lightgbm import LGBMClassifier\n",
    "\n",
    "\n",
    "def evaluate_and_display(model, x, y):\n",
    "    y_hat = model.predict(x).round()\n",
    "\n",
    "    # print reference\n",
    "    for i in range(len(BUCKETS)):\n",
    "        start, end = BUCKETS[i]\n",
    "        print(f\"Bucket {i}-> {start}-{end}\")\n",
    " \n",
    "    ## Confusion\n",
    "    cm = metrics.confusion_matrix(y, y_hat)\n",
    "    disp = metrics.ConfusionMatrixDisplay(confusion_matrix=cm)\n",
    "    disp.plot()\n",
    "\n",
    "    ## ROC\n",
    "    fpr, tpr, thresholds = metrics.roc_curve(y, y_hat, pos_label=2)\n",
    "    auc = metrics.auc(fpr, tpr)\n",
    "    plt.plot(fpr,tpr)\n",
    "    plt.ylabel('True Positive Rate')\n",
    "    plt.xlabel('False Positive Rate')\n",
    "    plt.show()\n",
    "    print(\"AUC:\", auc)\n",
    "\n",
    "    # Accuracy\n",
    "    print(\"Accuracy:\", metrics.accuracy_score(y, y_hat))\n",
    "\n",
    "    print(metrics.classification_report(y, y_hat))"
   ]
  },
  {
   "attachments": {},
   "cell_type": "markdown",
   "metadata": {},
   "source": [
    "## LGBMClassifier"
   ]
  },
  {
   "cell_type": "code",
   "execution_count": 24,
   "metadata": {},
   "outputs": [
    {
     "name": "stdout",
     "output_type": "stream",
     "text": [
      "Bucket 0-> 50-100\n",
      "Bucket 1-> 100-200\n",
      "Bucket 2-> 200-300\n",
      "Bucket 3-> 300-400\n",
      "Bucket 4-> 400-500\n"
     ]
    },
    {
     "data": {
      "image/png": "[encoded data removed]",
      "text/plain": [
       "<Figure size 640x480 with 2 Axes>"
      ]
     },
     "metadata": {},
     "output_type": "display_data"
    },
    {
     "name": "stdout",
     "output_type": "stream",
     "text": [
      "AUC: 0.5415833356588499\n",
      "Accuracy: 0.5075187969924813\n",
      "              precision    recall  f1-score   support\n",
      "\n",
      "           0       0.50      0.09      0.16       172\n",
      "           1       0.53      0.90      0.66       676\n",
      "           2       0.36      0.15      0.21       319\n",
      "           3       0.17      0.01      0.02       111\n",
      "           4       0.00      0.00      0.00        52\n",
      "\n",
      "    accuracy                           0.51      1330\n",
      "   macro avg       0.31      0.23      0.21      1330\n",
      "weighted avg       0.43      0.51      0.41      1330\n",
      "\n"
     ]
    },
    {
     "name": "stderr",
     "output_type": "stream",
     "text": [
      "/home/mangelini/miniconda3/envs/NLP/lib/python3.11/site-packages/sklearn/metrics/_classification.py:1344: UndefinedMetricWarning: Precision and F-score are ill-defined and being set to 0.0 in labels with no predicted samples. Use `zero_division` parameter to control this behavior.\n",
      "  _warn_prf(average, modifier, msg_start, len(result))\n",
      "/home/mangelini/miniconda3/envs/NLP/lib/python3.11/site-packages/sklearn/metrics/_classification.py:1344: UndefinedMetricWarning: Precision and F-score are ill-defined and being set to 0.0 in labels with no predicted samples. Use `zero_division` parameter to control this behavior.\n",
      "  _warn_prf(average, modifier, msg_start, len(result))\n",
      "/home/mangelini/miniconda3/envs/NLP/lib/python3.11/site-packages/sklearn/metrics/_classification.py:1344: UndefinedMetricWarning: Precision and F-score are ill-defined and being set to 0.0 in labels with no predicted samples. Use `zero_division` parameter to control this behavior.\n",
      "  _warn_prf(average, modifier, msg_start, len(result))\n"
     ]
    }
   ],
   "source": [
    "# train model\n",
    "import lightgbm as lgb\n",
    "# impor model\n",
    "model = lgb.LGBMClassifier()\n",
    "# fit model\n",
    "model.fit(X_train, y_train_buckets)\n",
    "\n",
    "\n",
    "evaluate_and_display(model, X_test, y_test_buckets)"
   ]
  },
  {
   "attachments": {},
   "cell_type": "markdown",
   "metadata": {},
   "source": [
    "## Random forest"
   ]
  },
  {
   "cell_type": "code",
   "execution_count": 25,
   "metadata": {},
   "outputs": [
    {
     "name": "stdout",
     "output_type": "stream",
     "text": [
      "Bucket 0-> 50-100\n",
      "Bucket 1-> 100-200\n",
      "Bucket 2-> 200-300\n",
      "Bucket 3-> 300-400\n",
      "Bucket 4-> 400-500\n"
     ]
    },
    {
     "data": {
      "image/png": "[encoded data removed]",
      "text/plain": [
       "<Figure size 640x480 with 2 Axes>"
      ]
     },
     "metadata": {},
     "output_type": "display_data"
    },
    {
     "name": "stdout",
     "output_type": "stream",
     "text": [
      "AUC: 0.5123608953548584\n",
      "Accuracy: 0.512781954887218\n",
      "              precision    recall  f1-score   support\n",
      "\n",
      "           0       1.00      0.01      0.01       172\n",
      "           1       0.51      0.99      0.68       676\n",
      "           2       0.46      0.04      0.07       319\n",
      "           3       0.00      0.00      0.00       111\n",
      "           4       0.00      0.00      0.00        52\n",
      "\n",
      "    accuracy                           0.51      1330\n",
      "   macro avg       0.39      0.21      0.15      1330\n",
      "weighted avg       0.50      0.51      0.36      1330\n",
      "\n"
     ]
    },
    {
     "name": "stderr",
     "output_type": "stream",
     "text": [
      "/home/mangelini/miniconda3/envs/NLP/lib/python3.11/site-packages/sklearn/metrics/_classification.py:1344: UndefinedMetricWarning: Precision and F-score are ill-defined and being set to 0.0 in labels with no predicted samples. Use `zero_division` parameter to control this behavior.\n",
      "  _warn_prf(average, modifier, msg_start, len(result))\n",
      "/home/mangelini/miniconda3/envs/NLP/lib/python3.11/site-packages/sklearn/metrics/_classification.py:1344: UndefinedMetricWarning: Precision and F-score are ill-defined and being set to 0.0 in labels with no predicted samples. Use `zero_division` parameter to control this behavior.\n",
      "  _warn_prf(average, modifier, msg_start, len(result))\n",
      "/home/mangelini/miniconda3/envs/NLP/lib/python3.11/site-packages/sklearn/metrics/_classification.py:1344: UndefinedMetricWarning: Precision and F-score are ill-defined and being set to 0.0 in labels with no predicted samples. Use `zero_division` parameter to control this behavior.\n",
      "  _warn_prf(average, modifier, msg_start, len(result))\n"
     ]
    }
   ],
   "source": [
    "from sklearn.ensemble import RandomForestClassifier\n",
    "\n",
    "# import model\n",
    "model = RandomForestClassifier()\n",
    "\n",
    "# fit model\n",
    "model.fit(X_train, y_train_buckets)\n",
    "\n",
    "evaluate_and_display(model, X_test, y_test_buckets)\n"
   ]
  },
  {
   "attachments": {},
   "cell_type": "markdown",
   "metadata": {},
   "source": [
    "## SVM one vs all"
   ]
  },
  {
   "cell_type": "code",
   "execution_count": 26,
   "metadata": {},
   "outputs": [
    {
     "name": "stdout",
     "output_type": "stream",
     "text": [
      "Bucket 0-> 50-100\n",
      "Bucket 1-> 100-200\n",
      "Bucket 2-> 200-300\n",
      "Bucket 3-> 300-400\n",
      "Bucket 4-> 400-500\n"
     ]
    },
    {
     "data": {
      "image/png": "[encoded data removed]",
      "text/plain": [
       "<Figure size 640x480 with 2 Axes>"
      ]
     },
     "metadata": {},
     "output_type": "display_data"
    },
    {
     "name": "stdout",
     "output_type": "stream",
     "text": [
      "AUC: 0.5\n",
      "Accuracy: 0.5082706766917293\n",
      "              precision    recall  f1-score   support\n",
      "\n",
      "           0       0.00      0.00      0.00       172\n",
      "           1       0.51      1.00      0.67       676\n",
      "           2       0.00      0.00      0.00       319\n",
      "           3       0.00      0.00      0.00       111\n",
      "           4       0.00      0.00      0.00        52\n",
      "\n",
      "    accuracy                           0.51      1330\n",
      "   macro avg       0.10      0.20      0.13      1330\n",
      "weighted avg       0.26      0.51      0.34      1330\n",
      "\n"
     ]
    },
    {
     "name": "stderr",
     "output_type": "stream",
     "text": [
      "/home/mangelini/miniconda3/envs/NLP/lib/python3.11/site-packages/sklearn/metrics/_classification.py:1344: UndefinedMetricWarning: Precision and F-score are ill-defined and being set to 0.0 in labels with no predicted samples. Use `zero_division` parameter to control this behavior.\n",
      "  _warn_prf(average, modifier, msg_start, len(result))\n",
      "/home/mangelini/miniconda3/envs/NLP/lib/python3.11/site-packages/sklearn/metrics/_classification.py:1344: UndefinedMetricWarning: Precision and F-score are ill-defined and being set to 0.0 in labels with no predicted samples. Use `zero_division` parameter to control this behavior.\n",
      "  _warn_prf(average, modifier, msg_start, len(result))\n",
      "/home/mangelini/miniconda3/envs/NLP/lib/python3.11/site-packages/sklearn/metrics/_classification.py:1344: UndefinedMetricWarning: Precision and F-score are ill-defined and being set to 0.0 in labels with no predicted samples. Use `zero_division` parameter to control this behavior.\n",
      "  _warn_prf(average, modifier, msg_start, len(result))\n"
     ]
    }
   ],
   "source": [
    "from sklearn.svm import SVC\n",
    "\n",
    "# import model\n",
    "model = SVC(gamma='auto', kernel= \"rbf\")\n",
    "\n",
    "# fit model\n",
    "model.fit(X_train, y_train_buckets)\n",
    "\n",
    "\n",
    "evaluate_and_display(model, X_test, y_test_buckets)\n"
   ]
  },
  {
   "attachments": {},
   "cell_type": "markdown",
   "metadata": {},
   "source": [
    "## apply the mlp classifier to predict the correct bin\n"
   ]
  },
  {
   "cell_type": "code",
   "execution_count": 27,
   "metadata": {},
   "outputs": [],
   "source": [
    "# from model.models.classifier import MLPClassifier\n",
    "\n",
    "# # convert to tensor and float\n",
    "# X_train = torch.tensor(X_train).float()\n",
    "# X_test = torch.tensor(X_test).float()\n",
    "# y_train = torch.tensor(y_train)\n",
    "# y_test = torch.tensor(y_test)\n",
    "\n",
    "# # impor model\n",
    "# input_dim = X_train.shape[1]\n",
    "# output_dim = len(np.unique(y_train))\n",
    "# hidden_dim = 100\n",
    "\n",
    "# model = MLPClassifier(input_dim, hidden_dim, output_dim)\n",
    "\n",
    "# # fit model\n",
    "# model.fit(X_train, y_train)\n",
    "\n",
    "# # predict\n",
    "# y_pred = model.predict(X_test)\n",
    "\n",
    "# # evaluate\n"
   ]
  },
  {
   "cell_type": "code",
   "execution_count": 28,
   "metadata": {},
   "outputs": [
    {
     "data": {
      "text/plain": [
       "1032     91.0\n",
       "4490    205.0\n",
       "6885    400.0\n",
       "1721    500.0\n",
       "1919    100.0\n",
       "        ...  \n",
       "3772    135.0\n",
       "5191     87.0\n",
       "5226    180.0\n",
       "5390    150.0\n",
       "860     246.0\n",
       "Name: price, Length: 5335, dtype: float32"
      ]
     },
     "execution_count": 28,
     "metadata": {},
     "output_type": "execute_result"
    }
   ],
   "source": [
    "y_train"
   ]
  },
  {
   "cell_type": "code",
   "execution_count": null,
   "metadata": {},
   "outputs": [],
   "source": []
  },
  {
   "cell_type": "code",
   "execution_count": null,
   "metadata": {},
   "outputs": [],
   "source": []
  },
  {
   "cell_type": "code",
   "execution_count": 29,
   "metadata": {},
   "outputs": [
    {
     "ename": "NameError",
     "evalue": "name 'listings' is not defined",
     "output_type": "error",
     "traceback": [
      "\u001b[0;31m---------------------------------------------------------------------------\u001b[0m",
      "\u001b[0;31mNameError\u001b[0m                                 Traceback (most recent call last)",
      "Cell \u001b[0;32mIn[29], line 7\u001b[0m\n\u001b[1;32m      1\u001b[0m \u001b[39m# Create equal probability bins at the PENTILES of RATING\u001b[39;00m\n\u001b[1;32m      2\u001b[0m \u001b[39m# labels below_4.3, 4.3_to_4.8, 4.8_to_5\u001b[39;00m\n\u001b[1;32m      3\u001b[0m labels \u001b[39m=\u001b[39m [\u001b[39m0\u001b[39m,\u001b[39m1\u001b[39m,\u001b[39m2\u001b[39m]\n\u001b[1;32m      6\u001b[0m listings[\u001b[39m'\u001b[39m\u001b[39mreview_scores_rating\u001b[39m\u001b[39m'\u001b[39m] \u001b[39m=\u001b[39m pd\u001b[39m.\u001b[39mqcut(\n\u001b[0;32m----> 7\u001b[0m         listings[\u001b[39m'\u001b[39m\u001b[39mreview_scores_rating\u001b[39m\u001b[39m'\u001b[39m],\n\u001b[1;32m      8\u001b[0m         q\u001b[39m=\u001b[39m\u001b[39m3\u001b[39m,\n\u001b[1;32m      9\u001b[0m         duplicates\u001b[39m=\u001b[39m\u001b[39m'\u001b[39m\u001b[39mdrop\u001b[39m\u001b[39m'\u001b[39m,\n\u001b[1;32m     10\u001b[0m         labels\u001b[39m=\u001b[39mlabels\n\u001b[1;32m     11\u001b[0m     )\n\u001b[1;32m     13\u001b[0m \u001b[39m# Visualize the Split\u001b[39;00m\n\u001b[1;32m     14\u001b[0m sns\u001b[39m.\u001b[39mcountplot(listings[\u001b[39m'\u001b[39m\u001b[39mreview_scores_rating\u001b[39m\u001b[39m'\u001b[39m])\n",
      "\u001b[0;31mNameError\u001b[0m: name 'listings' is not defined"
     ]
    }
   ],
   "source": [
    "# Create equal probability bins at the PENTILES of RATING\n",
    "# labels below_4.3, 4.3_to_4.8, 4.8_to_5\n",
    "labels = [0,1,2]\n",
    "\n",
    "\n",
    "listings['review_scores_rating'] = pd.qcut(\n",
    "        listings['review_scores_rating'],\n",
    "        q=3,\n",
    "        duplicates='drop',\n",
    "        labels=labels\n",
    "    )\n",
    "\n",
    "# Visualize the Split\n",
    "sns.countplot(listings['review_scores_rating'])\n",
    "\n",
    "# add plot title and axis labels\n",
    "plt.title('Distribution of Review Scores')\n",
    "plt.xlabel('Review Scores')\n",
    "plt.ylabel('Number of Listings')\n",
    "\n",
    "# display the plot\n",
    "plt.show()\n",
    "\n"
   ]
  },
  {
   "cell_type": "code",
   "execution_count": null,
   "metadata": {},
   "outputs": [],
   "source": []
  },
  {
   "cell_type": "code",
   "execution_count": null,
   "metadata": {},
   "outputs": [],
   "source": []
  },
  {
   "cell_type": "markdown",
   "metadata": {},
   "source": []
  },
  {
   "cell_type": "code",
   "execution_count": null,
   "metadata": {},
   "outputs": [],
   "source": [
    "# discretize review_scores_rating\n",
    "listings['review_scores_rating'] = pd.cut(listings['review_scores_rating'], bins=5,\n",
    "                                         labels=['0.0-1.0', '1.0-2.0', '2.0-3.0', '3.0-4.0', '4.0-5.0'])\n",
    "\n",
    "# replace null values in description and review_scores_rating\n",
    "listings['description'].replace(np.NaN, 'no_description', inplace=True)\n",
    "listings['review_scores_rating'].replace(np.NaN, 'no_review', inplace=True)"
   ]
  },
  {
   "cell_type": "code",
   "execution_count": null,
   "metadata": {},
   "outputs": [
    {
     "data": {
      "text/plain": [
       "0    4.0-5.0\n",
       "1    4.0-5.0\n",
       "2    4.0-5.0\n",
       "3    4.0-5.0\n",
       "4    4.0-5.0\n",
       "Name: review_scores_rating, dtype: category\n",
       "Categories (5, object): ['0.0-1.0' < '1.0-2.0' < '2.0-3.0' < '3.0-4.0' < '4.0-5.0']"
      ]
     },
     "execution_count": 14,
     "metadata": {},
     "output_type": "execute_result"
    }
   ],
   "source": [
    "listings.review_scores_rating.head()"
   ]
  },
  {
   "cell_type": "code",
   "execution_count": null,
   "metadata": {},
   "outputs": [
    {
     "data": {
      "text/plain": [
       "4.0-5.0    6037\n",
       "3.0-4.0     110\n",
       "2.0-3.0       6\n",
       "0.0-1.0       4\n",
       "1.0-2.0       4\n",
       "Name: review_scores_rating, dtype: int64"
      ]
     },
     "execution_count": 15,
     "metadata": {},
     "output_type": "execute_result"
    }
   ],
   "source": [
    "listings.review_scores_rating.value_counts()"
   ]
  },
  {
   "cell_type": "code",
   "execution_count": null,
   "metadata": {},
   "outputs": [
    {
     "name": "stderr",
     "output_type": "stream",
     "text": [
      "[nltk_data] Downloading package stopwords to\n",
      "[nltk_data]     C:\\Users\\kyriakos\\AppData\\Roaming\\nltk_data...\n",
      "[nltk_data]   Package stopwords is already up-to-date!\n",
      "[nltk_data] Downloading package punkt to\n",
      "[nltk_data]     C:\\Users\\kyriakos\\AppData\\Roaming\\nltk_data...\n",
      "[nltk_data]   Package punkt is already up-to-date!\n"
     ]
    }
   ],
   "source": [
    "from nltk.corpus import stopwords\n",
    "import nltk\n",
    "\n",
    "\n",
    "# Snipped to execute the download of nltk moule only if not present\n",
    "nltk.download(\"stopwords\")\n",
    "nltk.download('punkt')\n",
    "\n",
    "ENGLISH_STOP_WORDS = set(stopwords.words('english'))"
   ]
  },
  {
   "cell_type": "code",
   "execution_count": null,
   "metadata": {},
   "outputs": [
    {
     "name": "stdout",
     "output_type": "stream",
     "text": [
      "Collecting en-core-web-sm==3.5.0"
     ]
    },
    {
     "name": "stderr",
     "output_type": "stream",
     "text": [
      "2023-04-21 16:39:55.542120: W tensorflow/stream_executor/platform/default/dso_loader.cc:55] Could not load dynamic library 'cudart64_101.dll'; dlerror: cudart64_101.dll not found\n",
      "2023-04-21 16:39:55.542506: I tensorflow/stream_executor/cuda/cudart_stub.cc:29] Ignore above cudart dlerror if you do not have a GPU set up on your machine.\n",
      "2023-04-21 16:39:58.361629: I tensorflow/stream_executor/platform/default/dso_loader.cc:44] Successfully opened dynamic library nvcuda.dll\n",
      "2023-04-21 16:39:58.362074: I tensorflow/core/common_runtime/gpu/gpu_device.cc:1561] Found device 0 with properties: \n",
      "pciBusID: 0000:25:00.0 name: NVIDIA GeForce GTX 1050 Ti computeCapability: 6.1\n",
      "coreClock: 1.4425GHz coreCount: 6 deviceMemorySize: 4.00GiB deviceMemoryBandwidth: 104.43GiB/s\n",
      "2023-04-21 16:39:58.364664: W tensorflow/stream_executor/platform/default/dso_loader.cc:55] Could not load dynamic library 'cudart64_101.dll'; dlerror: cudart64_101.dll not found\n",
      "2023-04-21 16:39:58.366871: W tensorflow/stream_executor/platform/default/dso_loader.cc:55] Could not load dynamic library 'cublas64_10.dll'; dlerror: cublas64_10.dll not found\n",
      "2023-04-21 16:39:58.367197: I tensorflow/stream_executor/platform/default/dso_loader.cc:44] Successfully opened dynamic library cufft64_10.dll\n",
      "2023-04-21 16:39:58.367491: I tensorflow/stream_executor/platform/default/dso_loader.cc:44] Successfully opened dynamic library curand64_10.dll\n",
      "2023-04-21 16:39:58.369629: W tensorflow/stream_executor/platform/default/dso_loader.cc:55] Could not load dynamic library 'cusolver64_10.dll'; dlerror: cusolver64_10.dll not found\n",
      "2023-04-21 16:39:58.371938: W tensorflow/stream_executor/platform/default/dso_loader.cc:55] Could not load dynamic library 'cusparse64_10.dll'; dlerror: cusparse64_10.dll not found\n",
      "2023-04-21 16:39:58.374143: W tensorflow/stream_executor/platform/default/dso_loader.cc:55] Could not load dynamic library 'cudnn64_7.dll'; dlerror: cudnn64_7.dll not found\n",
      "2023-04-21 16:39:58.374475: W tensorflow/core/common_runtime/gpu/gpu_device.cc:1598] Cannot dlopen some GPU libraries. Please make sure the missing libraries mentioned above are installed properly if you would like to use GPU. Follow the guide at https://www.tensorflow.org/install/gpu for how to download and setup the required libraries for your platform.\n",
      "Skipping registering GPU devices...\n"
     ]
    },
    {
     "name": "stdout",
     "output_type": "stream",
     "text": [
      "\n",
      "  Downloading https://github.com/explosion/spacy-models/releases/download/en_core_web_sm-3.5.0/en_core_web_sm-3.5.0-py3-none-any.whl (12.8 MB)\n",
      "     ---------------------------------------- 12.8/12.8 MB 4.5 MB/s eta 0:00:00\n",
      "Requirement already satisfied: spacy<3.6.0,>=3.5.0 in c:\\users\\kyriakos\\appdata\\roaming\\python\\python38\\site-packages (from en-core-web-sm==3.5.0) (3.5.2)\n",
      "Requirement already satisfied: jinja2 in c:\\users\\kyriakos\\anaconda3\\envs\\nlp1\\lib\\site-packages (from spacy<3.6.0,>=3.5.0->en-core-web-sm==3.5.0) (3.1.2)\n",
      "Requirement already satisfied: spacy-loggers<2.0.0,>=1.0.0 in c:\\users\\kyriakos\\anaconda3\\envs\\nlp1\\lib\\site-packages (from spacy<3.6.0,>=3.5.0->en-core-web-sm==3.5.0) (1.0.4)\n",
      "Requirement already satisfied: setuptools in c:\\users\\kyriakos\\anaconda3\\envs\\nlp1\\lib\\site-packages (from spacy<3.6.0,>=3.5.0->en-core-web-sm==3.5.0) (65.6.3)\n",
      "Requirement already satisfied: wasabi<1.2.0,>=0.9.1 in c:\\users\\kyriakos\\anaconda3\\envs\\nlp1\\lib\\site-packages (from spacy<3.6.0,>=3.5.0->en-core-web-sm==3.5.0) (1.1.1)\n",
      "Requirement already satisfied: pathy>=0.10.0 in c:\\users\\kyriakos\\appdata\\roaming\\python\\python38\\site-packages (from spacy<3.6.0,>=3.5.0->en-core-web-sm==3.5.0) (0.10.1)\n",
      "Requirement already satisfied: smart-open<7.0.0,>=5.2.1 in c:\\users\\kyriakos\\anaconda3\\envs\\nlp1\\lib\\site-packages (from spacy<3.6.0,>=3.5.0->en-core-web-sm==3.5.0) (6.3.0)\n",
      "Requirement already satisfied: thinc<8.2.0,>=8.1.8 in c:\\users\\kyriakos\\appdata\\roaming\\python\\python38\\site-packages (from spacy<3.6.0,>=3.5.0->en-core-web-sm==3.5.0) (8.1.9)\n",
      "Requirement already satisfied: typer<0.8.0,>=0.3.0 in c:\\users\\kyriakos\\appdata\\roaming\\python\\python38\\site-packages (from spacy<3.6.0,>=3.5.0->en-core-web-sm==3.5.0) (0.7.0)\n",
      "Requirement already satisfied: numpy>=1.15.0 in c:\\users\\kyriakos\\anaconda3\\envs\\nlp1\\lib\\site-packages (from spacy<3.6.0,>=3.5.0->en-core-web-sm==3.5.0) (1.20.0)\n",
      "Requirement already satisfied: requests<3.0.0,>=2.13.0 in c:\\users\\kyriakos\\anaconda3\\envs\\nlp1\\lib\\site-packages (from spacy<3.6.0,>=3.5.0->en-core-web-sm==3.5.0) (2.21.0)\n",
      "Requirement already satisfied: murmurhash<1.1.0,>=0.28.0 in c:\\users\\kyriakos\\appdata\\roaming\\python\\python38\\site-packages (from spacy<3.6.0,>=3.5.0->en-core-web-sm==3.5.0) (1.0.9)\n",
      "Requirement already satisfied: srsly<3.0.0,>=2.4.3 in c:\\users\\kyriakos\\appdata\\roaming\\python\\python38\\site-packages (from spacy<3.6.0,>=3.5.0->en-core-web-sm==3.5.0) (2.4.6)\n",
      "Requirement already satisfied: pydantic!=1.8,!=1.8.1,<1.11.0,>=1.7.4 in c:\\users\\kyriakos\\appdata\\roaming\\python\\python38\\site-packages (from spacy<3.6.0,>=3.5.0->en-core-web-sm==3.5.0) (1.10.7)\n",
      "Requirement already satisfied: cymem<2.1.0,>=2.0.2 in c:\\users\\kyriakos\\anaconda3\\envs\\nlp1\\lib\\site-packages (from spacy<3.6.0,>=3.5.0->en-core-web-sm==3.5.0) (2.0.7)\n",
      "Requirement already satisfied: langcodes<4.0.0,>=3.2.0 in c:\\users\\kyriakos\\appdata\\roaming\\python\\python38\\site-packages (from spacy<3.6.0,>=3.5.0->en-core-web-sm==3.5.0) (3.3.0)\n",
      "Requirement already satisfied: preshed<3.1.0,>=3.0.2 in c:\\users\\kyriakos\\appdata\\roaming\\python\\python38\\site-packages (from spacy<3.6.0,>=3.5.0->en-core-web-sm==3.5.0) (3.0.8)\n",
      "Requirement already satisfied: tqdm<5.0.0,>=4.38.0 in c:\\users\\kyriakos\\anaconda3\\envs\\nlp1\\lib\\site-packages (from spacy<3.6.0,>=3.5.0->en-core-web-sm==3.5.0) (4.62.3)\n",
      "Requirement already satisfied: packaging>=20.0 in c:\\users\\kyriakos\\anaconda3\\envs\\nlp1\\lib\\site-packages (from spacy<3.6.0,>=3.5.0->en-core-web-sm==3.5.0) (23.0)\n",
      "Requirement already satisfied: spacy-legacy<3.1.0,>=3.0.11 in c:\\users\\kyriakos\\anaconda3\\envs\\nlp1\\lib\\site-packages (from spacy<3.6.0,>=3.5.0->en-core-web-sm==3.5.0) (3.0.12)\n",
      "Requirement already satisfied: catalogue<2.1.0,>=2.0.6 in c:\\users\\kyriakos\\appdata\\roaming\\python\\python38\\site-packages (from spacy<3.6.0,>=3.5.0->en-core-web-sm==3.5.0) (2.0.8)\n",
      "Requirement already satisfied: typing-extensions>=4.2.0 in c:\\users\\kyriakos\\anaconda3\\envs\\nlp1\\lib\\site-packages (from pydantic!=1.8,!=1.8.1,<1.11.0,>=1.7.4->spacy<3.6.0,>=3.5.0->en-core-web-sm==3.5.0) (4.5.0)\n",
      "Requirement already satisfied: urllib3<1.25,>=1.21.1 in c:\\users\\kyriakos\\anaconda3\\envs\\nlp1\\lib\\site-packages (from requests<3.0.0,>=2.13.0->spacy<3.6.0,>=3.5.0->en-core-web-sm==3.5.0) (1.24.3)\n",
      "Requirement already satisfied: certifi>=2017.4.17 in c:\\users\\kyriakos\\anaconda3\\envs\\nlp1\\lib\\site-packages (from requests<3.0.0,>=2.13.0->spacy<3.6.0,>=3.5.0->en-core-web-sm==3.5.0) (2022.12.7)\n",
      "Requirement already satisfied: chardet<3.1.0,>=3.0.2 in c:\\users\\kyriakos\\anaconda3\\envs\\nlp1\\lib\\site-packages (from requests<3.0.0,>=2.13.0->spacy<3.6.0,>=3.5.0->en-core-web-sm==3.5.0) (3.0.4)\n",
      "Requirement already satisfied: idna<2.9,>=2.5 in c:\\users\\kyriakos\\anaconda3\\envs\\nlp1\\lib\\site-packages (from requests<3.0.0,>=2.13.0->spacy<3.6.0,>=3.5.0->en-core-web-sm==3.5.0) (2.8)\n",
      "Requirement already satisfied: confection<1.0.0,>=0.0.1 in c:\\users\\kyriakos\\appdata\\roaming\\python\\python38\\site-packages (from thinc<8.2.0,>=8.1.8->spacy<3.6.0,>=3.5.0->en-core-web-sm==3.5.0) (0.0.4)\n",
      "Requirement already satisfied: blis<0.8.0,>=0.7.8 in c:\\users\\kyriakos\\appdata\\roaming\\python\\python38\\site-packages (from thinc<8.2.0,>=8.1.8->spacy<3.6.0,>=3.5.0->en-core-web-sm==3.5.0) (0.7.9)\n",
      "Requirement already satisfied: colorama in c:\\users\\kyriakos\\anaconda3\\envs\\nlp1\\lib\\site-packages (from tqdm<5.0.0,>=4.38.0->spacy<3.6.0,>=3.5.0->en-core-web-sm==3.5.0) (0.4.6)\n",
      "Requirement already satisfied: click<9.0.0,>=7.1.1 in c:\\users\\kyriakos\\anaconda3\\envs\\nlp1\\lib\\site-packages (from typer<0.8.0,>=0.3.0->spacy<3.6.0,>=3.5.0->en-core-web-sm==3.5.0) (8.1.3)\n",
      "Requirement already satisfied: MarkupSafe>=2.0 in c:\\users\\kyriakos\\anaconda3\\envs\\nlp1\\lib\\site-packages (from jinja2->spacy<3.6.0,>=3.5.0->en-core-web-sm==3.5.0) (2.1.2)\n",
      "Installing collected packages: en-core-web-sm\n",
      "Successfully installed en-core-web-sm-3.5.0\n",
      "\u001b[38;5;2m✔ Download and installation successful\u001b[0m\n",
      "You can now load the package via spacy.load('en_core_web_sm')\n"
     ]
    }
   ],
   "source": [
    "!python -m spacy download en_core_web_sm"
   ]
  },
  {
   "cell_type": "code",
   "execution_count": null,
   "metadata": {},
   "outputs": [
    {
     "data": {
      "text/plain": [
       "5510361"
      ]
     },
     "execution_count": 30,
     "metadata": {},
     "output_type": "execute_result"
    }
   ],
   "source": [
    "# import libraries for handling text\n",
    "import scattertext as st\n",
    "import spacy\n",
    "\n",
    "from pprint import pprint\n",
    "\n",
    "from sentence_transformers import SentenceTransformer\n",
    "# nlp = SentenceTransformer('distiluse-base-multilingual-cased-v2')\n",
    "# load SBERT\n",
    "nlp = spacy.load(\"en_core_web_sm\")\n",
    "\n",
    "# create a scattertext corpus & look for differences between listing descriptions in ratings\n",
    "# remove stop words\n",
    "corpus = (st.CorpusFromPandas(listings,\n",
    "                              category_col='review_scores_rating',\n",
    "                              text_col='description',\n",
    "                              nlp=nlp)\n",
    "          .build()\n",
    "          .remove_terms(ENGLISH_STOP_WORDS, ignore_absences=True))\n",
    "\n",
    "# generate scatterplot and save to HTML file\n",
    "# set a minimum term frequency to filter out infrequent words\n",
    "html = st.produce_scattertext_explorer(corpus,\n",
    "          category='4.0-5.0',\n",
    "          category_name='Star Rating 4.0 - 5.0',\n",
    "          not_category_name='All Other Ratings',\n",
    "          width_in_pixels=1000,\n",
    "          minimum_term_frequency=200)\n",
    "open('term-associations.html', 'wb').write(html.encode('utf-8'))"
   ]
  },
  {
   "cell_type": "code",
   "execution_count": null,
   "metadata": {},
   "outputs": [
    {
     "ename": "ImportError",
     "evalue": "lxml not found, please install it",
     "output_type": "error",
     "traceback": [
      "\u001b[1;31m---------------------------------------------------------------------------\u001b[0m",
      "\u001b[1;31mImportError\u001b[0m                               Traceback (most recent call last)",
      "Cell \u001b[1;32mIn[40], line 5\u001b[0m\n\u001b[0;32m      2\u001b[0m \u001b[39mimport\u001b[39;00m \u001b[39mmatplotlib\u001b[39;00m\u001b[39m.\u001b[39;00m\u001b[39mpyplot\u001b[39;00m \u001b[39mas\u001b[39;00m \u001b[39mplt\u001b[39;00m\n\u001b[0;32m      4\u001b[0m \u001b[39m# Read in the data from the HTML file\u001b[39;00m\n\u001b[1;32m----> 5\u001b[0m df \u001b[39m=\u001b[39m pd\u001b[39m.\u001b[39;49mread_html(\u001b[39m'\u001b[39;49m\u001b[39mterm-associations.html\u001b[39;49m\u001b[39m'\u001b[39;49m)\n\u001b[0;32m      6\u001b[0m \u001b[39m# df = pd.read_html('term-associations.html', flavor='html5lib')[0]\u001b[39;00m\n\u001b[0;32m      7\u001b[0m \n\u001b[0;32m      8\u001b[0m \n\u001b[0;32m      9\u001b[0m \u001b[39m# Create a scatterplot using Matplotlib\u001b[39;00m\n\u001b[0;32m     10\u001b[0m plt\u001b[39m.\u001b[39mscatter(df[\u001b[39m'\u001b[39m\u001b[39mx\u001b[39m\u001b[39m'\u001b[39m], df[\u001b[39m'\u001b[39m\u001b[39my\u001b[39m\u001b[39m'\u001b[39m])\n",
      "File \u001b[1;32mc:\\Users\\kyriakos\\anaconda3\\envs\\nlp1\\lib\\site-packages\\pandas\\util\\_decorators.py:311\u001b[0m, in \u001b[0;36mdeprecate_nonkeyword_arguments.<locals>.decorate.<locals>.wrapper\u001b[1;34m(*args, **kwargs)\u001b[0m\n\u001b[0;32m    305\u001b[0m \u001b[39mif\u001b[39;00m \u001b[39mlen\u001b[39m(args) \u001b[39m>\u001b[39m num_allow_args:\n\u001b[0;32m    306\u001b[0m     warnings\u001b[39m.\u001b[39mwarn(\n\u001b[0;32m    307\u001b[0m         msg\u001b[39m.\u001b[39mformat(arguments\u001b[39m=\u001b[39marguments),\n\u001b[0;32m    308\u001b[0m         \u001b[39mFutureWarning\u001b[39;00m,\n\u001b[0;32m    309\u001b[0m         stacklevel\u001b[39m=\u001b[39mstacklevel,\n\u001b[0;32m    310\u001b[0m     )\n\u001b[1;32m--> 311\u001b[0m \u001b[39mreturn\u001b[39;00m func(\u001b[39m*\u001b[39;49margs, \u001b[39m*\u001b[39;49m\u001b[39m*\u001b[39;49mkwargs)\n",
      "File \u001b[1;32mc:\\Users\\kyriakos\\anaconda3\\envs\\nlp1\\lib\\site-packages\\pandas\\io\\html.py:1098\u001b[0m, in \u001b[0;36mread_html\u001b[1;34m(io, match, flavor, header, index_col, skiprows, attrs, parse_dates, thousands, encoding, decimal, converters, na_values, keep_default_na, displayed_only)\u001b[0m\n\u001b[0;32m   1094\u001b[0m validate_header_arg(header)\n\u001b[0;32m   1096\u001b[0m io \u001b[39m=\u001b[39m stringify_path(io)\n\u001b[1;32m-> 1098\u001b[0m \u001b[39mreturn\u001b[39;00m _parse(\n\u001b[0;32m   1099\u001b[0m     flavor\u001b[39m=\u001b[39;49mflavor,\n\u001b[0;32m   1100\u001b[0m     io\u001b[39m=\u001b[39;49mio,\n\u001b[0;32m   1101\u001b[0m     match\u001b[39m=\u001b[39;49mmatch,\n\u001b[0;32m   1102\u001b[0m     header\u001b[39m=\u001b[39;49mheader,\n\u001b[0;32m   1103\u001b[0m     index_col\u001b[39m=\u001b[39;49mindex_col,\n\u001b[0;32m   1104\u001b[0m     skiprows\u001b[39m=\u001b[39;49mskiprows,\n\u001b[0;32m   1105\u001b[0m     parse_dates\u001b[39m=\u001b[39;49mparse_dates,\n\u001b[0;32m   1106\u001b[0m     thousands\u001b[39m=\u001b[39;49mthousands,\n\u001b[0;32m   1107\u001b[0m     attrs\u001b[39m=\u001b[39;49mattrs,\n\u001b[0;32m   1108\u001b[0m     encoding\u001b[39m=\u001b[39;49mencoding,\n\u001b[0;32m   1109\u001b[0m     decimal\u001b[39m=\u001b[39;49mdecimal,\n\u001b[0;32m   1110\u001b[0m     converters\u001b[39m=\u001b[39;49mconverters,\n\u001b[0;32m   1111\u001b[0m     na_values\u001b[39m=\u001b[39;49mna_values,\n\u001b[0;32m   1112\u001b[0m     keep_default_na\u001b[39m=\u001b[39;49mkeep_default_na,\n\u001b[0;32m   1113\u001b[0m     displayed_only\u001b[39m=\u001b[39;49mdisplayed_only,\n\u001b[0;32m   1114\u001b[0m )\n",
      "File \u001b[1;32mc:\\Users\\kyriakos\\anaconda3\\envs\\nlp1\\lib\\site-packages\\pandas\\io\\html.py:902\u001b[0m, in \u001b[0;36m_parse\u001b[1;34m(flavor, io, match, attrs, encoding, displayed_only, **kwargs)\u001b[0m\n\u001b[0;32m    900\u001b[0m retained \u001b[39m=\u001b[39m \u001b[39mNone\u001b[39;00m\n\u001b[0;32m    901\u001b[0m \u001b[39mfor\u001b[39;00m flav \u001b[39min\u001b[39;00m flavor:\n\u001b[1;32m--> 902\u001b[0m     parser \u001b[39m=\u001b[39m _parser_dispatch(flav)\n\u001b[0;32m    903\u001b[0m     p \u001b[39m=\u001b[39m parser(io, compiled_match, attrs, encoding, displayed_only)\n\u001b[0;32m    905\u001b[0m     \u001b[39mtry\u001b[39;00m:\n",
      "File \u001b[1;32mc:\\Users\\kyriakos\\anaconda3\\envs\\nlp1\\lib\\site-packages\\pandas\\io\\html.py:859\u001b[0m, in \u001b[0;36m_parser_dispatch\u001b[1;34m(flavor)\u001b[0m\n\u001b[0;32m    857\u001b[0m \u001b[39melse\u001b[39;00m:\n\u001b[0;32m    858\u001b[0m     \u001b[39mif\u001b[39;00m \u001b[39mnot\u001b[39;00m _HAS_LXML:\n\u001b[1;32m--> 859\u001b[0m         \u001b[39mraise\u001b[39;00m \u001b[39mImportError\u001b[39;00m(\u001b[39m\"\u001b[39m\u001b[39mlxml not found, please install it\u001b[39m\u001b[39m\"\u001b[39m)\n\u001b[0;32m    860\u001b[0m \u001b[39mreturn\u001b[39;00m _valid_parsers[flavor]\n",
      "\u001b[1;31mImportError\u001b[0m: lxml not found, please install it"
     ]
    }
   ],
   "source": [
    "import pandas as pd\n",
    "import matplotlib.pyplot as plt\n",
    "\n",
    "# Read in the data from the HTML file\n",
    "df = pd.read_html('term-associations.html')[0]\n",
    "# df = pd.read_html('term-associations.html', flavor='html5lib')[0]\n",
    "\n",
    "\n",
    "# Create a scatterplot using Matplotlib\n",
    "plt.scatter(df['x'], df['y'])\n",
    "\n",
    "# Add labels and title\n",
    "plt.xlabel('X')\n",
    "plt.ylabel('Y')\n",
    "plt.title('Scatterplot')\n",
    "\n",
    "# Show the plot\n",
    "plt.show()\n"
   ]
  },
  {
   "cell_type": "code",
   "execution_count": null,
   "metadata": {},
   "outputs": [],
   "source": []
  },
  {
   "cell_type": "code",
   "execution_count": null,
   "metadata": {},
   "outputs": [],
   "source": []
  },
  {
   "cell_type": "code",
   "execution_count": null,
   "metadata": {},
   "outputs": [],
   "source": []
  },
  {
   "cell_type": "code",
   "execution_count": null,
   "metadata": {},
   "outputs": [],
   "source": []
  },
  {
   "cell_type": "code",
   "execution_count": null,
   "metadata": {},
   "outputs": [],
   "source": []
  },
  {
   "cell_type": "code",
   "execution_count": null,
   "metadata": {},
   "outputs": [],
   "source": []
  },
  {
   "cell_type": "code",
   "execution_count": null,
   "metadata": {},
   "outputs": [],
   "source": []
  },
  {
   "cell_type": "code",
   "execution_count": null,
   "metadata": {},
   "outputs": [],
   "source": []
  },
  {
   "cell_type": "code",
   "execution_count": null,
   "metadata": {},
   "outputs": [],
   "source": []
  },
  {
   "cell_type": "code",
   "execution_count": null,
   "metadata": {},
   "outputs": [],
   "source": []
  },
  {
   "cell_type": "code",
   "execution_count": null,
   "metadata": {},
   "outputs": [],
   "source": []
  }
 ],
 "metadata": {
  "kernelspec": {
   "display_name": "nlp1",
   "language": "python",
   "name": "python3"
  },
  "language_info": {
   "codemirror_mode": {
    "name": "ipython",
    "version": 3
   },
   "file_extension": ".py",
   "mimetype": "text/x-python",
   "name": "python",
   "nbconvert_exporter": "python",
   "pygments_lexer": "ipython3",
   "version": "3.11.3"
  },
  "orig_nbformat": 4
 },
 "nbformat": 4,
 "nbformat_minor": 2
}
