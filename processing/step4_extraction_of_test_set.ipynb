{
  "cells": [
    {
      "cell_type": "code",
      "execution_count": 10,
      "metadata": {
        "id": "VT7_yV43whuZ"
      },
      "outputs": [],
      "source": [
        "import os\n",
        "os.chdir('../')\n",
        "print(os.getcwd())\n",
        "import pickle\n",
        "import pandas as pd\n",
        "from sklearn.model_selection import train_test_split\n",
        "from dataset.dataloader import Dataloader\n",
        "from dataset.dataset import Dataset"
      ]
    },
    {
      "cell_type": "code",
      "execution_count": 6,
      "metadata": {
        "id": "cmS_rdtkwhuc"
      },
      "outputs": [],
      "source": [
        "data = Dataloader(\n",
        "    listing_path = 'dataset/listings',\n",
        "    comments_path = 'dataset/comments',\n",
        ")\n",
        "df = data.getListings()\n",
        "\n",
        "scores_conlumns = [ col for col in df.columns if \"score\" in col ]\n",
        "other_possible_scores_conlumns = [\"price\"]\n",
        "scores = df[scores_conlumns]\n",
        "\n",
        "# loads pre_processed data\n",
        "with open(f'embeddings/listing_name_embeddings.pkl', 'rb') as f:\n",
        "    listing_name = pd.read_pickle(f)\n",
        "    \n",
        "with open(f'embeddings/listing_description_embeddings.pkl', 'rb') as f:\n",
        "    listing_description = pd.read_pickle(f)\n",
        "\n",
        "with open(f'embeddings/listing_neighborhood_overview_embeddings.pkl', 'rb') as f:\n",
        "    listing_neighborhood = pd.read_pickle(f)\n",
        "\n",
        "with open(f'embeddings/listing_host_about_embeddings.pkl', 'rb') as f:\n",
        "    listing_host_about = pd.read_pickle(f)\n",
        "\n",
        "with open(f'embeddings/listing_processed_data.pkl', 'rb') as f:\n",
        "    listings_numeric = pd.read_pickle(f)\n",
        "\n",
        "with open(f'embeddings/comments_embeddings.pkl', 'rb') as f:\n",
        "    comments = pd.read_pickle(f)\n",
        "\n",
        "with open(f'embeddings/comments_mean_emb.pkl', 'rb') as f:\n",
        "    comments_mean = pd.read_pickle(f)"
      ]
    },
    {
      "cell_type": "code",
      "execution_count": 7,
      "metadata": {
        "colab": {
          "base_uri": "https://localhost:8080/"
        },
        "id": "9t3KiFGF0MmR",
        "outputId": "63e09b2f-4364-47ef-e1ae-5b801ea76e0c"
      },
      "outputs": [
        {
          "name": "stdout",
          "output_type": "stream",
          "text": [
            "listing_name: (6998, 384)\n",
            "listing_description: (6998, 384)\n",
            "listing_neighborhood: (6998, 384)\n",
            "listing_host_about: (6998, 384)\n",
            "listings_numeric: (6998, 146)\n",
            "comments: (6998, 384)\n",
            "comments_mean: (384,)\n"
          ]
        }
      ],
      "source": [
        "print(\"listing_name:\", listing_name.shape)\n",
        "print(\"listing_description:\", listing_description.shape)\n",
        "print(\"listing_neighborhood:\", listing_neighborhood.shape)\n",
        "print(\"listing_host_about:\", listing_host_about.shape)\n",
        "print(\"listings_numeric:\", listings_numeric.shape)\n",
        "print(\"comments:\", comments.shape)\n",
        "print(\"comments_mean:\", comments_mean.shape)"
      ]
    },
    {
      "cell_type": "code",
      "execution_count": 11,
      "metadata": {
        "colab": {
          "base_uri": "https://localhost:8080/"
        },
        "id": "-RiJACopyOtp",
        "outputId": "dcf35c09-b79d-425a-c4a9-aa2e604ec434"
      },
      "outputs": [
        {
          "data": {
            "text/plain": [
              "(6998, 2066)"
            ]
          },
          "execution_count": 11,
          "metadata": {},
          "output_type": "execute_result"
        }
      ],
      "source": [
        "# Generate train - Test Split this is done Once to be able to compare results\n",
        "comments_pd = pd.DataFrame(comments, columns= [ f'comments_average_embeddings_{i}' for i in range(comments.shape[1])])\n",
        "dataset_pd = pd.concat([listings_numeric, listing_name, listing_description, listing_neighborhood, listing_host_about, comments_pd], axis=1)\n",
        "dataset_pd.shape"
      ]
    },
    {
      "cell_type": "code",
      "execution_count": 15,
      "metadata": {
        "id": "joqUEcms6gf0"
      },
      "outputs": [
        {
          "name": "stdout",
          "output_type": "stream",
          "text": [
            "(6316, 2066)\n",
            "(6316, 7)\n"
          ]
        }
      ],
      "source": [
        "# using the score as a referenc to understand which rows to drop, if no score is aviable \n",
        "dataset_with_no_null_scores_x = dataset_pd[df['review_scores_rating'].notna()]\n",
        "dataset_with_no_null_scores_y = scores[df['review_scores_rating'].notna()]\n",
        "print(dataset_with_no_null_scores_x.shape)\n",
        "print(dataset_with_no_null_scores_y.shape)"
      ]
    },
    {
      "cell_type": "code",
      "execution_count": 13,
      "metadata": {
        "id": "Le9M87ax3-Zh"
      },
      "outputs": [],
      "source": [
        "x_train, x_test, y_train, y_test = train_test_split(dataset_with_no_null_scores_x, dataset_with_no_null_scores_y, test_size=0.2, random_state=0)"
      ]
    },
    {
      "cell_type": "code",
      "execution_count": 14,
      "metadata": {
        "id": "AqwE4-CF4rsG"
      },
      "outputs": [],
      "source": [
        "dataset_train = Dataset(x_train, y_train)\n",
        "dataset_test = Dataset(x_test, y_test)"
      ]
    },
    {
      "cell_type": "code",
      "execution_count": 42,
      "metadata": {
        "id": "R8ulrgPg8LX8"
      },
      "outputs": [],
      "source": [
        "with open(f'{ROOT_PATH}/train_dataset.pkl', 'wb') as f:\n",
        "    pickle.dump(dataset_train, f)\n",
        "\n",
        "with open(f'{ROOT_PATH}/test_dataset.pkl', 'wb') as f:\n",
        "    pickle.dump(dataset_test, f)"
      ]
    }
  ],
  "metadata": {
    "colab": {
      "provenance": []
    },
    "gpuClass": "standard",
    "kernelspec": {
      "display_name": "Python 3",
      "name": "python3"
    },
    "language_info": {
      "codemirror_mode": {
        "name": "ipython",
        "version": 3
      },
      "file_extension": ".py",
      "mimetype": "text/x-python",
      "name": "python",
      "nbconvert_exporter": "python",
      "pygments_lexer": "ipython3",
      "version": "3.11.3"
    },
    "orig_nbformat": 4
  },
  "nbformat": 4,
  "nbformat_minor": 0
}
