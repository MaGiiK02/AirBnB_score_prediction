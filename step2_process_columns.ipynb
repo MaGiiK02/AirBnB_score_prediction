{
 "cells": [
  {
   "cell_type": "code",
   "execution_count": 187,
   "metadata": {},
   "outputs": [],
   "source": [
    "import numpy as np\n",
    "import pandas as pd\n",
    "import os\n",
    "import torch\n",
    "import torch.nn as nn\n",
    "\n",
    "from transformers import BertTokenizer, BertModel, AutoTokenizer\n",
    "from sentence_transformers import SentenceTransformer\n",
    "from sklearn.model_selection import train_test_split\n",
    "\n",
    "import pickle\n",
    "\n"
   ]
  },
  {
   "cell_type": "code",
   "execution_count": 188,
   "metadata": {},
   "outputs": [],
   "source": [
    "os.getcwd()\n",
    "os.chdir('C:/Users/frlan/Documents/NLP/dataset')\n",
    "\n",
    "# change the path to C:\\Users\\Kyriakos\\Desktop\\MsC AI\\NLP\\NLP AirBNB Project\\AirBnB_score_prediction\\dataset\n",
    "# os.chdir('C:\\\\Users\\\\Kyriakos\\\\Desktop\\\\MsC AI\\\\NLP\\\\NLP AirBNB Project\\\\AirBnB_score_prediction\\\\dataset')\n",
    "# os.getcwd()\n"
   ]
  },
  {
   "cell_type": "code",
   "execution_count": 189,
   "metadata": {},
   "outputs": [],
   "source": [
    "# import label_encoder to use it for the categorical features\n",
    "from sklearn.preprocessing import LabelEncoder\n",
    "le = LabelEncoder()"
   ]
  },
  {
   "cell_type": "code",
   "execution_count": 190,
   "metadata": {},
   "outputs": [],
   "source": [
    "# 'listings_comments.csv is the datset compined \n",
    "\n",
    "# reaf the datset from Google Drive G:\\.shortcut-targets-by-id\\1CZZx9Bpz7hB-BhPFsqAL3fRVyxM1XfwF\\AirBnB_project\n",
    "# data = pd.read_csv('G:\\\\.shortcut-targets-by-id\\\\1CZZx9Bpz7hB-BhPFsqAL3fRVyxM1XfwF\\\\AirBnB_project\\\\listings_comments.csv')\n",
    "\n",
    "from dataloader import Dataloader\n",
    "data = Dataloader()\n",
    "data = data.getListings()\n",
    "\n"
   ]
  },
  {
   "cell_type": "code",
   "execution_count": 191,
   "metadata": {},
   "outputs": [
    {
     "data": {
      "text/plain": [
       "Index(['id', 'listing_url', 'scrape_id', 'last_scraped', 'source', 'name',\n",
       "       'description', 'neighborhood_overview', 'picture_url', 'host_id',\n",
       "       'host_url', 'host_name', 'host_since', 'host_location', 'host_about',\n",
       "       'host_response_time', 'host_response_rate', 'host_acceptance_rate',\n",
       "       'host_is_superhost', 'host_thumbnail_url', 'host_picture_url',\n",
       "       'host_neighbourhood', 'host_listings_count',\n",
       "       'host_total_listings_count', 'host_verifications',\n",
       "       'host_has_profile_pic', 'host_identity_verified', 'neighbourhood',\n",
       "       'neighbourhood_cleansed', 'neighbourhood_group_cleansed', 'latitude',\n",
       "       'longitude', 'property_type', 'room_type', 'accommodates', 'bathrooms',\n",
       "       'bathrooms_text', 'bedrooms', 'beds', 'amenities', 'price',\n",
       "       'minimum_nights', 'maximum_nights', 'minimum_minimum_nights',\n",
       "       'maximum_minimum_nights', 'minimum_maximum_nights',\n",
       "       'maximum_maximum_nights', 'minimum_nights_avg_ntm',\n",
       "       'maximum_nights_avg_ntm', 'calendar_updated', 'has_availability',\n",
       "       'availability_30', 'availability_60', 'availability_90',\n",
       "       'availability_365', 'calendar_last_scraped', 'number_of_reviews',\n",
       "       'number_of_reviews_ltm', 'number_of_reviews_l30d', 'first_review',\n",
       "       'last_review', 'review_scores_rating', 'review_scores_accuracy',\n",
       "       'review_scores_cleanliness', 'review_scores_checkin',\n",
       "       'review_scores_communication', 'review_scores_location',\n",
       "       'review_scores_value', 'license', 'instant_bookable',\n",
       "       'calculated_host_listings_count',\n",
       "       'calculated_host_listings_count_entire_homes',\n",
       "       'calculated_host_listings_count_private_rooms',\n",
       "       'calculated_host_listings_count_shared_rooms', 'reviews_per_month'],\n",
       "      dtype='object')"
      ]
     },
     "execution_count": 191,
     "metadata": {},
     "output_type": "execute_result"
    }
   ],
   "source": [
    "data.columns"
   ]
  },
  {
   "attachments": {},
   "cell_type": "markdown",
   "metadata": {},
   "source": [
    "# Base Preperation"
   ]
  },
  {
   "attachments": {},
   "cell_type": "markdown",
   "metadata": {},
   "source": [
    "## Remove unnecessary columns"
   ]
  },
  {
   "cell_type": "code",
   "execution_count": 192,
   "metadata": {},
   "outputs": [
    {
     "data": {
      "text/plain": [
       "75"
      ]
     },
     "execution_count": 192,
     "metadata": {},
     "output_type": "execute_result"
    }
   ],
   "source": [
    "len(data.columns)"
   ]
  },
  {
   "cell_type": "code",
   "execution_count": 193,
   "metadata": {},
   "outputs": [],
   "source": [
    "# Crate a list for removing unnecessary columns from the dataset\n",
    "columns_to_remove = ['id', 'listing_url', 'scrape_id', 'last_scraped', 'source','picture_url', 'host_id',\n",
    "       'host_url','host_name','host_location','host_thumbnail_url', 'host_picture_url','host_verifications','neighbourhood','neighbourhood_group_cleansed','latitude',\n",
    "       'longitude','bathrooms','calendar_updated','has_availability','availability_30', 'availability_60', 'availability_90',\n",
    "       'availability_365','calendar_last_scraped','review_scores_rating', 'review_scores_accuracy',\n",
    "       'review_scores_cleanliness', 'review_scores_checkin',\n",
    "       'review_scores_communication', 'review_scores_location',\n",
    "       'review_scores_value','instant_bookable',\n",
    "       'calculated_host_listings_count','name','description']\n"
   ]
  },
  {
   "cell_type": "code",
   "execution_count": 194,
   "metadata": {},
   "outputs": [
    {
     "data": {
      "text/plain": [
       "39"
      ]
     },
     "execution_count": 194,
     "metadata": {},
     "output_type": "execute_result"
    }
   ],
   "source": [
    "# Remove the unnecessary columns from the dataset.\n",
    "data.drop(columns_to_remove, axis=1, inplace=True)\n",
    "len(data.columns)"
   ]
  },
  {
   "attachments": {},
   "cell_type": "markdown",
   "metadata": {},
   "source": [
    "## Check and replace nan values\n"
   ]
  },
  {
   "cell_type": "code",
   "execution_count": 195,
   "metadata": {},
   "outputs": [],
   "source": [
    "def fill_nan(df, column):\n",
    "    if(df[column].astype(str).str.isnumeric().all()==True):\n",
    "        #Numeric values\n",
    "        df[column].fillna(df[column].mean(), inplace=True)\n",
    "    else:\n",
    "        #string balue\n",
    "        df[column].fillna('UNK', inplace=True)\n",
    "\n",
    "    return df\n",
    "\n",
    "for columnName in data.columns:\n",
    "    data = fill_nan(data, columnName)"
   ]
  },
  {
   "attachments": {},
   "cell_type": "markdown",
   "metadata": {},
   "source": [
    "# Column processing"
   ]
  },
  {
   "cell_type": "markdown",
   "metadata": {},
   "source": [
    "## Function that takes a column and returns an embeddings matrix"
   ]
  },
  {
   "cell_type": "code",
   "execution_count": 196,
   "metadata": {},
   "outputs": [
    {
     "data": {
      "text/plain": [
       "neighborhood_overview                           4039\n",
       "host_since                                      2666\n",
       "host_about                                      3302\n",
       "host_response_time                                 5\n",
       "host_response_rate                                50\n",
       "host_acceptance_rate                              98\n",
       "host_is_superhost                                  3\n",
       "host_neighbourhood                                59\n",
       "host_listings_count                               28\n",
       "host_total_listings_count                         46\n",
       "host_has_profile_pic                               2\n",
       "host_identity_verified                             2\n",
       "neighbourhood_cleansed                            22\n",
       "property_type                                     59\n",
       "room_type                                          4\n",
       "accommodates                                      15\n",
       "bathrooms_text                                    23\n",
       "bedrooms                                          11\n",
       "beds                                              24\n",
       "amenities                                       6634\n",
       "price                                            542\n",
       "minimum_nights                                    44\n",
       "maximum_nights                                   106\n",
       "minimum_minimum_nights                            40\n",
       "maximum_minimum_nights                            48\n",
       "minimum_maximum_nights                            92\n",
       "maximum_maximum_nights                            92\n",
       "minimum_nights_avg_ntm                           135\n",
       "maximum_nights_avg_ntm                           282\n",
       "number_of_reviews                                447\n",
       "number_of_reviews_ltm                            135\n",
       "number_of_reviews_l30d                            27\n",
       "first_review                                    2289\n",
       "last_review                                      889\n",
       "license                                         5663\n",
       "calculated_host_listings_count_entire_homes       11\n",
       "calculated_host_listings_count_private_rooms      15\n",
       "calculated_host_listings_count_shared_rooms        7\n",
       "reviews_per_month                                616\n",
       "dtype: int64"
      ]
     },
     "execution_count": 196,
     "metadata": {},
     "output_type": "execute_result"
    }
   ],
   "source": [
    "# Check the number of unique values in each column\n",
    "data.nunique()\n"
   ]
  },
  {
   "cell_type": "code",
   "execution_count": 197,
   "metadata": {},
   "outputs": [
    {
     "name": "stdout",
     "output_type": "stream",
     "text": [
      "Device: cuda\n"
     ]
    }
   ],
   "source": [
    "# load the model that is responsible for the text embeddings\n",
    "model = SentenceTransformer('all-MiniLM-L6-v2')\n",
    "\n",
    "# create a device object\n",
    "device = torch.device('cuda' if torch.cuda.is_available() else 'cpu')\n",
    "print(f'Device: {device}')\n",
    "# move the model to the device\n",
    "model.to(device)\n",
    "\n",
    "# parallelize the model across multiple GPUs(if available)\n",
    "model = nn.DataParallel(model)\n",
    "\n",
    "underlying_model = model.module"
   ]
  },
  {
   "cell_type": "code",
   "execution_count": 198,
   "metadata": {},
   "outputs": [],
   "source": [
    "# function to get the embeddings for a column in a dataframe and return them as a numpy array\n",
    "def get_embeddings(dataframe, column_name, batch_size=100):\n",
    "    \"\"\"\n",
    "    Obtain sentence embeddings for a dataframe column using SentenceTransformer with batch processing.\n",
    "\n",
    "    Args:\n",
    "        dataframe (pandas.DataFrame): The dataframe containing the column to obtain embeddings for.\n",
    "        column_name (str): The name of the column to obtain embeddings for.\n",
    "        batch_size (int, optional): The size of each batch to process. Default is 100.\n",
    "\n",
    "    Returns:\n",
    "        numpy.ndarray: A numpy array containing the embeddings for the specified column.\n",
    "    \"\"\"\n",
    "\n",
    "    # Obtain the embeddings for the specified column in batches\n",
    "    num_batches = int(np.ceil(len(dataframe) / batch_size))\n",
    "    embeddings = []\n",
    "    for i in range(num_batches):\n",
    "        start_index = i * batch_size\n",
    "        end_index = min(start_index + batch_size, len(dataframe))\n",
    "        batch_embeddings = model.encode(dataframe[column_name][start_index:end_index].tolist())\n",
    "        embeddings.append(batch_embeddings)\n",
    "    embeddings = np.concatenate(embeddings)\n",
    "\n",
    "    return embeddings"
   ]
  },
  {
   "cell_type": "code",
   "execution_count": 199,
   "metadata": {},
   "outputs": [],
   "source": [
    "data.columns\n",
    "processedColumns = pd.DataFrame()\n",
    "processedColumns2 = pd.DataFrame()\n"
   ]
  },
  {
   "attachments": {},
   "cell_type": "markdown",
   "metadata": {},
   "source": [
    "## Text Columns - word embedings"
   ]
  },
  {
   "attachments": {},
   "cell_type": "markdown",
   "metadata": {},
   "source": [
    "### neighborhood_overview"
   ]
  },
  {
   "cell_type": "code",
   "execution_count": 200,
   "metadata": {},
   "outputs": [],
   "source": [
    "neighborhood_overview_embeddings = underlying_model.encode(data.neighborhood_overview.values)\n"
   ]
  },
  {
   "cell_type": "code",
   "execution_count": 201,
   "metadata": {},
   "outputs": [
    {
     "data": {
      "text/plain": [
       "(6809, 384)"
      ]
     },
     "execution_count": 201,
     "metadata": {},
     "output_type": "execute_result"
    }
   ],
   "source": [
    "neighborhood_overview_embeddings.shape"
   ]
  },
  {
   "cell_type": "code",
   "execution_count": 202,
   "metadata": {},
   "outputs": [
    {
     "data": {
      "text/plain": [
       "0       [-0.11637205630540848, 0.09759077429771423, -0...\n",
       "1       [0.136016383767128, -0.015675336122512817, 0.0...\n",
       "2       [0.06785199791193008, 0.060150280594825745, 0....\n",
       "3       [0.11301513016223907, -0.03934653848409653, 0....\n",
       "4       [0.054658882319927216, -0.059907153248786926, ...\n",
       "                              ...                        \n",
       "6804    [0.055526409298181534, -0.09739918261766434, 0...\n",
       "6805    [-0.11637205630540848, 0.09759077429771423, -0...\n",
       "6806    [-0.11637205630540848, 0.09759077429771423, -0...\n",
       "6807    [0.11814238876104355, 0.06271287053823471, -0....\n",
       "6808    [-0.11637203395366669, 0.09759080410003662, -0...\n",
       "Name: neighborhood_overview, Length: 6809, dtype: object"
      ]
     },
     "execution_count": 202,
     "metadata": {},
     "output_type": "execute_result"
    }
   ],
   "source": [
    "processedColumns['neighborhood_overview']= pd.Series(neighborhood_overview_embeddings.tolist())\n",
    "processedColumns.neighborhood_overview"
   ]
  },
  {
   "attachments": {},
   "cell_type": "markdown",
   "metadata": {},
   "source": [
    "### host_about"
   ]
  },
  {
   "cell_type": "code",
   "execution_count": 203,
   "metadata": {},
   "outputs": [],
   "source": [
    "host_about_embeddings = underlying_model.encode(data.host_about)"
   ]
  },
  {
   "cell_type": "code",
   "execution_count": 204,
   "metadata": {},
   "outputs": [
    {
     "data": {
      "text/plain": [
       "0       [-0.11637205630540848, 0.09759077429771423, -0...\n",
       "1       [0.1730751097202301, 0.013356110081076622, 0.0...\n",
       "2       [-0.07525812089443207, 0.04363350197672844, 0....\n",
       "3       [-0.019661905243992805, -0.026079228147864342,...\n",
       "4       [-0.09047619998455048, 0.04043954238295555, 0....\n",
       "                              ...                        \n",
       "6804    [0.06065135821700096, -0.09856018424034119, 0....\n",
       "6805    [0.1282920241355896, 0.042223624885082245, 0.0...\n",
       "6806    [-0.13382287323474884, 0.014150858856737614, -...\n",
       "6807    [0.062177881598472595, 0.08505070209503174, 0....\n",
       "6808    [-0.04520072415471077, -0.05978447198867798, 0...\n",
       "Name: host_about, Length: 6809, dtype: object"
      ]
     },
     "execution_count": 204,
     "metadata": {},
     "output_type": "execute_result"
    }
   ],
   "source": [
    "processedColumns['host_about']= pd.Series(host_about_embeddings.tolist())\n",
    "processedColumns.host_about"
   ]
  },
  {
   "attachments": {},
   "cell_type": "markdown",
   "metadata": {},
   "source": [
    "### bathroom_text"
   ]
  },
  {
   "cell_type": "code",
   "execution_count": 205,
   "metadata": {},
   "outputs": [
    {
     "data": {
      "text/plain": [
       "0              1.5 baths\n",
       "1       1.5 shared baths\n",
       "2         1 private bath\n",
       "3              1.5 baths\n",
       "4          1 shared bath\n",
       "              ...       \n",
       "6804      1 private bath\n",
       "6805              1 bath\n",
       "6806              1 bath\n",
       "6807      1 private bath\n",
       "6808           1.5 baths\n",
       "Name: bathrooms_text, Length: 6809, dtype: object"
      ]
     },
     "execution_count": 205,
     "metadata": {},
     "output_type": "execute_result"
    }
   ],
   "source": [
    "data.bathrooms_text"
   ]
  },
  {
   "cell_type": "code",
   "execution_count": 206,
   "metadata": {},
   "outputs": [
    {
     "data": {
      "text/plain": [
       "0       1.5\n",
       "1       1.5\n",
       "2       1.0\n",
       "3       1.5\n",
       "4       1.0\n",
       "       ... \n",
       "6804    1.0\n",
       "6805    1.0\n",
       "6806    1.0\n",
       "6807    1.0\n",
       "6808    1.5\n",
       "Name: bathrooms_text, Length: 6809, dtype: float64"
      ]
     },
     "execution_count": 206,
     "metadata": {},
     "output_type": "execute_result"
    }
   ],
   "source": [
    "import re\n",
    "\n",
    "def extract_number(string):\n",
    "    pattern = r'^(\\d+(?:\\.\\d+)?)' # regular expression pattern to match the number at the start of the string\n",
    "    match = re.match(pattern, string)\n",
    "    if match:\n",
    "        return float(match.group(1))\n",
    "    else:\n",
    "        return None\n",
    "\n",
    "numberOfBathrooms = data.bathrooms_text.apply(extract_number)\n",
    "numberOfBathrooms"
   ]
  },
  {
   "cell_type": "code",
   "execution_count": 207,
   "metadata": {},
   "outputs": [
    {
     "data": {
      "text/plain": [
       "0       1.5\n",
       "1       1.5\n",
       "2       1.0\n",
       "3       1.5\n",
       "4       1.0\n",
       "       ... \n",
       "6804    1.0\n",
       "6805    1.0\n",
       "6806    1.0\n",
       "6807    1.0\n",
       "6808    1.5\n",
       "Name: bathrooms_text, Length: 6809, dtype: float64"
      ]
     },
     "execution_count": 207,
     "metadata": {},
     "output_type": "execute_result"
    }
   ],
   "source": [
    "processedColumns['bathrooms_text']=numberOfBathrooms\n",
    "processedColumns.bathrooms_text"
   ]
  },
  {
   "attachments": {},
   "cell_type": "markdown",
   "metadata": {},
   "source": [
    "### price"
   ]
  },
  {
   "cell_type": "code",
   "execution_count": 208,
   "metadata": {},
   "outputs": [
    {
     "data": {
      "text/plain": [
       "0       $100.00\n",
       "1        $59.00\n",
       "2       $106.00\n",
       "3       $140.00\n",
       "4        $75.00\n",
       "         ...   \n",
       "6804    $165.00\n",
       "6805    $150.00\n",
       "6806    $160.00\n",
       "6807    $125.00\n",
       "6808    $249.00\n",
       "Name: price, Length: 6809, dtype: object"
      ]
     },
     "execution_count": 208,
     "metadata": {},
     "output_type": "execute_result"
    }
   ],
   "source": [
    "data.price"
   ]
  },
  {
   "cell_type": "code",
   "execution_count": 209,
   "metadata": {},
   "outputs": [],
   "source": [
    "price_embeddings = underlying_model.encode(data.price)"
   ]
  },
  {
   "cell_type": "code",
   "execution_count": 210,
   "metadata": {},
   "outputs": [],
   "source": [
    "# Convert embeddings to a DataFrame with string column names\n",
    "embedding_df = pd.DataFrame(price_embeddings, columns=[f'price_embeddings{i+1}' for i in range(price_embeddings.shape[1])])\n",
    "\n",
    "# Concatenate the numerical columns and the embeddings into a single DataFrame\n",
    "processedColumns2 = pd.concat([processedColumns2, embedding_df], axis=1)\n",
    "\n",
    "#processedColumns['price']= pd.Series(price_embeddings.tolist())\n",
    "#processedColumns.price"
   ]
  },
  {
   "attachments": {},
   "cell_type": "markdown",
   "metadata": {},
   "source": [
    "## Categorical Columns - label encoding"
   ]
  },
  {
   "attachments": {},
   "cell_type": "markdown",
   "metadata": {},
   "source": [
    "### host_response_time"
   ]
  },
  {
   "cell_type": "code",
   "execution_count": 211,
   "metadata": {},
   "outputs": [],
   "source": [
    "encoding = le.fit_transform(data.host_response_time)\n"
   ]
  },
  {
   "cell_type": "code",
   "execution_count": 212,
   "metadata": {},
   "outputs": [
    {
     "data": {
      "text/html": [
       "<div>\n",
       "<style scoped>\n",
       "    .dataframe tbody tr th:only-of-type {\n",
       "        vertical-align: middle;\n",
       "    }\n",
       "\n",
       "    .dataframe tbody tr th {\n",
       "        vertical-align: top;\n",
       "    }\n",
       "\n",
       "    .dataframe thead th {\n",
       "        text-align: right;\n",
       "    }\n",
       "</style>\n",
       "<table border=\"1\" class=\"dataframe\">\n",
       "  <thead>\n",
       "    <tr style=\"text-align: right;\">\n",
       "      <th></th>\n",
       "      <th>neighborhood_overview</th>\n",
       "      <th>host_about</th>\n",
       "      <th>bathrooms_text</th>\n",
       "      <th>host_response_time</th>\n",
       "    </tr>\n",
       "  </thead>\n",
       "  <tbody>\n",
       "    <tr>\n",
       "      <th>0</th>\n",
       "      <td>[-0.11637205630540848, 0.09759077429771423, -0...</td>\n",
       "      <td>[-0.11637205630540848, 0.09759077429771423, -0...</td>\n",
       "      <td>1.5</td>\n",
       "      <td>2</td>\n",
       "    </tr>\n",
       "    <tr>\n",
       "      <th>1</th>\n",
       "      <td>[0.136016383767128, -0.015675336122512817, 0.0...</td>\n",
       "      <td>[0.1730751097202301, 0.013356110081076622, 0.0...</td>\n",
       "      <td>1.5</td>\n",
       "      <td>4</td>\n",
       "    </tr>\n",
       "    <tr>\n",
       "      <th>2</th>\n",
       "      <td>[0.06785199791193008, 0.060150280594825745, 0....</td>\n",
       "      <td>[-0.07525812089443207, 0.04363350197672844, 0....</td>\n",
       "      <td>1.0</td>\n",
       "      <td>4</td>\n",
       "    </tr>\n",
       "    <tr>\n",
       "      <th>3</th>\n",
       "      <td>[0.11301513016223907, -0.03934653848409653, 0....</td>\n",
       "      <td>[-0.019661905243992805, -0.026079228147864342,...</td>\n",
       "      <td>1.5</td>\n",
       "      <td>4</td>\n",
       "    </tr>\n",
       "    <tr>\n",
       "      <th>4</th>\n",
       "      <td>[0.054658882319927216, -0.059907153248786926, ...</td>\n",
       "      <td>[-0.09047619998455048, 0.04043954238295555, 0....</td>\n",
       "      <td>1.0</td>\n",
       "      <td>3</td>\n",
       "    </tr>\n",
       "    <tr>\n",
       "      <th>...</th>\n",
       "      <td>...</td>\n",
       "      <td>...</td>\n",
       "      <td>...</td>\n",
       "      <td>...</td>\n",
       "    </tr>\n",
       "    <tr>\n",
       "      <th>6804</th>\n",
       "      <td>[0.055526409298181534, -0.09739918261766434, 0...</td>\n",
       "      <td>[0.06065135821700096, -0.09856018424034119, 0....</td>\n",
       "      <td>1.0</td>\n",
       "      <td>2</td>\n",
       "    </tr>\n",
       "    <tr>\n",
       "      <th>6805</th>\n",
       "      <td>[-0.11637205630540848, 0.09759077429771423, -0...</td>\n",
       "      <td>[0.1282920241355896, 0.042223624885082245, 0.0...</td>\n",
       "      <td>1.0</td>\n",
       "      <td>2</td>\n",
       "    </tr>\n",
       "    <tr>\n",
       "      <th>6806</th>\n",
       "      <td>[-0.11637205630540848, 0.09759077429771423, -0...</td>\n",
       "      <td>[-0.13382287323474884, 0.014150858856737614, -...</td>\n",
       "      <td>1.0</td>\n",
       "      <td>4</td>\n",
       "    </tr>\n",
       "    <tr>\n",
       "      <th>6807</th>\n",
       "      <td>[0.11814238876104355, 0.06271287053823471, -0....</td>\n",
       "      <td>[0.062177881598472595, 0.08505070209503174, 0....</td>\n",
       "      <td>1.0</td>\n",
       "      <td>4</td>\n",
       "    </tr>\n",
       "    <tr>\n",
       "      <th>6808</th>\n",
       "      <td>[-0.11637203395366669, 0.09759080410003662, -0...</td>\n",
       "      <td>[-0.04520072415471077, -0.05978447198867798, 0...</td>\n",
       "      <td>1.5</td>\n",
       "      <td>0</td>\n",
       "    </tr>\n",
       "  </tbody>\n",
       "</table>\n",
       "<p>6809 rows × 4 columns</p>\n",
       "</div>"
      ],
      "text/plain": [
       "                                  neighborhood_overview  \\\n",
       "0     [-0.11637205630540848, 0.09759077429771423, -0...   \n",
       "1     [0.136016383767128, -0.015675336122512817, 0.0...   \n",
       "2     [0.06785199791193008, 0.060150280594825745, 0....   \n",
       "3     [0.11301513016223907, -0.03934653848409653, 0....   \n",
       "4     [0.054658882319927216, -0.059907153248786926, ...   \n",
       "...                                                 ...   \n",
       "6804  [0.055526409298181534, -0.09739918261766434, 0...   \n",
       "6805  [-0.11637205630540848, 0.09759077429771423, -0...   \n",
       "6806  [-0.11637205630540848, 0.09759077429771423, -0...   \n",
       "6807  [0.11814238876104355, 0.06271287053823471, -0....   \n",
       "6808  [-0.11637203395366669, 0.09759080410003662, -0...   \n",
       "\n",
       "                                             host_about  bathrooms_text  \\\n",
       "0     [-0.11637205630540848, 0.09759077429771423, -0...             1.5   \n",
       "1     [0.1730751097202301, 0.013356110081076622, 0.0...             1.5   \n",
       "2     [-0.07525812089443207, 0.04363350197672844, 0....             1.0   \n",
       "3     [-0.019661905243992805, -0.026079228147864342,...             1.5   \n",
       "4     [-0.09047619998455048, 0.04043954238295555, 0....             1.0   \n",
       "...                                                 ...             ...   \n",
       "6804  [0.06065135821700096, -0.09856018424034119, 0....             1.0   \n",
       "6805  [0.1282920241355896, 0.042223624885082245, 0.0...             1.0   \n",
       "6806  [-0.13382287323474884, 0.014150858856737614, -...             1.0   \n",
       "6807  [0.062177881598472595, 0.08505070209503174, 0....             1.0   \n",
       "6808  [-0.04520072415471077, -0.05978447198867798, 0...             1.5   \n",
       "\n",
       "      host_response_time  \n",
       "0                      2  \n",
       "1                      4  \n",
       "2                      4  \n",
       "3                      4  \n",
       "4                      3  \n",
       "...                  ...  \n",
       "6804                   2  \n",
       "6805                   2  \n",
       "6806                   4  \n",
       "6807                   4  \n",
       "6808                   0  \n",
       "\n",
       "[6809 rows x 4 columns]"
      ]
     },
     "execution_count": 212,
     "metadata": {},
     "output_type": "execute_result"
    }
   ],
   "source": [
    "processedColumns['host_response_time']=encoding\n",
    "processedColumns"
   ]
  },
  {
   "attachments": {},
   "cell_type": "markdown",
   "metadata": {},
   "source": [
    "### host_response_rate"
   ]
  },
  {
   "cell_type": "code",
   "execution_count": 213,
   "metadata": {},
   "outputs": [],
   "source": [
    "encoding = le.fit_transform(data.host_response_rate)\n"
   ]
  },
  {
   "cell_type": "code",
   "execution_count": 214,
   "metadata": {},
   "outputs": [
    {
     "data": {
      "text/html": [
       "<div>\n",
       "<style scoped>\n",
       "    .dataframe tbody tr th:only-of-type {\n",
       "        vertical-align: middle;\n",
       "    }\n",
       "\n",
       "    .dataframe tbody tr th {\n",
       "        vertical-align: top;\n",
       "    }\n",
       "\n",
       "    .dataframe thead th {\n",
       "        text-align: right;\n",
       "    }\n",
       "</style>\n",
       "<table border=\"1\" class=\"dataframe\">\n",
       "  <thead>\n",
       "    <tr style=\"text-align: right;\">\n",
       "      <th></th>\n",
       "      <th>neighborhood_overview</th>\n",
       "      <th>host_about</th>\n",
       "      <th>bathrooms_text</th>\n",
       "      <th>host_response_time</th>\n",
       "      <th>host_response_rate</th>\n",
       "    </tr>\n",
       "  </thead>\n",
       "  <tbody>\n",
       "    <tr>\n",
       "      <th>0</th>\n",
       "      <td>[-0.11637205630540848, 0.09759077429771423, -0...</td>\n",
       "      <td>[-0.11637205630540848, 0.09759077429771423, -0...</td>\n",
       "      <td>1.5</td>\n",
       "      <td>2</td>\n",
       "      <td>36</td>\n",
       "    </tr>\n",
       "    <tr>\n",
       "      <th>1</th>\n",
       "      <td>[0.136016383767128, -0.015675336122512817, 0.0...</td>\n",
       "      <td>[0.1730751097202301, 0.013356110081076622, 0.0...</td>\n",
       "      <td>1.5</td>\n",
       "      <td>4</td>\n",
       "      <td>1</td>\n",
       "    </tr>\n",
       "    <tr>\n",
       "      <th>2</th>\n",
       "      <td>[0.06785199791193008, 0.060150280594825745, 0....</td>\n",
       "      <td>[-0.07525812089443207, 0.04363350197672844, 0....</td>\n",
       "      <td>1.0</td>\n",
       "      <td>4</td>\n",
       "      <td>1</td>\n",
       "    </tr>\n",
       "    <tr>\n",
       "      <th>3</th>\n",
       "      <td>[0.11301513016223907, -0.03934653848409653, 0....</td>\n",
       "      <td>[-0.019661905243992805, -0.026079228147864342,...</td>\n",
       "      <td>1.5</td>\n",
       "      <td>4</td>\n",
       "      <td>1</td>\n",
       "    </tr>\n",
       "    <tr>\n",
       "      <th>4</th>\n",
       "      <td>[0.054658882319927216, -0.059907153248786926, ...</td>\n",
       "      <td>[-0.09047619998455048, 0.04043954238295555, 0....</td>\n",
       "      <td>1.0</td>\n",
       "      <td>3</td>\n",
       "      <td>1</td>\n",
       "    </tr>\n",
       "    <tr>\n",
       "      <th>...</th>\n",
       "      <td>...</td>\n",
       "      <td>...</td>\n",
       "      <td>...</td>\n",
       "      <td>...</td>\n",
       "      <td>...</td>\n",
       "    </tr>\n",
       "    <tr>\n",
       "      <th>6804</th>\n",
       "      <td>[0.055526409298181534, -0.09739918261766434, 0...</td>\n",
       "      <td>[0.06065135821700096, -0.09856018424034119, 0....</td>\n",
       "      <td>1.0</td>\n",
       "      <td>2</td>\n",
       "      <td>29</td>\n",
       "    </tr>\n",
       "    <tr>\n",
       "      <th>6805</th>\n",
       "      <td>[-0.11637205630540848, 0.09759077429771423, -0...</td>\n",
       "      <td>[0.1282920241355896, 0.042223624885082245, 0.0...</td>\n",
       "      <td>1.0</td>\n",
       "      <td>2</td>\n",
       "      <td>1</td>\n",
       "    </tr>\n",
       "    <tr>\n",
       "      <th>6806</th>\n",
       "      <td>[-0.11637205630540848, 0.09759077429771423, -0...</td>\n",
       "      <td>[-0.13382287323474884, 0.014150858856737614, -...</td>\n",
       "      <td>1.0</td>\n",
       "      <td>4</td>\n",
       "      <td>1</td>\n",
       "    </tr>\n",
       "    <tr>\n",
       "      <th>6807</th>\n",
       "      <td>[0.11814238876104355, 0.06271287053823471, -0....</td>\n",
       "      <td>[0.062177881598472595, 0.08505070209503174, 0....</td>\n",
       "      <td>1.0</td>\n",
       "      <td>4</td>\n",
       "      <td>1</td>\n",
       "    </tr>\n",
       "    <tr>\n",
       "      <th>6808</th>\n",
       "      <td>[-0.11637203395366669, 0.09759080410003662, -0...</td>\n",
       "      <td>[-0.04520072415471077, -0.05978447198867798, 0...</td>\n",
       "      <td>1.5</td>\n",
       "      <td>0</td>\n",
       "      <td>49</td>\n",
       "    </tr>\n",
       "  </tbody>\n",
       "</table>\n",
       "<p>6809 rows × 5 columns</p>\n",
       "</div>"
      ],
      "text/plain": [
       "                                  neighborhood_overview  \\\n",
       "0     [-0.11637205630540848, 0.09759077429771423, -0...   \n",
       "1     [0.136016383767128, -0.015675336122512817, 0.0...   \n",
       "2     [0.06785199791193008, 0.060150280594825745, 0....   \n",
       "3     [0.11301513016223907, -0.03934653848409653, 0....   \n",
       "4     [0.054658882319927216, -0.059907153248786926, ...   \n",
       "...                                                 ...   \n",
       "6804  [0.055526409298181534, -0.09739918261766434, 0...   \n",
       "6805  [-0.11637205630540848, 0.09759077429771423, -0...   \n",
       "6806  [-0.11637205630540848, 0.09759077429771423, -0...   \n",
       "6807  [0.11814238876104355, 0.06271287053823471, -0....   \n",
       "6808  [-0.11637203395366669, 0.09759080410003662, -0...   \n",
       "\n",
       "                                             host_about  bathrooms_text  \\\n",
       "0     [-0.11637205630540848, 0.09759077429771423, -0...             1.5   \n",
       "1     [0.1730751097202301, 0.013356110081076622, 0.0...             1.5   \n",
       "2     [-0.07525812089443207, 0.04363350197672844, 0....             1.0   \n",
       "3     [-0.019661905243992805, -0.026079228147864342,...             1.5   \n",
       "4     [-0.09047619998455048, 0.04043954238295555, 0....             1.0   \n",
       "...                                                 ...             ...   \n",
       "6804  [0.06065135821700096, -0.09856018424034119, 0....             1.0   \n",
       "6805  [0.1282920241355896, 0.042223624885082245, 0.0...             1.0   \n",
       "6806  [-0.13382287323474884, 0.014150858856737614, -...             1.0   \n",
       "6807  [0.062177881598472595, 0.08505070209503174, 0....             1.0   \n",
       "6808  [-0.04520072415471077, -0.05978447198867798, 0...             1.5   \n",
       "\n",
       "      host_response_time  host_response_rate  \n",
       "0                      2                  36  \n",
       "1                      4                   1  \n",
       "2                      4                   1  \n",
       "3                      4                   1  \n",
       "4                      3                   1  \n",
       "...                  ...                 ...  \n",
       "6804                   2                  29  \n",
       "6805                   2                   1  \n",
       "6806                   4                   1  \n",
       "6807                   4                   1  \n",
       "6808                   0                  49  \n",
       "\n",
       "[6809 rows x 5 columns]"
      ]
     },
     "execution_count": 214,
     "metadata": {},
     "output_type": "execute_result"
    }
   ],
   "source": [
    "processedColumns['host_response_rate']=encoding\n",
    "processedColumns"
   ]
  },
  {
   "attachments": {},
   "cell_type": "markdown",
   "metadata": {},
   "source": [
    "### host_acceptance_rate"
   ]
  },
  {
   "cell_type": "code",
   "execution_count": 215,
   "metadata": {},
   "outputs": [],
   "source": [
    "encoding = le.fit_transform(data.host_acceptance_rate)"
   ]
  },
  {
   "cell_type": "code",
   "execution_count": 216,
   "metadata": {},
   "outputs": [
    {
     "data": {
      "text/html": [
       "<div>\n",
       "<style scoped>\n",
       "    .dataframe tbody tr th:only-of-type {\n",
       "        vertical-align: middle;\n",
       "    }\n",
       "\n",
       "    .dataframe tbody tr th {\n",
       "        vertical-align: top;\n",
       "    }\n",
       "\n",
       "    .dataframe thead th {\n",
       "        text-align: right;\n",
       "    }\n",
       "</style>\n",
       "<table border=\"1\" class=\"dataframe\">\n",
       "  <thead>\n",
       "    <tr style=\"text-align: right;\">\n",
       "      <th></th>\n",
       "      <th>neighborhood_overview</th>\n",
       "      <th>host_about</th>\n",
       "      <th>bathrooms_text</th>\n",
       "      <th>host_response_time</th>\n",
       "      <th>host_response_rate</th>\n",
       "      <th>host_acceptance_rate</th>\n",
       "    </tr>\n",
       "  </thead>\n",
       "  <tbody>\n",
       "    <tr>\n",
       "      <th>0</th>\n",
       "      <td>[-0.11637205630540848, 0.09759077429771423, -0...</td>\n",
       "      <td>[-0.11637205630540848, 0.09759077429771423, -0...</td>\n",
       "      <td>1.5</td>\n",
       "      <td>2</td>\n",
       "      <td>36</td>\n",
       "      <td>93</td>\n",
       "    </tr>\n",
       "    <tr>\n",
       "      <th>1</th>\n",
       "      <td>[0.136016383767128, -0.015675336122512817, 0.0...</td>\n",
       "      <td>[0.1730751097202301, 0.013356110081076622, 0.0...</td>\n",
       "      <td>1.5</td>\n",
       "      <td>4</td>\n",
       "      <td>1</td>\n",
       "      <td>2</td>\n",
       "    </tr>\n",
       "    <tr>\n",
       "      <th>2</th>\n",
       "      <td>[0.06785199791193008, 0.060150280594825745, 0....</td>\n",
       "      <td>[-0.07525812089443207, 0.04363350197672844, 0....</td>\n",
       "      <td>1.0</td>\n",
       "      <td>4</td>\n",
       "      <td>1</td>\n",
       "      <td>95</td>\n",
       "    </tr>\n",
       "    <tr>\n",
       "      <th>3</th>\n",
       "      <td>[0.11301513016223907, -0.03934653848409653, 0....</td>\n",
       "      <td>[-0.019661905243992805, -0.026079228147864342,...</td>\n",
       "      <td>1.5</td>\n",
       "      <td>4</td>\n",
       "      <td>1</td>\n",
       "      <td>2</td>\n",
       "    </tr>\n",
       "    <tr>\n",
       "      <th>4</th>\n",
       "      <td>[0.054658882319927216, -0.059907153248786926, ...</td>\n",
       "      <td>[-0.09047619998455048, 0.04043954238295555, 0....</td>\n",
       "      <td>1.0</td>\n",
       "      <td>3</td>\n",
       "      <td>1</td>\n",
       "      <td>2</td>\n",
       "    </tr>\n",
       "    <tr>\n",
       "      <th>...</th>\n",
       "      <td>...</td>\n",
       "      <td>...</td>\n",
       "      <td>...</td>\n",
       "      <td>...</td>\n",
       "      <td>...</td>\n",
       "      <td>...</td>\n",
       "    </tr>\n",
       "    <tr>\n",
       "      <th>6804</th>\n",
       "      <td>[0.055526409298181534, -0.09739918261766434, 0...</td>\n",
       "      <td>[0.06065135821700096, -0.09856018424034119, 0....</td>\n",
       "      <td>1.0</td>\n",
       "      <td>2</td>\n",
       "      <td>29</td>\n",
       "      <td>84</td>\n",
       "    </tr>\n",
       "    <tr>\n",
       "      <th>6805</th>\n",
       "      <td>[-0.11637205630540848, 0.09759077429771423, -0...</td>\n",
       "      <td>[0.1282920241355896, 0.042223624885082245, 0.0...</td>\n",
       "      <td>1.0</td>\n",
       "      <td>2</td>\n",
       "      <td>1</td>\n",
       "      <td>0</td>\n",
       "    </tr>\n",
       "    <tr>\n",
       "      <th>6806</th>\n",
       "      <td>[-0.11637205630540848, 0.09759077429771423, -0...</td>\n",
       "      <td>[-0.13382287323474884, 0.014150858856737614, -...</td>\n",
       "      <td>1.0</td>\n",
       "      <td>4</td>\n",
       "      <td>1</td>\n",
       "      <td>79</td>\n",
       "    </tr>\n",
       "    <tr>\n",
       "      <th>6807</th>\n",
       "      <td>[0.11814238876104355, 0.06271287053823471, -0....</td>\n",
       "      <td>[0.062177881598472595, 0.08505070209503174, 0....</td>\n",
       "      <td>1.0</td>\n",
       "      <td>4</td>\n",
       "      <td>1</td>\n",
       "      <td>96</td>\n",
       "    </tr>\n",
       "    <tr>\n",
       "      <th>6808</th>\n",
       "      <td>[-0.11637203395366669, 0.09759080410003662, -0...</td>\n",
       "      <td>[-0.04520072415471077, -0.05978447198867798, 0...</td>\n",
       "      <td>1.5</td>\n",
       "      <td>0</td>\n",
       "      <td>49</td>\n",
       "      <td>43</td>\n",
       "    </tr>\n",
       "  </tbody>\n",
       "</table>\n",
       "<p>6809 rows × 6 columns</p>\n",
       "</div>"
      ],
      "text/plain": [
       "                                  neighborhood_overview  \\\n",
       "0     [-0.11637205630540848, 0.09759077429771423, -0...   \n",
       "1     [0.136016383767128, -0.015675336122512817, 0.0...   \n",
       "2     [0.06785199791193008, 0.060150280594825745, 0....   \n",
       "3     [0.11301513016223907, -0.03934653848409653, 0....   \n",
       "4     [0.054658882319927216, -0.059907153248786926, ...   \n",
       "...                                                 ...   \n",
       "6804  [0.055526409298181534, -0.09739918261766434, 0...   \n",
       "6805  [-0.11637205630540848, 0.09759077429771423, -0...   \n",
       "6806  [-0.11637205630540848, 0.09759077429771423, -0...   \n",
       "6807  [0.11814238876104355, 0.06271287053823471, -0....   \n",
       "6808  [-0.11637203395366669, 0.09759080410003662, -0...   \n",
       "\n",
       "                                             host_about  bathrooms_text  \\\n",
       "0     [-0.11637205630540848, 0.09759077429771423, -0...             1.5   \n",
       "1     [0.1730751097202301, 0.013356110081076622, 0.0...             1.5   \n",
       "2     [-0.07525812089443207, 0.04363350197672844, 0....             1.0   \n",
       "3     [-0.019661905243992805, -0.026079228147864342,...             1.5   \n",
       "4     [-0.09047619998455048, 0.04043954238295555, 0....             1.0   \n",
       "...                                                 ...             ...   \n",
       "6804  [0.06065135821700096, -0.09856018424034119, 0....             1.0   \n",
       "6805  [0.1282920241355896, 0.042223624885082245, 0.0...             1.0   \n",
       "6806  [-0.13382287323474884, 0.014150858856737614, -...             1.0   \n",
       "6807  [0.062177881598472595, 0.08505070209503174, 0....             1.0   \n",
       "6808  [-0.04520072415471077, -0.05978447198867798, 0...             1.5   \n",
       "\n",
       "      host_response_time  host_response_rate  host_acceptance_rate  \n",
       "0                      2                  36                    93  \n",
       "1                      4                   1                     2  \n",
       "2                      4                   1                    95  \n",
       "3                      4                   1                     2  \n",
       "4                      3                   1                     2  \n",
       "...                  ...                 ...                   ...  \n",
       "6804                   2                  29                    84  \n",
       "6805                   2                   1                     0  \n",
       "6806                   4                   1                    79  \n",
       "6807                   4                   1                    96  \n",
       "6808                   0                  49                    43  \n",
       "\n",
       "[6809 rows x 6 columns]"
      ]
     },
     "execution_count": 216,
     "metadata": {},
     "output_type": "execute_result"
    }
   ],
   "source": [
    "processedColumns['host_acceptance_rate']=encoding\n",
    "processedColumns"
   ]
  },
  {
   "attachments": {},
   "cell_type": "markdown",
   "metadata": {},
   "source": [
    "### host_is_superhost"
   ]
  },
  {
   "cell_type": "code",
   "execution_count": 217,
   "metadata": {},
   "outputs": [],
   "source": [
    "encoding = le.fit_transform(data.host_is_superhost)"
   ]
  },
  {
   "cell_type": "code",
   "execution_count": 218,
   "metadata": {},
   "outputs": [
    {
     "data": {
      "text/plain": [
       "0       1\n",
       "1       2\n",
       "2       1\n",
       "3       2\n",
       "4       2\n",
       "       ..\n",
       "6804    2\n",
       "6805    1\n",
       "6806    1\n",
       "6807    2\n",
       "6808    1\n",
       "Name: host_is_superhost, Length: 6809, dtype: int32"
      ]
     },
     "execution_count": 218,
     "metadata": {},
     "output_type": "execute_result"
    }
   ],
   "source": [
    "processedColumns['host_is_superhost']=encoding\n",
    "processedColumns.host_is_superhost"
   ]
  },
  {
   "attachments": {},
   "cell_type": "markdown",
   "metadata": {},
   "source": [
    "### host_neighbourhood"
   ]
  },
  {
   "cell_type": "code",
   "execution_count": 219,
   "metadata": {},
   "outputs": [
    {
     "data": {
      "text/plain": [
       "UNK                                    3771\n",
       "Oud-West                                555\n",
       "Grachtengordel                          248\n",
       "De Pijp                                 229\n",
       "Jordaan                                 194\n",
       "Oosterparkbuurt                         152\n",
       "Bos en Lommer                           128\n",
       "Indische Buurt                          118\n",
       "Oost                                     88\n",
       "Nieuwmarkt en Lastage                    83\n",
       "Rivierenbuurt                            79\n",
       "Hoofddorppleinbuurt                      72\n",
       "Westelijke Eilanden                      70\n",
       "De Wallen                                69\n",
       "Weesperbuurt en Plantage                 66\n",
       "Amsterdam Centrum                        61\n",
       "Watergraafsmeer                          61\n",
       "Oostelijke Eilanden en Kadijken          58\n",
       "Zeeburg                                  56\n",
       "Oud-Zuid                                 51\n",
       "Frederik Hendrikbuurt                    51\n",
       "Museumkwartier                           46\n",
       "Spaarndammer en Zeeheldenbuurt           45\n",
       "Stadionbuurt                             44\n",
       "Slotervaart                              43\n",
       "IJplein en Vogelbuurt                    37\n",
       "Volewijck                                35\n",
       "Tuindorp Oostzaan                        33\n",
       "Osdorp                                   32\n",
       "Buiksloterham                            24\n",
       "Oostzanerwerf                            22\n",
       "Banne Buiksloot                          21\n",
       "Buikslotermeer                           19\n",
       "Overtoomse Veld                          19\n",
       "Buitenveldert-West                       18\n",
       "Kadoelen                                 15\n",
       "Tuindorp Buiksloot                       14\n",
       "Slotermeer-Noordoost                     13\n",
       "Slotermeer-Zuidwest                      11\n",
       "Landelijk Noord                          11\n",
       "Nieuwendam-Noord                         11\n",
       "Tuindorp Nieuwendam                       7\n",
       "Glòries - El Parc                         6\n",
       "Buitenveldert-Oost                        4\n",
       "Nieuwendammerdijk en Buiksloterdijk       4\n",
       "Koreatown                                 2\n",
       "Passy                                     1\n",
       "LB of Islington                           1\n",
       "Grand Place                               1\n",
       "Valdeacederas                             1\n",
       "Belváros                                  1\n",
       "Stockwell                                 1\n",
       "Sant Antoni                               1\n",
       "La Combe                                  1\n",
       "Nieuwendammerham                          1\n",
       "La Sagrada Família                        1\n",
       "Palermo Hollywood                         1\n",
       "Cannaregio                                1\n",
       "El Raval                                  1\n",
       "Name: host_neighbourhood, dtype: int64"
      ]
     },
     "execution_count": 219,
     "metadata": {},
     "output_type": "execute_result"
    }
   ],
   "source": [
    "data.host_neighbourhood.value_counts()"
   ]
  },
  {
   "cell_type": "code",
   "execution_count": 220,
   "metadata": {},
   "outputs": [
    {
     "data": {
      "text/plain": [
       "['Passy',\n",
       " 'LB of Islington',\n",
       " 'Grand Place',\n",
       " 'Valdeacederas',\n",
       " 'Belváros',\n",
       " 'Stockwell',\n",
       " 'Sant Antoni',\n",
       " 'La Combe',\n",
       " 'Nieuwendammerham',\n",
       " 'La Sagrada Família',\n",
       " 'Palermo Hollywood',\n",
       " 'Cannaregio',\n",
       " 'El Raval']"
      ]
     },
     "execution_count": 220,
     "metadata": {},
     "output_type": "execute_result"
    }
   ],
   "source": [
    "vc = data.host_neighbourhood.value_counts()\n",
    "single_neighborhoods = vc[vc == 1].index.tolist()\n",
    "\n",
    "data.loc[data['host_neighbourhood'].isin(single_neighborhoods), 'host_neighbourhood'] = 'other'\n",
    "\n",
    "single_neighborhoods"
   ]
  },
  {
   "cell_type": "code",
   "execution_count": 221,
   "metadata": {},
   "outputs": [
    {
     "data": {
      "text/plain": [
       "Tuindorp Nieuwendam                    7\n",
       "Glòries - El Parc                      6\n",
       "Buitenveldert-Oost                     4\n",
       "Nieuwendammerdijk en Buiksloterdijk    4\n",
       "Koreatown                              2\n",
       "Name: host_neighbourhood, dtype: int64"
      ]
     },
     "execution_count": 221,
     "metadata": {},
     "output_type": "execute_result"
    }
   ],
   "source": [
    "data.host_neighbourhood.value_counts().tail(5)"
   ]
  },
  {
   "cell_type": "code",
   "execution_count": 222,
   "metadata": {},
   "outputs": [
    {
     "data": {
      "text/plain": [
       "0       35\n",
       "1       14\n",
       "2       11\n",
       "3       44\n",
       "4        0\n",
       "        ..\n",
       "6804    22\n",
       "6805    28\n",
       "6806     7\n",
       "6807    43\n",
       "6808    31\n",
       "Name: host_neighbourhood, Length: 6809, dtype: int32"
      ]
     },
     "execution_count": 222,
     "metadata": {},
     "output_type": "execute_result"
    }
   ],
   "source": [
    "encoding = le.fit_transform(data.host_neighbourhood)\n",
    "processedColumns['host_neighbourhood']=encoding\n",
    "processedColumns.host_neighbourhood"
   ]
  },
  {
   "attachments": {},
   "cell_type": "markdown",
   "metadata": {},
   "source": [
    "### host_has_profile_pic"
   ]
  },
  {
   "cell_type": "code",
   "execution_count": 223,
   "metadata": {},
   "outputs": [
    {
     "data": {
      "text/plain": [
       "0       1\n",
       "1       1\n",
       "2       1\n",
       "3       1\n",
       "4       1\n",
       "       ..\n",
       "6804    1\n",
       "6805    1\n",
       "6806    1\n",
       "6807    1\n",
       "6808    1\n",
       "Name: host_has_profile_pic, Length: 6809, dtype: int32"
      ]
     },
     "execution_count": 223,
     "metadata": {},
     "output_type": "execute_result"
    }
   ],
   "source": [
    "encoding = le.fit_transform(data.host_has_profile_pic)\n",
    "processedColumns['host_has_profile_pic']=encoding\n",
    "processedColumns.host_has_profile_pic"
   ]
  },
  {
   "attachments": {},
   "cell_type": "markdown",
   "metadata": {},
   "source": [
    "### host_identity_verified"
   ]
  },
  {
   "cell_type": "code",
   "execution_count": 224,
   "metadata": {},
   "outputs": [
    {
     "data": {
      "text/plain": [
       "0       1\n",
       "1       1\n",
       "2       1\n",
       "3       1\n",
       "4       1\n",
       "       ..\n",
       "6804    1\n",
       "6805    1\n",
       "6806    1\n",
       "6807    1\n",
       "6808    1\n",
       "Name: host_identity_verified, Length: 6809, dtype: int32"
      ]
     },
     "execution_count": 224,
     "metadata": {},
     "output_type": "execute_result"
    }
   ],
   "source": [
    "encoding = le.fit_transform(data.host_identity_verified)\n",
    "processedColumns['host_identity_verified']=encoding\n",
    "processedColumns.host_identity_verified"
   ]
  },
  {
   "attachments": {},
   "cell_type": "markdown",
   "metadata": {},
   "source": [
    "### neighbourhood_cleansed"
   ]
  },
  {
   "cell_type": "code",
   "execution_count": 225,
   "metadata": {},
   "outputs": [
    {
     "data": {
      "text/plain": [
       "De Aker - Nieuw Sloten    54\n",
       "Bijlmer-Centrum           45\n",
       "Gaasperdam - Driemond     44\n",
       "Osdorp                    43\n",
       "Bijlmer-Oost              25\n",
       "Name: neighbourhood_cleansed, dtype: int64"
      ]
     },
     "execution_count": 225,
     "metadata": {},
     "output_type": "execute_result"
    }
   ],
   "source": [
    "data.neighbourhood_cleansed.value_counts().tail(5)"
   ]
  },
  {
   "cell_type": "code",
   "execution_count": 226,
   "metadata": {},
   "outputs": [
    {
     "data": {
      "text/plain": [
       "0       20\n",
       "1       14\n",
       "2        4\n",
       "3        5\n",
       "4        5\n",
       "        ..\n",
       "6804     4\n",
       "6805     7\n",
       "6806     8\n",
       "6807     4\n",
       "6808     8\n",
       "Name: neighbourhood_cleansed, Length: 6809, dtype: int32"
      ]
     },
     "execution_count": 226,
     "metadata": {},
     "output_type": "execute_result"
    }
   ],
   "source": [
    "encoding = le.fit_transform(data.neighbourhood_cleansed)\n",
    "processedColumns['neighbourhood_cleansed']=encoding\n",
    "processedColumns.neighbourhood_cleansed"
   ]
  },
  {
   "attachments": {},
   "cell_type": "markdown",
   "metadata": {},
   "source": [
    "### property_type"
   ]
  },
  {
   "cell_type": "code",
   "execution_count": 227,
   "metadata": {},
   "outputs": [
    {
     "data": {
      "text/plain": [
       "0       22\n",
       "1       36\n",
       "2       39\n",
       "3       33\n",
       "4       36\n",
       "        ..\n",
       "6804    22\n",
       "6805    14\n",
       "6806    14\n",
       "6807    22\n",
       "6808    14\n",
       "Name: property_type, Length: 6809, dtype: int32"
      ]
     },
     "execution_count": 227,
     "metadata": {},
     "output_type": "execute_result"
    }
   ],
   "source": [
    "encoding = le.fit_transform(data.property_type)\n",
    "processedColumns['property_type']=encoding\n",
    "processedColumns.property_type"
   ]
  },
  {
   "attachments": {},
   "cell_type": "markdown",
   "metadata": {},
   "source": [
    "### room_type"
   ]
  },
  {
   "cell_type": "code",
   "execution_count": 228,
   "metadata": {},
   "outputs": [
    {
     "data": {
      "text/plain": [
       "0       2\n",
       "1       2\n",
       "2       2\n",
       "3       2\n",
       "4       2\n",
       "       ..\n",
       "6804    2\n",
       "6805    0\n",
       "6806    0\n",
       "6807    2\n",
       "6808    0\n",
       "Name: room_type, Length: 6809, dtype: int32"
      ]
     },
     "execution_count": 228,
     "metadata": {},
     "output_type": "execute_result"
    }
   ],
   "source": [
    "encoding = le.fit_transform(data.room_type)\n",
    "processedColumns['room_type']=encoding\n",
    "processedColumns.room_type"
   ]
  },
  {
   "attachments": {},
   "cell_type": "markdown",
   "metadata": {},
   "source": [
    "## Numerical/date Columns - converted to regular numbers"
   ]
  },
  {
   "attachments": {},
   "cell_type": "markdown",
   "metadata": {},
   "source": [
    "### host_since"
   ]
  },
  {
   "cell_type": "code",
   "execution_count": 229,
   "metadata": {},
   "outputs": [
    {
     "data": {
      "text/plain": [
       "0       734664\n",
       "1       733309\n",
       "2       733743\n",
       "3       733854\n",
       "4       733905\n",
       "         ...  \n",
       "6804    734825\n",
       "6805    734829\n",
       "6806    734528\n",
       "6807    734830\n",
       "6808    734832\n",
       "Name: host_since, Length: 6809, dtype: int64"
      ]
     },
     "execution_count": 229,
     "metadata": {},
     "output_type": "execute_result"
    }
   ],
   "source": [
    "from datetime import date\n",
    "from datetime import datetime\n",
    "\n",
    "datetest =data.host_since.apply(lambda x: datetime.strptime(x, '%Y-%m-%d').date())\n",
    "time = datetest.apply(lambda x: x.toordinal())\n",
    "\n",
    "processedColumns['host_since']= pd.Series(time.tolist())\n",
    "processedColumns.host_since"
   ]
  },
  {
   "attachments": {},
   "cell_type": "markdown",
   "metadata": {},
   "source": [
    "### host_listings_count"
   ]
  },
  {
   "cell_type": "code",
   "execution_count": 230,
   "metadata": {},
   "outputs": [
    {
     "data": {
      "text/plain": [
       "0       1\n",
       "1       1\n",
       "2       3\n",
       "3       1\n",
       "4       2\n",
       "       ..\n",
       "6804    1\n",
       "6805    1\n",
       "6806    1\n",
       "6807    1\n",
       "6808    1\n",
       "Name: host_listings_count, Length: 6809, dtype: int64"
      ]
     },
     "execution_count": 230,
     "metadata": {},
     "output_type": "execute_result"
    }
   ],
   "source": [
    "processedColumns['host_listings_count']= data.host_listings_count\n",
    "processedColumns.host_listings_count"
   ]
  },
  {
   "attachments": {},
   "cell_type": "markdown",
   "metadata": {},
   "source": [
    "### bedrooms"
   ]
  },
  {
   "cell_type": "code",
   "execution_count": 231,
   "metadata": {},
   "outputs": [
    {
     "data": {
      "text/plain": [
       "0       1.0\n",
       "1       1.0\n",
       "2       1.0\n",
       "3       1.0\n",
       "4       1.0\n",
       "       ... \n",
       "6804    1.0\n",
       "6805    2.0\n",
       "6806    2.0\n",
       "6807    1.0\n",
       "6808    2.0\n",
       "Name: bedrooms, Length: 6809, dtype: float64"
      ]
     },
     "execution_count": 231,
     "metadata": {},
     "output_type": "execute_result"
    }
   ],
   "source": [
    "withoutNa = data.bedrooms.replace(\"UNK\",0)\n",
    "processedColumns[\"bedrooms\"]=withoutNa.astype(float)\n",
    "processedColumns.bedrooms"
   ]
  },
  {
   "attachments": {},
   "cell_type": "markdown",
   "metadata": {},
   "source": [
    "### beds"
   ]
  },
  {
   "cell_type": "code",
   "execution_count": 232,
   "metadata": {},
   "outputs": [
    {
     "data": {
      "text/plain": [
       "0       1.0\n",
       "1       2.0\n",
       "2       1.0\n",
       "3       1.0\n",
       "4       1.0\n",
       "       ... \n",
       "6804    1.0\n",
       "6805    2.0\n",
       "6806    2.0\n",
       "6807    1.0\n",
       "6808    2.0\n",
       "Name: beds, Length: 6809, dtype: float64"
      ]
     },
     "execution_count": 232,
     "metadata": {},
     "output_type": "execute_result"
    }
   ],
   "source": [
    "withoutNa=data.beds.replace('UNK', 0)\n",
    "processedColumns[\"beds\"]=withoutNa.astype(float)\n",
    "processedColumns.beds"
   ]
  },
  {
   "attachments": {},
   "cell_type": "markdown",
   "metadata": {},
   "source": [
    "### host_total_listings_count"
   ]
  },
  {
   "cell_type": "code",
   "execution_count": 233,
   "metadata": {},
   "outputs": [
    {
     "data": {
      "text/plain": [
       "0       1\n",
       "1       1\n",
       "2       5\n",
       "3       1\n",
       "4       2\n",
       "       ..\n",
       "6804    1\n",
       "6805    1\n",
       "6806    2\n",
       "6807    1\n",
       "6808    5\n",
       "Name: host_total_listings_count, Length: 6809, dtype: int64"
      ]
     },
     "execution_count": 233,
     "metadata": {},
     "output_type": "execute_result"
    }
   ],
   "source": [
    "\n",
    "processedColumns['host_total_listings_count']= data.host_total_listings_count\n",
    "processedColumns.host_total_listings_count"
   ]
  },
  {
   "attachments": {},
   "cell_type": "markdown",
   "metadata": {},
   "source": [
    "### accommodates"
   ]
  },
  {
   "cell_type": "code",
   "execution_count": 234,
   "metadata": {},
   "outputs": [
    {
     "data": {
      "text/plain": [
       "0       2\n",
       "1       2\n",
       "2       2\n",
       "3       2\n",
       "4       2\n",
       "       ..\n",
       "6804    2\n",
       "6805    4\n",
       "6806    3\n",
       "6807    2\n",
       "6808    6\n",
       "Name: accommodates, Length: 6809, dtype: int64"
      ]
     },
     "execution_count": 234,
     "metadata": {},
     "output_type": "execute_result"
    }
   ],
   "source": [
    "processedColumns['accommodates']= data.accommodates\n",
    "processedColumns.accommodates"
   ]
  },
  {
   "attachments": {},
   "cell_type": "markdown",
   "metadata": {},
   "source": [
    "### minimum_nights"
   ]
  },
  {
   "cell_type": "code",
   "execution_count": 235,
   "metadata": {},
   "outputs": [
    {
     "data": {
      "text/plain": [
       "0       2\n",
       "1       3\n",
       "2       1\n",
       "3       2\n",
       "4       2\n",
       "       ..\n",
       "6804    1\n",
       "6805    4\n",
       "6806    3\n",
       "6807    1\n",
       "6808    4\n",
       "Name: minimum_nights, Length: 6809, dtype: int64"
      ]
     },
     "execution_count": 235,
     "metadata": {},
     "output_type": "execute_result"
    }
   ],
   "source": [
    "processedColumns['minimum_nights']= data.minimum_nights\n",
    "processedColumns.minimum_nights"
   ]
  },
  {
   "attachments": {},
   "cell_type": "markdown",
   "metadata": {},
   "source": [
    "### maximum_nights"
   ]
  },
  {
   "cell_type": "code",
   "execution_count": 236,
   "metadata": {},
   "outputs": [
    {
     "data": {
      "text/plain": [
       "0         30\n",
       "1         28\n",
       "2        365\n",
       "3        356\n",
       "4       1825\n",
       "        ... \n",
       "6804    1125\n",
       "6805      14\n",
       "6806    1124\n",
       "6807      30\n",
       "6808      21\n",
       "Name: maximum_nights, Length: 6809, dtype: int64"
      ]
     },
     "execution_count": 236,
     "metadata": {},
     "output_type": "execute_result"
    }
   ],
   "source": [
    "processedColumns['maximum_nights']= data.maximum_nights\n",
    "processedColumns.maximum_nights"
   ]
  },
  {
   "attachments": {},
   "cell_type": "markdown",
   "metadata": {},
   "source": [
    "### minimum_minimum_nights"
   ]
  },
  {
   "cell_type": "code",
   "execution_count": 237,
   "metadata": {},
   "outputs": [
    {
     "data": {
      "text/plain": [
       "0       2\n",
       "1       3\n",
       "2       1\n",
       "3       2\n",
       "4       2\n",
       "       ..\n",
       "6804    1\n",
       "6805    4\n",
       "6806    3\n",
       "6807    1\n",
       "6808    3\n",
       "Name: minimum_minimum_nights, Length: 6809, dtype: int64"
      ]
     },
     "execution_count": 237,
     "metadata": {},
     "output_type": "execute_result"
    }
   ],
   "source": [
    "processedColumns['minimum_minimum_nights']= data.minimum_minimum_nights\n",
    "processedColumns.minimum_minimum_nights"
   ]
  },
  {
   "attachments": {},
   "cell_type": "markdown",
   "metadata": {},
   "source": [
    "### maximum_minimum_nights"
   ]
  },
  {
   "cell_type": "code",
   "execution_count": 238,
   "metadata": {},
   "outputs": [
    {
     "data": {
      "text/plain": [
       "0       2\n",
       "1       3\n",
       "2       1\n",
       "3       2\n",
       "4       2\n",
       "       ..\n",
       "6804    1\n",
       "6805    4\n",
       "6806    3\n",
       "6807    1\n",
       "6808    4\n",
       "Name: maximum_minimum_nights, Length: 6809, dtype: int64"
      ]
     },
     "execution_count": 238,
     "metadata": {},
     "output_type": "execute_result"
    }
   ],
   "source": [
    "processedColumns['maximum_minimum_nights']= data.maximum_minimum_nights\n",
    "processedColumns.maximum_minimum_nights"
   ]
  },
  {
   "attachments": {},
   "cell_type": "markdown",
   "metadata": {},
   "source": [
    "### minimum_maximum_nights"
   ]
  },
  {
   "cell_type": "code",
   "execution_count": 239,
   "metadata": {},
   "outputs": [
    {
     "data": {
      "text/plain": [
       "0         30\n",
       "1       1125\n",
       "2       1125\n",
       "3       1125\n",
       "4       1825\n",
       "        ... \n",
       "6804    1125\n",
       "6805      14\n",
       "6806    1124\n",
       "6807      30\n",
       "6808       4\n",
       "Name: minimum_maximum_nights, Length: 6809, dtype: int64"
      ]
     },
     "execution_count": 239,
     "metadata": {},
     "output_type": "execute_result"
    }
   ],
   "source": [
    "processedColumns['minimum_maximum_nights']= data.minimum_maximum_nights\n",
    "processedColumns.minimum_maximum_nights"
   ]
  },
  {
   "attachments": {},
   "cell_type": "markdown",
   "metadata": {},
   "source": [
    "### maximum_maximum_nights"
   ]
  },
  {
   "cell_type": "code",
   "execution_count": 240,
   "metadata": {},
   "outputs": [
    {
     "data": {
      "text/plain": [
       "0         30\n",
       "1       1125\n",
       "2       1125\n",
       "3       1125\n",
       "4       1825\n",
       "        ... \n",
       "6804    1125\n",
       "6805      14\n",
       "6806    1124\n",
       "6807      30\n",
       "6808      21\n",
       "Name: maximum_maximum_nights, Length: 6809, dtype: int64"
      ]
     },
     "execution_count": 240,
     "metadata": {},
     "output_type": "execute_result"
    }
   ],
   "source": [
    "processedColumns['maximum_maximum_nights']= data.maximum_maximum_nights\n",
    "processedColumns.maximum_maximum_nights"
   ]
  },
  {
   "attachments": {},
   "cell_type": "markdown",
   "metadata": {},
   "source": [
    "### minimum_nights_avg_ntm"
   ]
  },
  {
   "cell_type": "code",
   "execution_count": 241,
   "metadata": {},
   "outputs": [
    {
     "data": {
      "text/plain": [
       "0       2.0\n",
       "1       3.0\n",
       "2       1.0\n",
       "3       2.0\n",
       "4       2.0\n",
       "       ... \n",
       "6804    1.0\n",
       "6805    4.0\n",
       "6806    3.0\n",
       "6807    1.0\n",
       "6808    4.0\n",
       "Name: minimum_nights_avg_ntm, Length: 6809, dtype: float64"
      ]
     },
     "execution_count": 241,
     "metadata": {},
     "output_type": "execute_result"
    }
   ],
   "source": [
    "processedColumns['minimum_nights_avg_ntm']= data.minimum_nights_avg_ntm\n",
    "processedColumns.minimum_nights_avg_ntm"
   ]
  },
  {
   "attachments": {},
   "cell_type": "markdown",
   "metadata": {},
   "source": [
    "### maximum_nights_avg_ntm"
   ]
  },
  {
   "cell_type": "code",
   "execution_count": 242,
   "metadata": {},
   "outputs": [
    {
     "data": {
      "text/plain": [
       "0         30.0\n",
       "1       1125.0\n",
       "2       1125.0\n",
       "3       1125.0\n",
       "4       1825.0\n",
       "         ...  \n",
       "6804    1125.0\n",
       "6805      14.0\n",
       "6806    1124.0\n",
       "6807      30.0\n",
       "6808      20.8\n",
       "Name: maximum_nights_avg_ntm, Length: 6809, dtype: float64"
      ]
     },
     "execution_count": 242,
     "metadata": {},
     "output_type": "execute_result"
    }
   ],
   "source": [
    "processedColumns['maximum_nights_avg_ntm']= data.maximum_nights_avg_ntm\n",
    "processedColumns.maximum_nights_avg_ntm"
   ]
  },
  {
   "attachments": {},
   "cell_type": "markdown",
   "metadata": {},
   "source": [
    "### number_of_reviews"
   ]
  },
  {
   "cell_type": "code",
   "execution_count": 243,
   "metadata": {},
   "outputs": [
    {
     "data": {
      "text/plain": [
       "0        248\n",
       "1        314\n",
       "2        339\n",
       "3        243\n",
       "4        454\n",
       "        ... \n",
       "6804     343\n",
       "6805      18\n",
       "6806      97\n",
       "6807    1060\n",
       "6808      17\n",
       "Name: number_of_reviews, Length: 6809, dtype: int64"
      ]
     },
     "execution_count": 243,
     "metadata": {},
     "output_type": "execute_result"
    }
   ],
   "source": [
    "processedColumns['number_of_reviews']= data.number_of_reviews\n",
    "processedColumns.number_of_reviews"
   ]
  },
  {
   "attachments": {},
   "cell_type": "markdown",
   "metadata": {},
   "source": [
    "### number_of_reviews_l30d"
   ]
  },
  {
   "cell_type": "code",
   "execution_count": 244,
   "metadata": {},
   "outputs": [
    {
     "data": {
      "text/plain": [
       "0        3\n",
       "1        1\n",
       "2        0\n",
       "3        5\n",
       "4        7\n",
       "        ..\n",
       "6804     0\n",
       "6805     0\n",
       "6806     0\n",
       "6807    10\n",
       "6808     0\n",
       "Name: number_of_reviews_l30d, Length: 6809, dtype: int64"
      ]
     },
     "execution_count": 244,
     "metadata": {},
     "output_type": "execute_result"
    }
   ],
   "source": [
    "processedColumns['number_of_reviews_l30d']= data.number_of_reviews_l30d\n",
    "processedColumns.number_of_reviews_l30d"
   ]
  },
  {
   "attachments": {},
   "cell_type": "markdown",
   "metadata": {},
   "source": [
    "### first_review"
   ]
  },
  {
   "cell_type": "code",
   "execution_count": 245,
   "metadata": {},
   "outputs": [
    {
     "data": {
      "text/plain": [
       "0       2016-10-06\n",
       "1       2009-03-30\n",
       "2       2010-03-02\n",
       "3       2012-01-09\n",
       "4       2010-08-22\n",
       "           ...    \n",
       "6804    2013-02-19\n",
       "6805    2013-01-04\n",
       "6806    2013-05-14\n",
       "6807    2012-11-29\n",
       "6808    2013-02-26\n",
       "Name: first_review, Length: 6809, dtype: object"
      ]
     },
     "execution_count": 245,
     "metadata": {},
     "output_type": "execute_result"
    }
   ],
   "source": [
    "data.first_review"
   ]
  },
  {
   "cell_type": "code",
   "execution_count": 246,
   "metadata": {},
   "outputs": [
    {
     "data": {
      "text/plain": [
       "0       736243\n",
       "1       733496\n",
       "2       733833\n",
       "3       734511\n",
       "4       734006\n",
       "         ...  \n",
       "6804    734918\n",
       "6805    734872\n",
       "6806    735002\n",
       "6807    734836\n",
       "6808    734925\n",
       "Name: first_review, Length: 6809, dtype: int64"
      ]
     },
     "execution_count": 246,
     "metadata": {},
     "output_type": "execute_result"
    }
   ],
   "source": [
    "timeData = data['first_review'].apply(lambda x: pd.Timestamp(x).toordinal() if x != 'UNK' else 0)\n",
    "processedColumns['first_review']= pd.Series(timeData.tolist())\n",
    "processedColumns.first_review"
   ]
  },
  {
   "attachments": {},
   "cell_type": "markdown",
   "metadata": {},
   "source": [
    "### last_review\n"
   ]
  },
  {
   "cell_type": "code",
   "execution_count": 247,
   "metadata": {},
   "outputs": [
    {
     "data": {
      "text/plain": [
       "0       738487\n",
       "1       738465\n",
       "2       737524\n",
       "3       738486\n",
       "4       738479\n",
       "         ...  \n",
       "6804    738449\n",
       "6805    737473\n",
       "6806    738445\n",
       "6807    738492\n",
       "6808    738411\n",
       "Name: last_review, Length: 6809, dtype: int64"
      ]
     },
     "execution_count": 247,
     "metadata": {},
     "output_type": "execute_result"
    }
   ],
   "source": [
    "timeData = data['last_review'].apply(lambda x: pd.Timestamp(x).toordinal() if x != 'UNK' else 0)\n",
    "processedColumns['last_review']= pd.Series(timeData.tolist())\n",
    "processedColumns.last_review"
   ]
  },
  {
   "attachments": {},
   "cell_type": "markdown",
   "metadata": {},
   "source": [
    "### calculated_host_listings_count_entire_homes"
   ]
  },
  {
   "cell_type": "code",
   "execution_count": 248,
   "metadata": {},
   "outputs": [
    {
     "data": {
      "text/plain": [
       "0       0\n",
       "1       0\n",
       "2       0\n",
       "3       0\n",
       "4       0\n",
       "       ..\n",
       "6804    0\n",
       "6805    1\n",
       "6806    1\n",
       "6807    0\n",
       "6808    1\n",
       "Name: calculated_host_listings_count_entire_homes, Length: 6809, dtype: int64"
      ]
     },
     "execution_count": 248,
     "metadata": {},
     "output_type": "execute_result"
    }
   ],
   "source": [
    "processedColumns['calculated_host_listings_count_entire_homes']= data.calculated_host_listings_count_entire_homes\n",
    "processedColumns.calculated_host_listings_count_entire_homes"
   ]
  },
  {
   "attachments": {},
   "cell_type": "markdown",
   "metadata": {},
   "source": [
    "### calculated_host_listings_count_private_rooms"
   ]
  },
  {
   "cell_type": "code",
   "execution_count": 249,
   "metadata": {},
   "outputs": [
    {
     "data": {
      "text/plain": [
       "0       1\n",
       "1       1\n",
       "2       2\n",
       "3       1\n",
       "4       2\n",
       "       ..\n",
       "6804    1\n",
       "6805    0\n",
       "6806    0\n",
       "6807    1\n",
       "6808    0\n",
       "Name: calculated_host_listings_count_private_rooms, Length: 6809, dtype: int64"
      ]
     },
     "execution_count": 249,
     "metadata": {},
     "output_type": "execute_result"
    }
   ],
   "source": [
    "processedColumns['calculated_host_listings_count_private_rooms']= data.calculated_host_listings_count_private_rooms\n",
    "processedColumns.calculated_host_listings_count_private_rooms"
   ]
  },
  {
   "attachments": {},
   "cell_type": "markdown",
   "metadata": {},
   "source": [
    "### calculated_host_listings_count_shared_rooms"
   ]
  },
  {
   "cell_type": "code",
   "execution_count": 250,
   "metadata": {},
   "outputs": [
    {
     "data": {
      "text/plain": [
       "0       0\n",
       "1       0\n",
       "2       0\n",
       "3       0\n",
       "4       0\n",
       "       ..\n",
       "6804    0\n",
       "6805    0\n",
       "6806    0\n",
       "6807    0\n",
       "6808    0\n",
       "Name: calculated_host_listings_count_shared_rooms, Length: 6809, dtype: int64"
      ]
     },
     "execution_count": 250,
     "metadata": {},
     "output_type": "execute_result"
    }
   ],
   "source": [
    "processedColumns['calculated_host_listings_count_shared_rooms']= data.calculated_host_listings_count_shared_rooms\n",
    "processedColumns.calculated_host_listings_count_shared_rooms"
   ]
  },
  {
   "attachments": {},
   "cell_type": "markdown",
   "metadata": {},
   "source": [
    "### reviews_per_month"
   ]
  },
  {
   "cell_type": "code",
   "execution_count": 251,
   "metadata": {},
   "outputs": [
    {
     "data": {
      "text/plain": [
       "0       3.30\n",
       "1       1.88\n",
       "2       2.18\n",
       "3       1.83\n",
       "4       3.03\n",
       "        ... \n",
       "6804    2.88\n",
       "6805    0.15\n",
       "6806    0.83\n",
       "6807    8.69\n",
       "6808    0.14\n",
       "Name: reviews_per_month, Length: 6809, dtype: float64"
      ]
     },
     "execution_count": 251,
     "metadata": {},
     "output_type": "execute_result"
    }
   ],
   "source": [
    "withoutUNK = data.reviews_per_month.replace('UNK', 0)\n",
    "processedColumns['reviews_per_month']= withoutUNK.astype(float)\n",
    "processedColumns.reviews_per_month"
   ]
  },
  {
   "attachments": {},
   "cell_type": "markdown",
   "metadata": {},
   "source": [
    "# Procesed Columns vizualization"
   ]
  },
  {
   "cell_type": "code",
   "execution_count": 252,
   "metadata": {},
   "outputs": [
    {
     "data": {
      "text/html": [
       "<div>\n",
       "<style scoped>\n",
       "    .dataframe tbody tr th:only-of-type {\n",
       "        vertical-align: middle;\n",
       "    }\n",
       "\n",
       "    .dataframe tbody tr th {\n",
       "        vertical-align: top;\n",
       "    }\n",
       "\n",
       "    .dataframe thead th {\n",
       "        text-align: right;\n",
       "    }\n",
       "</style>\n",
       "<table border=\"1\" class=\"dataframe\">\n",
       "  <thead>\n",
       "    <tr style=\"text-align: right;\">\n",
       "      <th></th>\n",
       "      <th>neighborhood_overview</th>\n",
       "      <th>host_about</th>\n",
       "    </tr>\n",
       "  </thead>\n",
       "  <tbody>\n",
       "    <tr>\n",
       "      <th>0</th>\n",
       "      <td>[-0.11637205630540848, 0.09759077429771423, -0...</td>\n",
       "      <td>[-0.11637205630540848, 0.09759077429771423, -0...</td>\n",
       "    </tr>\n",
       "    <tr>\n",
       "      <th>1</th>\n",
       "      <td>[0.136016383767128, -0.015675336122512817, 0.0...</td>\n",
       "      <td>[0.1730751097202301, 0.013356110081076622, 0.0...</td>\n",
       "    </tr>\n",
       "    <tr>\n",
       "      <th>2</th>\n",
       "      <td>[0.06785199791193008, 0.060150280594825745, 0....</td>\n",
       "      <td>[-0.07525812089443207, 0.04363350197672844, 0....</td>\n",
       "    </tr>\n",
       "    <tr>\n",
       "      <th>3</th>\n",
       "      <td>[0.11301513016223907, -0.03934653848409653, 0....</td>\n",
       "      <td>[-0.019661905243992805, -0.026079228147864342,...</td>\n",
       "    </tr>\n",
       "    <tr>\n",
       "      <th>4</th>\n",
       "      <td>[0.054658882319927216, -0.059907153248786926, ...</td>\n",
       "      <td>[-0.09047619998455048, 0.04043954238295555, 0....</td>\n",
       "    </tr>\n",
       "    <tr>\n",
       "      <th>...</th>\n",
       "      <td>...</td>\n",
       "      <td>...</td>\n",
       "    </tr>\n",
       "    <tr>\n",
       "      <th>6804</th>\n",
       "      <td>[0.055526409298181534, -0.09739918261766434, 0...</td>\n",
       "      <td>[0.06065135821700096, -0.09856018424034119, 0....</td>\n",
       "    </tr>\n",
       "    <tr>\n",
       "      <th>6805</th>\n",
       "      <td>[-0.11637205630540848, 0.09759077429771423, -0...</td>\n",
       "      <td>[0.1282920241355896, 0.042223624885082245, 0.0...</td>\n",
       "    </tr>\n",
       "    <tr>\n",
       "      <th>6806</th>\n",
       "      <td>[-0.11637205630540848, 0.09759077429771423, -0...</td>\n",
       "      <td>[-0.13382287323474884, 0.014150858856737614, -...</td>\n",
       "    </tr>\n",
       "    <tr>\n",
       "      <th>6807</th>\n",
       "      <td>[0.11814238876104355, 0.06271287053823471, -0....</td>\n",
       "      <td>[0.062177881598472595, 0.08505070209503174, 0....</td>\n",
       "    </tr>\n",
       "    <tr>\n",
       "      <th>6808</th>\n",
       "      <td>[-0.11637203395366669, 0.09759080410003662, -0...</td>\n",
       "      <td>[-0.04520072415471077, -0.05978447198867798, 0...</td>\n",
       "    </tr>\n",
       "  </tbody>\n",
       "</table>\n",
       "<p>6809 rows × 2 columns</p>\n",
       "</div>"
      ],
      "text/plain": [
       "                                  neighborhood_overview  \\\n",
       "0     [-0.11637205630540848, 0.09759077429771423, -0...   \n",
       "1     [0.136016383767128, -0.015675336122512817, 0.0...   \n",
       "2     [0.06785199791193008, 0.060150280594825745, 0....   \n",
       "3     [0.11301513016223907, -0.03934653848409653, 0....   \n",
       "4     [0.054658882319927216, -0.059907153248786926, ...   \n",
       "...                                                 ...   \n",
       "6804  [0.055526409298181534, -0.09739918261766434, 0...   \n",
       "6805  [-0.11637205630540848, 0.09759077429771423, -0...   \n",
       "6806  [-0.11637205630540848, 0.09759077429771423, -0...   \n",
       "6807  [0.11814238876104355, 0.06271287053823471, -0....   \n",
       "6808  [-0.11637203395366669, 0.09759080410003662, -0...   \n",
       "\n",
       "                                             host_about  \n",
       "0     [-0.11637205630540848, 0.09759077429771423, -0...  \n",
       "1     [0.1730751097202301, 0.013356110081076622, 0.0...  \n",
       "2     [-0.07525812089443207, 0.04363350197672844, 0....  \n",
       "3     [-0.019661905243992805, -0.026079228147864342,...  \n",
       "4     [-0.09047619998455048, 0.04043954238295555, 0....  \n",
       "...                                                 ...  \n",
       "6804  [0.06065135821700096, -0.09856018424034119, 0....  \n",
       "6805  [0.1282920241355896, 0.042223624885082245, 0.0...  \n",
       "6806  [-0.13382287323474884, 0.014150858856737614, -...  \n",
       "6807  [0.062177881598472595, 0.08505070209503174, 0....  \n",
       "6808  [-0.04520072415471077, -0.05978447198867798, 0...  \n",
       "\n",
       "[6809 rows x 2 columns]"
      ]
     },
     "execution_count": 252,
     "metadata": {},
     "output_type": "execute_result"
    }
   ],
   "source": [
    "processedColumns.select_dtypes(include=['object'])"
   ]
  },
  {
   "attachments": {},
   "cell_type": "markdown",
   "metadata": {},
   "source": [
    "# PCA"
   ]
  },
  {
   "cell_type": "code",
   "execution_count": 253,
   "metadata": {},
   "outputs": [
    {
     "name": "stdout",
     "output_type": "stream",
     "text": [
      "           PC1       PC2\n",
      "0     1.862965  0.371069\n",
      "1     3.081613  0.879421\n",
      "2     3.279460  0.797795\n",
      "3     3.355653  0.917546\n",
      "4     5.011950  1.605685\n",
      "...        ...       ...\n",
      "6780  2.924249  0.829333\n",
      "6781 -0.895863 -0.405280\n",
      "6782  0.087496 -0.118482\n",
      "6783  7.090716  2.029941\n",
      "6784 -2.019821 -0.744739\n",
      "\n",
      "[6785 rows x 2 columns]\n"
     ]
    }
   ],
   "source": [
    "### save\n",
    "import pandas as pd\n",
    "from sklearn.decomposition import PCA\n",
    "from sklearn.preprocessing import StandardScaler\n",
    "\n",
    "# select numeric columns\n",
    "df_numeric = processedColumns.select_dtypes(include=['int', 'float'])\n",
    "\n",
    "# drop na values\n",
    "df_numeric.dropna(inplace=True)\n",
    "\n",
    "# instantiate a StandardScaler object\n",
    "scaler = StandardScaler()\n",
    "\n",
    "# scale the data\n",
    "scaled_df = scaler.fit_transform(df_numeric)\n",
    "\n",
    "# instantiate a PCA object\n",
    "pca = PCA(n_components=2)\n",
    "\n",
    "# fit and transform the scaled data\n",
    "pca_df = pca.fit_transform(scaled_df)\n",
    "\n",
    "# create a new dataframe from the transformed data\n",
    "pca_df = pd.DataFrame(data=pca_df, columns=['PC1', 'PC2'])\n",
    "\n",
    "# display the resulting dataframe\n",
    "print(pca_df)"
   ]
  },
  {
   "attachments": {},
   "cell_type": "markdown",
   "metadata": {},
   "source": [
    "# TEST"
   ]
  },
  {
   "cell_type": "code",
   "execution_count": 168,
   "metadata": {},
   "outputs": [
    {
     "name": "stdout",
     "output_type": "stream",
     "text": [
      "[0.95735152 0.01600707]\n"
     ]
    }
   ],
   "source": [
    "import pandas as pd\n",
    "from sentence_transformers import SentenceTransformer\n",
    "from sklearn.decomposition import PCA\n",
    "\n",
    "# Load pre-trained SentenceTransformer model\n",
    "model = SentenceTransformer('all-MiniLM-L6-v2')\n",
    "\n",
    "# Create a Pandas DataFrame with numerical columns and a text column for embeddings\n",
    "data = pd.DataFrame({\n",
    "    'numerical1': [1, 2, 3, 4, 5],\n",
    "    'numerical2': [2, 4, 6, 8, 10],\n",
    "    'text_embeddings': ['The quick brown fox jumps over the lazy dog', \n",
    "                        'The cat in the hat', \n",
    "                        'The sky is blue', \n",
    "                        'The grass is green', \n",
    "                        'The sun is shining']\n",
    "})\n",
    "\n",
    "# Generate embeddings for the text column\n",
    "embeddings = model.encode(data['text_embeddings'])\n",
    "\n",
    "# Convert embeddings to a DataFrame with string column names\n",
    "embedding_df = pd.DataFrame(embeddings, columns=[f'embedding_{i+1}' for i in range(embeddings.shape[1])])\n",
    "\n",
    "# Concatenate the numerical columns and the embeddings into a single DataFrame\n",
    "data_with_embeddings = pd.concat([data[['numerical1', 'numerical2']], embedding_df], axis=1)\n",
    "\n",
    "# Convert column names to strings\n",
    "data_with_embeddings.columns = data_with_embeddings.columns.astype(str)\n",
    "\n",
    "# Create a PCA object with 2 components\n",
    "pca = PCA(n_components=2)\n",
    "\n",
    "# Fit and transform the data to 2 principal components\n",
    "principal_components = pca.fit_transform(data_with_embeddings)\n",
    "\n",
    "# Convert principal components to a DataFrame with string column names\n",
    "principal_df = pd.DataFrame(data=principal_components, columns=['PC1', 'PC2'])\n",
    "\n",
    "# Concatenate the principal components with the original data\n",
    "result_df = pd.concat([principal_df, data_with_embeddings], axis=1)\n",
    "\n",
    "# Print the explained variance ratio of the 2 components\n",
    "print(pca.explained_variance_ratio_)\n"
   ]
  },
  {
   "cell_type": "code",
   "execution_count": 255,
   "metadata": {},
   "outputs": [
    {
     "data": {
      "text/html": [
       "<div>\n",
       "<style scoped>\n",
       "    .dataframe tbody tr th:only-of-type {\n",
       "        vertical-align: middle;\n",
       "    }\n",
       "\n",
       "    .dataframe tbody tr th {\n",
       "        vertical-align: top;\n",
       "    }\n",
       "\n",
       "    .dataframe thead th {\n",
       "        text-align: right;\n",
       "    }\n",
       "</style>\n",
       "<table border=\"1\" class=\"dataframe\">\n",
       "  <thead>\n",
       "    <tr style=\"text-align: right;\">\n",
       "      <th></th>\n",
       "      <th>neighborhood_overview</th>\n",
       "      <th>host_about</th>\n",
       "      <th>bathrooms_text</th>\n",
       "      <th>host_response_time</th>\n",
       "      <th>host_response_rate</th>\n",
       "      <th>host_acceptance_rate</th>\n",
       "      <th>host_is_superhost</th>\n",
       "      <th>host_neighbourhood</th>\n",
       "      <th>host_has_profile_pic</th>\n",
       "      <th>host_identity_verified</th>\n",
       "      <th>...</th>\n",
       "      <th>minimum_nights_avg_ntm</th>\n",
       "      <th>maximum_nights_avg_ntm</th>\n",
       "      <th>number_of_reviews</th>\n",
       "      <th>number_of_reviews_l30d</th>\n",
       "      <th>first_review</th>\n",
       "      <th>last_review</th>\n",
       "      <th>calculated_host_listings_count_entire_homes</th>\n",
       "      <th>calculated_host_listings_count_private_rooms</th>\n",
       "      <th>calculated_host_listings_count_shared_rooms</th>\n",
       "      <th>reviews_per_month</th>\n",
       "    </tr>\n",
       "  </thead>\n",
       "  <tbody>\n",
       "    <tr>\n",
       "      <th>0</th>\n",
       "      <td>[-0.11637205630540848, 0.09759077429771423, -0...</td>\n",
       "      <td>[-0.11637205630540848, 0.09759077429771423, -0...</td>\n",
       "      <td>1.5</td>\n",
       "      <td>2</td>\n",
       "      <td>36</td>\n",
       "      <td>93</td>\n",
       "      <td>1</td>\n",
       "      <td>35</td>\n",
       "      <td>1</td>\n",
       "      <td>1</td>\n",
       "      <td>...</td>\n",
       "      <td>2.0</td>\n",
       "      <td>30.0</td>\n",
       "      <td>248</td>\n",
       "      <td>3</td>\n",
       "      <td>736243</td>\n",
       "      <td>738487</td>\n",
       "      <td>0</td>\n",
       "      <td>1</td>\n",
       "      <td>0</td>\n",
       "      <td>3.30</td>\n",
       "    </tr>\n",
       "    <tr>\n",
       "      <th>1</th>\n",
       "      <td>[0.136016383767128, -0.015675336122512817, 0.0...</td>\n",
       "      <td>[0.1730751097202301, 0.013356110081076622, 0.0...</td>\n",
       "      <td>1.5</td>\n",
       "      <td>4</td>\n",
       "      <td>1</td>\n",
       "      <td>2</td>\n",
       "      <td>2</td>\n",
       "      <td>14</td>\n",
       "      <td>1</td>\n",
       "      <td>1</td>\n",
       "      <td>...</td>\n",
       "      <td>3.0</td>\n",
       "      <td>1125.0</td>\n",
       "      <td>314</td>\n",
       "      <td>1</td>\n",
       "      <td>733496</td>\n",
       "      <td>738465</td>\n",
       "      <td>0</td>\n",
       "      <td>1</td>\n",
       "      <td>0</td>\n",
       "      <td>1.88</td>\n",
       "    </tr>\n",
       "    <tr>\n",
       "      <th>2</th>\n",
       "      <td>[0.06785199791193008, 0.060150280594825745, 0....</td>\n",
       "      <td>[-0.07525812089443207, 0.04363350197672844, 0....</td>\n",
       "      <td>1.0</td>\n",
       "      <td>4</td>\n",
       "      <td>1</td>\n",
       "      <td>95</td>\n",
       "      <td>1</td>\n",
       "      <td>11</td>\n",
       "      <td>1</td>\n",
       "      <td>1</td>\n",
       "      <td>...</td>\n",
       "      <td>1.0</td>\n",
       "      <td>1125.0</td>\n",
       "      <td>339</td>\n",
       "      <td>0</td>\n",
       "      <td>733833</td>\n",
       "      <td>737524</td>\n",
       "      <td>0</td>\n",
       "      <td>2</td>\n",
       "      <td>0</td>\n",
       "      <td>2.18</td>\n",
       "    </tr>\n",
       "    <tr>\n",
       "      <th>3</th>\n",
       "      <td>[0.11301513016223907, -0.03934653848409653, 0....</td>\n",
       "      <td>[-0.019661905243992805, -0.026079228147864342,...</td>\n",
       "      <td>1.5</td>\n",
       "      <td>4</td>\n",
       "      <td>1</td>\n",
       "      <td>2</td>\n",
       "      <td>2</td>\n",
       "      <td>44</td>\n",
       "      <td>1</td>\n",
       "      <td>1</td>\n",
       "      <td>...</td>\n",
       "      <td>2.0</td>\n",
       "      <td>1125.0</td>\n",
       "      <td>243</td>\n",
       "      <td>5</td>\n",
       "      <td>734511</td>\n",
       "      <td>738486</td>\n",
       "      <td>0</td>\n",
       "      <td>1</td>\n",
       "      <td>0</td>\n",
       "      <td>1.83</td>\n",
       "    </tr>\n",
       "    <tr>\n",
       "      <th>4</th>\n",
       "      <td>[0.054658882319927216, -0.059907153248786926, ...</td>\n",
       "      <td>[-0.09047619998455048, 0.04043954238295555, 0....</td>\n",
       "      <td>1.0</td>\n",
       "      <td>3</td>\n",
       "      <td>1</td>\n",
       "      <td>2</td>\n",
       "      <td>2</td>\n",
       "      <td>0</td>\n",
       "      <td>1</td>\n",
       "      <td>1</td>\n",
       "      <td>...</td>\n",
       "      <td>2.0</td>\n",
       "      <td>1825.0</td>\n",
       "      <td>454</td>\n",
       "      <td>7</td>\n",
       "      <td>734006</td>\n",
       "      <td>738479</td>\n",
       "      <td>0</td>\n",
       "      <td>2</td>\n",
       "      <td>0</td>\n",
       "      <td>3.03</td>\n",
       "    </tr>\n",
       "    <tr>\n",
       "      <th>...</th>\n",
       "      <td>...</td>\n",
       "      <td>...</td>\n",
       "      <td>...</td>\n",
       "      <td>...</td>\n",
       "      <td>...</td>\n",
       "      <td>...</td>\n",
       "      <td>...</td>\n",
       "      <td>...</td>\n",
       "      <td>...</td>\n",
       "      <td>...</td>\n",
       "      <td>...</td>\n",
       "      <td>...</td>\n",
       "      <td>...</td>\n",
       "      <td>...</td>\n",
       "      <td>...</td>\n",
       "      <td>...</td>\n",
       "      <td>...</td>\n",
       "      <td>...</td>\n",
       "      <td>...</td>\n",
       "      <td>...</td>\n",
       "      <td>...</td>\n",
       "    </tr>\n",
       "    <tr>\n",
       "      <th>6804</th>\n",
       "      <td>[0.055526409298181534, -0.09739918261766434, 0...</td>\n",
       "      <td>[0.06065135821700096, -0.09856018424034119, 0....</td>\n",
       "      <td>1.0</td>\n",
       "      <td>2</td>\n",
       "      <td>29</td>\n",
       "      <td>84</td>\n",
       "      <td>2</td>\n",
       "      <td>22</td>\n",
       "      <td>1</td>\n",
       "      <td>1</td>\n",
       "      <td>...</td>\n",
       "      <td>1.0</td>\n",
       "      <td>1125.0</td>\n",
       "      <td>343</td>\n",
       "      <td>0</td>\n",
       "      <td>734918</td>\n",
       "      <td>738449</td>\n",
       "      <td>0</td>\n",
       "      <td>1</td>\n",
       "      <td>0</td>\n",
       "      <td>2.88</td>\n",
       "    </tr>\n",
       "    <tr>\n",
       "      <th>6805</th>\n",
       "      <td>[-0.11637205630540848, 0.09759077429771423, -0...</td>\n",
       "      <td>[0.1282920241355896, 0.042223624885082245, 0.0...</td>\n",
       "      <td>1.0</td>\n",
       "      <td>2</td>\n",
       "      <td>1</td>\n",
       "      <td>0</td>\n",
       "      <td>1</td>\n",
       "      <td>28</td>\n",
       "      <td>1</td>\n",
       "      <td>1</td>\n",
       "      <td>...</td>\n",
       "      <td>4.0</td>\n",
       "      <td>14.0</td>\n",
       "      <td>18</td>\n",
       "      <td>0</td>\n",
       "      <td>734872</td>\n",
       "      <td>737473</td>\n",
       "      <td>1</td>\n",
       "      <td>0</td>\n",
       "      <td>0</td>\n",
       "      <td>0.15</td>\n",
       "    </tr>\n",
       "    <tr>\n",
       "      <th>6806</th>\n",
       "      <td>[-0.11637205630540848, 0.09759077429771423, -0...</td>\n",
       "      <td>[-0.13382287323474884, 0.014150858856737614, -...</td>\n",
       "      <td>1.0</td>\n",
       "      <td>4</td>\n",
       "      <td>1</td>\n",
       "      <td>79</td>\n",
       "      <td>1</td>\n",
       "      <td>7</td>\n",
       "      <td>1</td>\n",
       "      <td>1</td>\n",
       "      <td>...</td>\n",
       "      <td>3.0</td>\n",
       "      <td>1124.0</td>\n",
       "      <td>97</td>\n",
       "      <td>0</td>\n",
       "      <td>735002</td>\n",
       "      <td>738445</td>\n",
       "      <td>1</td>\n",
       "      <td>0</td>\n",
       "      <td>0</td>\n",
       "      <td>0.83</td>\n",
       "    </tr>\n",
       "    <tr>\n",
       "      <th>6807</th>\n",
       "      <td>[0.11814238876104355, 0.06271287053823471, -0....</td>\n",
       "      <td>[0.062177881598472595, 0.08505070209503174, 0....</td>\n",
       "      <td>1.0</td>\n",
       "      <td>4</td>\n",
       "      <td>1</td>\n",
       "      <td>96</td>\n",
       "      <td>2</td>\n",
       "      <td>43</td>\n",
       "      <td>1</td>\n",
       "      <td>1</td>\n",
       "      <td>...</td>\n",
       "      <td>1.0</td>\n",
       "      <td>30.0</td>\n",
       "      <td>1060</td>\n",
       "      <td>10</td>\n",
       "      <td>734836</td>\n",
       "      <td>738492</td>\n",
       "      <td>0</td>\n",
       "      <td>1</td>\n",
       "      <td>0</td>\n",
       "      <td>8.69</td>\n",
       "    </tr>\n",
       "    <tr>\n",
       "      <th>6808</th>\n",
       "      <td>[-0.11637203395366669, 0.09759080410003662, -0...</td>\n",
       "      <td>[-0.04520072415471077, -0.05978447198867798, 0...</td>\n",
       "      <td>1.5</td>\n",
       "      <td>0</td>\n",
       "      <td>49</td>\n",
       "      <td>43</td>\n",
       "      <td>1</td>\n",
       "      <td>31</td>\n",
       "      <td>1</td>\n",
       "      <td>1</td>\n",
       "      <td>...</td>\n",
       "      <td>4.0</td>\n",
       "      <td>20.8</td>\n",
       "      <td>17</td>\n",
       "      <td>0</td>\n",
       "      <td>734925</td>\n",
       "      <td>738411</td>\n",
       "      <td>1</td>\n",
       "      <td>0</td>\n",
       "      <td>0</td>\n",
       "      <td>0.14</td>\n",
       "    </tr>\n",
       "  </tbody>\n",
       "</table>\n",
       "<p>6809 rows × 35 columns</p>\n",
       "</div>"
      ],
      "text/plain": [
       "                                  neighborhood_overview  \\\n",
       "0     [-0.11637205630540848, 0.09759077429771423, -0...   \n",
       "1     [0.136016383767128, -0.015675336122512817, 0.0...   \n",
       "2     [0.06785199791193008, 0.060150280594825745, 0....   \n",
       "3     [0.11301513016223907, -0.03934653848409653, 0....   \n",
       "4     [0.054658882319927216, -0.059907153248786926, ...   \n",
       "...                                                 ...   \n",
       "6804  [0.055526409298181534, -0.09739918261766434, 0...   \n",
       "6805  [-0.11637205630540848, 0.09759077429771423, -0...   \n",
       "6806  [-0.11637205630540848, 0.09759077429771423, -0...   \n",
       "6807  [0.11814238876104355, 0.06271287053823471, -0....   \n",
       "6808  [-0.11637203395366669, 0.09759080410003662, -0...   \n",
       "\n",
       "                                             host_about  bathrooms_text  \\\n",
       "0     [-0.11637205630540848, 0.09759077429771423, -0...             1.5   \n",
       "1     [0.1730751097202301, 0.013356110081076622, 0.0...             1.5   \n",
       "2     [-0.07525812089443207, 0.04363350197672844, 0....             1.0   \n",
       "3     [-0.019661905243992805, -0.026079228147864342,...             1.5   \n",
       "4     [-0.09047619998455048, 0.04043954238295555, 0....             1.0   \n",
       "...                                                 ...             ...   \n",
       "6804  [0.06065135821700096, -0.09856018424034119, 0....             1.0   \n",
       "6805  [0.1282920241355896, 0.042223624885082245, 0.0...             1.0   \n",
       "6806  [-0.13382287323474884, 0.014150858856737614, -...             1.0   \n",
       "6807  [0.062177881598472595, 0.08505070209503174, 0....             1.0   \n",
       "6808  [-0.04520072415471077, -0.05978447198867798, 0...             1.5   \n",
       "\n",
       "      host_response_time  host_response_rate  host_acceptance_rate  \\\n",
       "0                      2                  36                    93   \n",
       "1                      4                   1                     2   \n",
       "2                      4                   1                    95   \n",
       "3                      4                   1                     2   \n",
       "4                      3                   1                     2   \n",
       "...                  ...                 ...                   ...   \n",
       "6804                   2                  29                    84   \n",
       "6805                   2                   1                     0   \n",
       "6806                   4                   1                    79   \n",
       "6807                   4                   1                    96   \n",
       "6808                   0                  49                    43   \n",
       "\n",
       "      host_is_superhost  host_neighbourhood  host_has_profile_pic  \\\n",
       "0                     1                  35                     1   \n",
       "1                     2                  14                     1   \n",
       "2                     1                  11                     1   \n",
       "3                     2                  44                     1   \n",
       "4                     2                   0                     1   \n",
       "...                 ...                 ...                   ...   \n",
       "6804                  2                  22                     1   \n",
       "6805                  1                  28                     1   \n",
       "6806                  1                   7                     1   \n",
       "6807                  2                  43                     1   \n",
       "6808                  1                  31                     1   \n",
       "\n",
       "      host_identity_verified  ...  minimum_nights_avg_ntm  \\\n",
       "0                          1  ...                     2.0   \n",
       "1                          1  ...                     3.0   \n",
       "2                          1  ...                     1.0   \n",
       "3                          1  ...                     2.0   \n",
       "4                          1  ...                     2.0   \n",
       "...                      ...  ...                     ...   \n",
       "6804                       1  ...                     1.0   \n",
       "6805                       1  ...                     4.0   \n",
       "6806                       1  ...                     3.0   \n",
       "6807                       1  ...                     1.0   \n",
       "6808                       1  ...                     4.0   \n",
       "\n",
       "      maximum_nights_avg_ntm  number_of_reviews  number_of_reviews_l30d  \\\n",
       "0                       30.0                248                       3   \n",
       "1                     1125.0                314                       1   \n",
       "2                     1125.0                339                       0   \n",
       "3                     1125.0                243                       5   \n",
       "4                     1825.0                454                       7   \n",
       "...                      ...                ...                     ...   \n",
       "6804                  1125.0                343                       0   \n",
       "6805                    14.0                 18                       0   \n",
       "6806                  1124.0                 97                       0   \n",
       "6807                    30.0               1060                      10   \n",
       "6808                    20.8                 17                       0   \n",
       "\n",
       "      first_review  last_review  calculated_host_listings_count_entire_homes  \\\n",
       "0           736243       738487                                            0   \n",
       "1           733496       738465                                            0   \n",
       "2           733833       737524                                            0   \n",
       "3           734511       738486                                            0   \n",
       "4           734006       738479                                            0   \n",
       "...            ...          ...                                          ...   \n",
       "6804        734918       738449                                            0   \n",
       "6805        734872       737473                                            1   \n",
       "6806        735002       738445                                            1   \n",
       "6807        734836       738492                                            0   \n",
       "6808        734925       738411                                            1   \n",
       "\n",
       "      calculated_host_listings_count_private_rooms  \\\n",
       "0                                                1   \n",
       "1                                                1   \n",
       "2                                                2   \n",
       "3                                                1   \n",
       "4                                                2   \n",
       "...                                            ...   \n",
       "6804                                             1   \n",
       "6805                                             0   \n",
       "6806                                             0   \n",
       "6807                                             1   \n",
       "6808                                             0   \n",
       "\n",
       "      calculated_host_listings_count_shared_rooms  reviews_per_month  \n",
       "0                                               0               3.30  \n",
       "1                                               0               1.88  \n",
       "2                                               0               2.18  \n",
       "3                                               0               1.83  \n",
       "4                                               0               3.03  \n",
       "...                                           ...                ...  \n",
       "6804                                            0               2.88  \n",
       "6805                                            0               0.15  \n",
       "6806                                            0               0.83  \n",
       "6807                                            0               8.69  \n",
       "6808                                            0               0.14  \n",
       "\n",
       "[6809 rows x 35 columns]"
      ]
     },
     "execution_count": 255,
     "metadata": {},
     "output_type": "execute_result"
    }
   ],
   "source": [
    "processedColumns"
   ]
  },
  {
   "cell_type": "code",
   "execution_count": 261,
   "metadata": {},
   "outputs": [
    {
     "name": "stdout",
     "output_type": "stream",
     "text": [
      "[9.99977080e-01 2.29192504e-05]\n"
     ]
    }
   ],
   "source": [
    "import pandas as pd\n",
    "from sentence_transformers import SentenceTransformer\n",
    "from sklearn.decomposition import PCA\n",
    "\n",
    "\"\"\"\n",
    "# Load pre-trained SentenceTransformer model\n",
    "model = SentenceTransformer('all-MiniLM-L6-v2')\n",
    "\n",
    "# Create a Pandas DataFrame with numerical columns and a text column for embeddings\n",
    "data = pd.DataFrame({\n",
    "    'numerical1': [1, 2, 3, 4, 5],\n",
    "    'numerical2': [2, 4, 6, 8, 10],\n",
    "    'text_embeddings': ['The quick brown fox jumps over the lazy dog', \n",
    "                        'The cat in the hat', \n",
    "                        'The sky is blue', \n",
    "                        'The grass is green', \n",
    "                        'The sun is shining']\n",
    "})\n",
    "\n",
    "# Generate embeddings for the text column\n",
    "embeddings = model.encode(data['text_embeddings'])\n",
    "\n",
    "# Convert embeddings to a DataFrame with string column names\n",
    "embedding_df = pd.DataFrame(embeddings, columns=[f'embedding_{i+1}' for i in range(embeddings.shape[1])])\n",
    "\n",
    "# Concatenate the numerical columns and the embeddings into a single DataFrame\n",
    "data_with_embeddings = pd.concat([data[['numerical1', 'numerical2']], embedding_df], axis=1)\n",
    "\"\"\"\n",
    "processedColumns2 = pd.concat([processedColumns.select_dtypes(include=['int', 'float'])], axis=1)\n",
    "\n",
    "processedColumns2.dropna(inplace=True)\n",
    "# Convert column names to strings\n",
    "processedColumns2.columns = processedColumns2.columns.astype(str)\n",
    "\n",
    "# Create a PCA object with 2 components\n",
    "pca = PCA(n_components=2)\n",
    "\n",
    "# Fit and transform the data to 2 principal components\n",
    "principal_components = pca.fit_transform(processedColumns2)\n",
    "\n",
    "# Convert principal components to a DataFrame with string column names\n",
    "principal_df = pd.DataFrame(data=principal_components, columns=['PC1', 'PC2'])\n",
    "\n",
    "# Concatenate the principal components with the original data\n",
    "result_df = pd.concat([principal_df, data_with_embeddings], axis=1)\n",
    "\n",
    "# Print the explained variance ratio of the 2 components\n",
    "print(pca.explained_variance_ratio_)"
   ]
  }
 ],
 "metadata": {
  "kernelspec": {
   "display_name": "nlp1",
   "language": "python",
   "name": "python3"
  },
  "language_info": {
   "codemirror_mode": {
    "name": "ipython",
    "version": 3
   },
   "file_extension": ".py",
   "mimetype": "text/x-python",
   "name": "python",
   "nbconvert_exporter": "python",
   "pygments_lexer": "ipython3",
   "version": "3.11.1"
  },
  "orig_nbformat": 4,
  "vscode": {
   "interpreter": {
    "hash": "48fa73cffd7ea0ee077adfb9340a9f695394edf478401010103a3ce4f2491774"
   }
  }
 },
 "nbformat": 4,
 "nbformat_minor": 2
}
