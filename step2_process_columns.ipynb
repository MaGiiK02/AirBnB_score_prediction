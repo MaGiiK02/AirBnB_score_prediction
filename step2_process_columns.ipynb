{
 "cells": [
  {
   "cell_type": "code",
   "execution_count": 1,
   "metadata": {},
   "outputs": [
    {
     "name": "stderr",
     "output_type": "stream",
     "text": [
      "c:\\Users\\frlan\\AppData\\Local\\Programs\\Python\\Python311\\Lib\\site-packages\\tqdm\\auto.py:21: TqdmWarning: IProgress not found. Please update jupyter and ipywidgets. See https://ipywidgets.readthedocs.io/en/stable/user_install.html\n",
      "  from .autonotebook import tqdm as notebook_tqdm\n"
     ]
    }
   ],
   "source": [
    "import numpy as np\n",
    "import pandas as pd\n",
    "import os\n",
    "import torch\n",
    "import torch.nn as nn\n",
    "\n",
    "from transformers import BertTokenizer, BertModel, AutoTokenizer\n",
    "from sentence_transformers import SentenceTransformer\n",
    "from sklearn.model_selection import train_test_split\n",
    "\n",
    "import pickle\n",
    "\n"
   ]
  },
  {
   "cell_type": "code",
   "execution_count": 2,
   "metadata": {},
   "outputs": [],
   "source": [
    "os.getcwd()\n",
    "os.chdir('C:/Users/frlan/Documents/NLP/dataset')\n",
    "\n",
    "# change the path to C:\\Users\\Kyriakos\\Desktop\\MsC AI\\NLP\\NLP AirBNB Project\\AirBnB_score_prediction\\dataset\n",
    "# os.chdir('C:\\\\Users\\\\Kyriakos\\\\Desktop\\\\MsC AI\\\\NLP\\\\NLP AirBNB Project\\\\AirBnB_score_prediction\\\\dataset')\n",
    "# os.getcwd()\n"
   ]
  },
  {
   "cell_type": "code",
   "execution_count": 3,
   "metadata": {},
   "outputs": [],
   "source": [
    "# import label_encoder to use it for the categorical features\n",
    "from sklearn.preprocessing import LabelEncoder\n",
    "le = LabelEncoder()"
   ]
  },
  {
   "cell_type": "code",
   "execution_count": 4,
   "metadata": {},
   "outputs": [],
   "source": [
    "# 'listings_comments.csv is the datset compined \n",
    "\n",
    "# reaf the datset from Google Drive G:\\.shortcut-targets-by-id\\1CZZx9Bpz7hB-BhPFsqAL3fRVyxM1XfwF\\AirBnB_project\n",
    "# data = pd.read_csv('G:\\\\.shortcut-targets-by-id\\\\1CZZx9Bpz7hB-BhPFsqAL3fRVyxM1XfwF\\\\AirBnB_project\\\\listings_comments.csv')\n",
    "\n",
    "from dataloader import Dataloader\n",
    "data = Dataloader()\n",
    "data = data.getListings()\n",
    "\n"
   ]
  },
  {
   "cell_type": "code",
   "execution_count": 5,
   "metadata": {},
   "outputs": [
    {
     "data": {
      "text/plain": [
       "Index(['id', 'listing_url', 'scrape_id', 'last_scraped', 'source', 'name',\n",
       "       'description', 'neighborhood_overview', 'picture_url', 'host_id',\n",
       "       'host_url', 'host_name', 'host_since', 'host_location', 'host_about',\n",
       "       'host_response_time', 'host_response_rate', 'host_acceptance_rate',\n",
       "       'host_is_superhost', 'host_thumbnail_url', 'host_picture_url',\n",
       "       'host_neighbourhood', 'host_listings_count',\n",
       "       'host_total_listings_count', 'host_verifications',\n",
       "       'host_has_profile_pic', 'host_identity_verified', 'neighbourhood',\n",
       "       'neighbourhood_cleansed', 'neighbourhood_group_cleansed', 'latitude',\n",
       "       'longitude', 'property_type', 'room_type', 'accommodates', 'bathrooms',\n",
       "       'bathrooms_text', 'bedrooms', 'beds', 'amenities', 'price',\n",
       "       'minimum_nights', 'maximum_nights', 'minimum_minimum_nights',\n",
       "       'maximum_minimum_nights', 'minimum_maximum_nights',\n",
       "       'maximum_maximum_nights', 'minimum_nights_avg_ntm',\n",
       "       'maximum_nights_avg_ntm', 'calendar_updated', 'has_availability',\n",
       "       'availability_30', 'availability_60', 'availability_90',\n",
       "       'availability_365', 'calendar_last_scraped', 'number_of_reviews',\n",
       "       'number_of_reviews_ltm', 'number_of_reviews_l30d', 'first_review',\n",
       "       'last_review', 'review_scores_rating', 'review_scores_accuracy',\n",
       "       'review_scores_cleanliness', 'review_scores_checkin',\n",
       "       'review_scores_communication', 'review_scores_location',\n",
       "       'review_scores_value', 'license', 'instant_bookable',\n",
       "       'calculated_host_listings_count',\n",
       "       'calculated_host_listings_count_entire_homes',\n",
       "       'calculated_host_listings_count_private_rooms',\n",
       "       'calculated_host_listings_count_shared_rooms', 'reviews_per_month'],\n",
       "      dtype='object')"
      ]
     },
     "execution_count": 5,
     "metadata": {},
     "output_type": "execute_result"
    }
   ],
   "source": [
    "data.columns"
   ]
  },
  {
   "attachments": {},
   "cell_type": "markdown",
   "metadata": {},
   "source": [
    "# Base Preperation"
   ]
  },
  {
   "attachments": {},
   "cell_type": "markdown",
   "metadata": {},
   "source": [
    "## Remove unnecessary columns"
   ]
  },
  {
   "cell_type": "code",
   "execution_count": 6,
   "metadata": {},
   "outputs": [
    {
     "data": {
      "text/plain": [
       "75"
      ]
     },
     "execution_count": 6,
     "metadata": {},
     "output_type": "execute_result"
    }
   ],
   "source": [
    "len(data.columns)"
   ]
  },
  {
   "cell_type": "code",
   "execution_count": 7,
   "metadata": {},
   "outputs": [],
   "source": [
    "# Crate a list for removing unnecessary columns from the dataset\n",
    "columns_to_remove = ['id', 'listing_url', 'scrape_id', 'last_scraped', 'source','picture_url', 'host_id',\n",
    "       'host_url','host_name','host_location','host_thumbnail_url', 'host_picture_url','host_verifications','neighbourhood','neighbourhood_group_cleansed','latitude',\n",
    "       'longitude','bathrooms','calendar_updated','has_availability','availability_30', 'availability_60', 'availability_90',\n",
    "       'availability_365','calendar_last_scraped','review_scores_rating', 'review_scores_accuracy',\n",
    "       'review_scores_cleanliness', 'review_scores_checkin',\n",
    "       'review_scores_communication', 'review_scores_location',\n",
    "       'review_scores_value','instant_bookable',\n",
    "       'calculated_host_listings_count','name','description','license']\n"
   ]
  },
  {
   "cell_type": "code",
   "execution_count": 8,
   "metadata": {},
   "outputs": [
    {
     "data": {
      "text/plain": [
       "38"
      ]
     },
     "execution_count": 8,
     "metadata": {},
     "output_type": "execute_result"
    }
   ],
   "source": [
    "# Remove the unnecessary columns from the dataset.\n",
    "data.drop(columns_to_remove, axis=1, inplace=True)\n",
    "len(data.columns)"
   ]
  },
  {
   "attachments": {},
   "cell_type": "markdown",
   "metadata": {},
   "source": [
    "## Check and replace nan values\n"
   ]
  },
  {
   "cell_type": "code",
   "execution_count": 9,
   "metadata": {},
   "outputs": [],
   "source": [
    "def fill_nan(df, column):\n",
    "    if(df[column].astype(str).str.isnumeric().all()==True):\n",
    "        #Numeric values\n",
    "        df[column].fillna(df[column].mean(), inplace=True)\n",
    "    else:\n",
    "        #string balue\n",
    "        df[column].fillna('UNK', inplace=True)\n",
    "\n",
    "    return df\n",
    "\n",
    "for columnName in data.columns:\n",
    "    data = fill_nan(data, columnName)"
   ]
  },
  {
   "attachments": {},
   "cell_type": "markdown",
   "metadata": {},
   "source": [
    "# Column processing"
   ]
  },
  {
   "cell_type": "markdown",
   "metadata": {},
   "source": [
    "## Function that takes a column and returns an embeddings matrix"
   ]
  },
  {
   "cell_type": "code",
   "execution_count": 10,
   "metadata": {},
   "outputs": [
    {
     "data": {
      "text/plain": [
       "neighborhood_overview                           4039\n",
       "host_since                                      2666\n",
       "host_about                                      3302\n",
       "host_response_time                                 5\n",
       "host_response_rate                                50\n",
       "host_acceptance_rate                              98\n",
       "host_is_superhost                                  3\n",
       "host_neighbourhood                                59\n",
       "host_listings_count                               28\n",
       "host_total_listings_count                         46\n",
       "host_has_profile_pic                               2\n",
       "host_identity_verified                             2\n",
       "neighbourhood_cleansed                            22\n",
       "property_type                                     59\n",
       "room_type                                          4\n",
       "accommodates                                      15\n",
       "bathrooms_text                                    23\n",
       "bedrooms                                          11\n",
       "beds                                              24\n",
       "amenities                                       6634\n",
       "price                                            542\n",
       "minimum_nights                                    44\n",
       "maximum_nights                                   106\n",
       "minimum_minimum_nights                            40\n",
       "maximum_minimum_nights                            48\n",
       "minimum_maximum_nights                            92\n",
       "maximum_maximum_nights                            92\n",
       "minimum_nights_avg_ntm                           135\n",
       "maximum_nights_avg_ntm                           282\n",
       "number_of_reviews                                447\n",
       "number_of_reviews_ltm                            135\n",
       "number_of_reviews_l30d                            27\n",
       "first_review                                    2289\n",
       "last_review                                      889\n",
       "calculated_host_listings_count_entire_homes       11\n",
       "calculated_host_listings_count_private_rooms      15\n",
       "calculated_host_listings_count_shared_rooms        7\n",
       "reviews_per_month                                616\n",
       "dtype: int64"
      ]
     },
     "execution_count": 10,
     "metadata": {},
     "output_type": "execute_result"
    }
   ],
   "source": [
    "# Check the number of unique values in each column\n",
    "data.nunique()\n"
   ]
  },
  {
   "cell_type": "code",
   "execution_count": 11,
   "metadata": {},
   "outputs": [
    {
     "name": "stdout",
     "output_type": "stream",
     "text": [
      "Device: cuda\n"
     ]
    }
   ],
   "source": [
    "# load the model that is responsible for the text embeddings\n",
    "model = SentenceTransformer('all-MiniLM-L6-v2')\n",
    "\n",
    "# create a device object\n",
    "device = torch.device('cuda' if torch.cuda.is_available() else 'cpu')\n",
    "print(f'Device: {device}')\n",
    "# move the model to the device\n",
    "model.to(device)\n",
    "\n",
    "# parallelize the model across multiple GPUs(if available)\n",
    "model = nn.DataParallel(model)\n",
    "\n",
    "underlying_model = model.module"
   ]
  },
  {
   "cell_type": "code",
   "execution_count": 12,
   "metadata": {},
   "outputs": [],
   "source": [
    "# function to get the embeddings for a column in a dataframe and return them as a numpy array\n",
    "def get_embeddings(dataframe, column_name, batch_size=100):\n",
    "    \"\"\"\n",
    "    Obtain sentence embeddings for a dataframe column using SentenceTransformer with batch processing.\n",
    "\n",
    "    Args:\n",
    "        dataframe (pandas.DataFrame): The dataframe containing the column to obtain embeddings for.\n",
    "        column_name (str): The name of the column to obtain embeddings for.\n",
    "        batch_size (int, optional): The size of each batch to process. Default is 100.\n",
    "\n",
    "    Returns:\n",
    "        numpy.ndarray: A numpy array containing the embeddings for the specified column.\n",
    "    \"\"\"\n",
    "\n",
    "    # Obtain the embeddings for the specified column in batches\n",
    "    num_batches = int(np.ceil(len(dataframe) / batch_size))\n",
    "    embeddings = []\n",
    "    for i in range(num_batches):\n",
    "        start_index = i * batch_size\n",
    "        end_index = min(start_index + batch_size, len(dataframe))\n",
    "        batch_embeddings = model.encode(dataframe[column_name][start_index:end_index].tolist())\n",
    "        embeddings.append(batch_embeddings)\n",
    "    embeddings = np.concatenate(embeddings)\n",
    "\n",
    "    return embeddings"
   ]
  },
  {
   "cell_type": "code",
   "execution_count": 13,
   "metadata": {},
   "outputs": [],
   "source": [
    "data.columns\n",
    "processedColumns = pd.DataFrame()\n"
   ]
  },
  {
   "attachments": {},
   "cell_type": "markdown",
   "metadata": {},
   "source": [
    "## Text Columns - word embedings"
   ]
  },
  {
   "attachments": {},
   "cell_type": "markdown",
   "metadata": {},
   "source": [
    "### neighborhood_overview"
   ]
  },
  {
   "cell_type": "code",
   "execution_count": 14,
   "metadata": {},
   "outputs": [],
   "source": [
    "#Get the word encodings for the text in the column\n",
    "neighborhood_overview_embeddings = underlying_model.encode(data.neighborhood_overview.values)\n"
   ]
  },
  {
   "cell_type": "code",
   "execution_count": 15,
   "metadata": {},
   "outputs": [],
   "source": [
    "# Convert embeddings to a DataFrame with string column names\n",
    "embedding_df = pd.DataFrame(neighborhood_overview_embeddings, columns=[f'neighborhood_overview_embeddings{i+1}' for i in range(neighborhood_overview_embeddings.shape[1])])\n",
    "\n",
    "# Concatenate the numerical columns and the embeddings into a single DataFrame\n",
    "processedColumns = pd.concat([processedColumns, embedding_df], axis=1)"
   ]
  },
  {
   "attachments": {},
   "cell_type": "markdown",
   "metadata": {},
   "source": [
    "### host_about"
   ]
  },
  {
   "cell_type": "code",
   "execution_count": 16,
   "metadata": {},
   "outputs": [],
   "source": [
    "#Get the word encodings for the text in the column\n",
    "host_about_embeddings = underlying_model.encode(data.host_about)"
   ]
  },
  {
   "cell_type": "code",
   "execution_count": 17,
   "metadata": {},
   "outputs": [],
   "source": [
    "# Convert embeddings to a DataFrame with string column names\n",
    "embedding_df = pd.DataFrame(host_about_embeddings, columns=[f'host_about_embeddings{i+1}' for i in range(host_about_embeddings.shape[1])])\n",
    "\n",
    "# Concatenate the numerical columns and the embeddings into a single DataFrame\n",
    "processedColumns = pd.concat([processedColumns, embedding_df], axis=1)"
   ]
  },
  {
   "attachments": {},
   "cell_type": "markdown",
   "metadata": {},
   "source": [
    "### bathroom_text"
   ]
  },
  {
   "cell_type": "code",
   "execution_count": 18,
   "metadata": {},
   "outputs": [
    {
     "data": {
      "text/plain": [
       "0              1.5 baths\n",
       "1       1.5 shared baths\n",
       "2         1 private bath\n",
       "3              1.5 baths\n",
       "4          1 shared bath\n",
       "              ...       \n",
       "6804      1 private bath\n",
       "6805              1 bath\n",
       "6806              1 bath\n",
       "6807      1 private bath\n",
       "6808           1.5 baths\n",
       "Name: bathrooms_text, Length: 6809, dtype: object"
      ]
     },
     "execution_count": 18,
     "metadata": {},
     "output_type": "execute_result"
    }
   ],
   "source": [
    "data.bathrooms_text"
   ]
  },
  {
   "cell_type": "code",
   "execution_count": 19,
   "metadata": {},
   "outputs": [
    {
     "data": {
      "text/plain": [
       "0       1.5\n",
       "1       1.5\n",
       "2       1.0\n",
       "3       1.5\n",
       "4       1.0\n",
       "       ... \n",
       "6804    1.0\n",
       "6805    1.0\n",
       "6806    1.0\n",
       "6807    1.0\n",
       "6808    1.5\n",
       "Name: bathrooms_text, Length: 6809, dtype: float64"
      ]
     },
     "execution_count": 19,
     "metadata": {},
     "output_type": "execute_result"
    }
   ],
   "source": [
    "import re\n",
    "\n",
    "def extract_number(string):\n",
    "    pattern = r'^(\\d+(?:\\.\\d+)?)' # regular expression pattern to match the number at the start of the string\n",
    "    match = re.match(pattern, string)\n",
    "    if match:\n",
    "        return float(match.group(1))\n",
    "    else:\n",
    "        return None\n",
    "#Extract the number of bathrooms from the text example: 1.2 bathrooms > 1.2\n",
    "numberOfBathrooms = data.bathrooms_text.apply(extract_number)\n",
    "numberOfBathrooms"
   ]
  },
  {
   "cell_type": "code",
   "execution_count": 20,
   "metadata": {},
   "outputs": [
    {
     "data": {
      "text/plain": [
       "0       1.5\n",
       "1       1.5\n",
       "2       1.0\n",
       "3       1.5\n",
       "4       1.0\n",
       "       ... \n",
       "6804    1.0\n",
       "6805    1.0\n",
       "6806    1.0\n",
       "6807    1.0\n",
       "6808    1.5\n",
       "Name: bathrooms_text, Length: 6809, dtype: float64"
      ]
     },
     "execution_count": 20,
     "metadata": {},
     "output_type": "execute_result"
    }
   ],
   "source": [
    "processedColumns['bathrooms_text']=numberOfBathrooms\n",
    "processedColumns.bathrooms_text"
   ]
  },
  {
   "attachments": {},
   "cell_type": "markdown",
   "metadata": {},
   "source": [
    "### price"
   ]
  },
  {
   "cell_type": "code",
   "execution_count": 21,
   "metadata": {},
   "outputs": [
    {
     "data": {
      "text/plain": [
       "0       $100.00\n",
       "1        $59.00\n",
       "2       $106.00\n",
       "3       $140.00\n",
       "4        $75.00\n",
       "         ...   \n",
       "6804    $165.00\n",
       "6805    $150.00\n",
       "6806    $160.00\n",
       "6807    $125.00\n",
       "6808    $249.00\n",
       "Name: price, Length: 6809, dtype: object"
      ]
     },
     "execution_count": 21,
     "metadata": {},
     "output_type": "execute_result"
    }
   ],
   "source": [
    "data.price"
   ]
  },
  {
   "cell_type": "code",
   "execution_count": 22,
   "metadata": {},
   "outputs": [],
   "source": [
    "price_embeddings = underlying_model.encode(data.price)"
   ]
  },
  {
   "cell_type": "code",
   "execution_count": 23,
   "metadata": {},
   "outputs": [],
   "source": [
    "# Convert embeddings to a DataFrame with string column names\n",
    "embedding_df = pd.DataFrame(price_embeddings, columns=[f'price_embeddings{i+1}' for i in range(price_embeddings.shape[1])])\n",
    "\n",
    "# Concatenate the numerical columns and the embeddings into a single DataFrame\n",
    "processedColumns = pd.concat([processedColumns, embedding_df], axis=1)"
   ]
  },
  {
   "attachments": {},
   "cell_type": "markdown",
   "metadata": {},
   "source": [
    "## Categorical Columns - label encoding"
   ]
  },
  {
   "attachments": {},
   "cell_type": "markdown",
   "metadata": {},
   "source": [
    "### host_response_time"
   ]
  },
  {
   "cell_type": "code",
   "execution_count": 24,
   "metadata": {},
   "outputs": [],
   "source": [
    "#Get the label encoding for the categorical column\n",
    "encoding = le.fit_transform(data.host_response_time)\n"
   ]
  },
  {
   "cell_type": "code",
   "execution_count": 25,
   "metadata": {},
   "outputs": [
    {
     "data": {
      "text/html": [
       "<div>\n",
       "<style scoped>\n",
       "    .dataframe tbody tr th:only-of-type {\n",
       "        vertical-align: middle;\n",
       "    }\n",
       "\n",
       "    .dataframe tbody tr th {\n",
       "        vertical-align: top;\n",
       "    }\n",
       "\n",
       "    .dataframe thead th {\n",
       "        text-align: right;\n",
       "    }\n",
       "</style>\n",
       "<table border=\"1\" class=\"dataframe\">\n",
       "  <thead>\n",
       "    <tr style=\"text-align: right;\">\n",
       "      <th></th>\n",
       "      <th>neighborhood_overview_embeddings1</th>\n",
       "      <th>neighborhood_overview_embeddings2</th>\n",
       "      <th>neighborhood_overview_embeddings3</th>\n",
       "      <th>neighborhood_overview_embeddings4</th>\n",
       "      <th>neighborhood_overview_embeddings5</th>\n",
       "      <th>neighborhood_overview_embeddings6</th>\n",
       "      <th>neighborhood_overview_embeddings7</th>\n",
       "      <th>neighborhood_overview_embeddings8</th>\n",
       "      <th>neighborhood_overview_embeddings9</th>\n",
       "      <th>neighborhood_overview_embeddings10</th>\n",
       "      <th>...</th>\n",
       "      <th>price_embeddings376</th>\n",
       "      <th>price_embeddings377</th>\n",
       "      <th>price_embeddings378</th>\n",
       "      <th>price_embeddings379</th>\n",
       "      <th>price_embeddings380</th>\n",
       "      <th>price_embeddings381</th>\n",
       "      <th>price_embeddings382</th>\n",
       "      <th>price_embeddings383</th>\n",
       "      <th>price_embeddings384</th>\n",
       "      <th>host_response_time</th>\n",
       "    </tr>\n",
       "  </thead>\n",
       "  <tbody>\n",
       "    <tr>\n",
       "      <th>0</th>\n",
       "      <td>-0.116372</td>\n",
       "      <td>0.097591</td>\n",
       "      <td>-0.060608</td>\n",
       "      <td>0.038863</td>\n",
       "      <td>0.014252</td>\n",
       "      <td>-0.047227</td>\n",
       "      <td>0.038234</td>\n",
       "      <td>-0.003749</td>\n",
       "      <td>-0.053559</td>\n",
       "      <td>-0.021652</td>\n",
       "      <td>...</td>\n",
       "      <td>0.017350</td>\n",
       "      <td>-0.004897</td>\n",
       "      <td>0.021727</td>\n",
       "      <td>-0.109080</td>\n",
       "      <td>0.020360</td>\n",
       "      <td>-0.028012</td>\n",
       "      <td>-0.097993</td>\n",
       "      <td>-0.091352</td>\n",
       "      <td>-0.076711</td>\n",
       "      <td>2</td>\n",
       "    </tr>\n",
       "    <tr>\n",
       "      <th>1</th>\n",
       "      <td>0.136016</td>\n",
       "      <td>-0.015675</td>\n",
       "      <td>0.040567</td>\n",
       "      <td>-0.057190</td>\n",
       "      <td>0.003332</td>\n",
       "      <td>0.013339</td>\n",
       "      <td>-0.048955</td>\n",
       "      <td>0.021005</td>\n",
       "      <td>-0.015902</td>\n",
       "      <td>-0.068776</td>\n",
       "      <td>...</td>\n",
       "      <td>0.007740</td>\n",
       "      <td>0.010420</td>\n",
       "      <td>-0.029209</td>\n",
       "      <td>-0.167799</td>\n",
       "      <td>-0.036253</td>\n",
       "      <td>0.032293</td>\n",
       "      <td>-0.116683</td>\n",
       "      <td>-0.117021</td>\n",
       "      <td>-0.062543</td>\n",
       "      <td>4</td>\n",
       "    </tr>\n",
       "    <tr>\n",
       "      <th>2</th>\n",
       "      <td>0.067852</td>\n",
       "      <td>0.060150</td>\n",
       "      <td>0.029182</td>\n",
       "      <td>0.027633</td>\n",
       "      <td>0.018493</td>\n",
       "      <td>0.014215</td>\n",
       "      <td>-0.025966</td>\n",
       "      <td>0.034286</td>\n",
       "      <td>-0.082199</td>\n",
       "      <td>-0.095101</td>\n",
       "      <td>...</td>\n",
       "      <td>-0.052159</td>\n",
       "      <td>0.013221</td>\n",
       "      <td>0.042182</td>\n",
       "      <td>-0.155596</td>\n",
       "      <td>0.062114</td>\n",
       "      <td>0.013426</td>\n",
       "      <td>-0.085340</td>\n",
       "      <td>-0.083137</td>\n",
       "      <td>-0.076989</td>\n",
       "      <td>4</td>\n",
       "    </tr>\n",
       "    <tr>\n",
       "      <th>3</th>\n",
       "      <td>0.113015</td>\n",
       "      <td>-0.039347</td>\n",
       "      <td>0.030979</td>\n",
       "      <td>-0.003132</td>\n",
       "      <td>0.019000</td>\n",
       "      <td>-0.008504</td>\n",
       "      <td>-0.004945</td>\n",
       "      <td>-0.068339</td>\n",
       "      <td>-0.038846</td>\n",
       "      <td>0.015379</td>\n",
       "      <td>...</td>\n",
       "      <td>-0.009861</td>\n",
       "      <td>0.004087</td>\n",
       "      <td>0.044521</td>\n",
       "      <td>-0.052210</td>\n",
       "      <td>-0.023781</td>\n",
       "      <td>0.005466</td>\n",
       "      <td>-0.131299</td>\n",
       "      <td>-0.124065</td>\n",
       "      <td>-0.063584</td>\n",
       "      <td>4</td>\n",
       "    </tr>\n",
       "    <tr>\n",
       "      <th>4</th>\n",
       "      <td>0.054659</td>\n",
       "      <td>-0.059907</td>\n",
       "      <td>0.037643</td>\n",
       "      <td>0.004035</td>\n",
       "      <td>0.079240</td>\n",
       "      <td>0.088770</td>\n",
       "      <td>0.037045</td>\n",
       "      <td>-0.014450</td>\n",
       "      <td>0.019367</td>\n",
       "      <td>-0.047079</td>\n",
       "      <td>...</td>\n",
       "      <td>-0.022121</td>\n",
       "      <td>-0.010562</td>\n",
       "      <td>0.047455</td>\n",
       "      <td>-0.121489</td>\n",
       "      <td>-0.014389</td>\n",
       "      <td>-0.012024</td>\n",
       "      <td>-0.170738</td>\n",
       "      <td>-0.076768</td>\n",
       "      <td>-0.051094</td>\n",
       "      <td>3</td>\n",
       "    </tr>\n",
       "    <tr>\n",
       "      <th>...</th>\n",
       "      <td>...</td>\n",
       "      <td>...</td>\n",
       "      <td>...</td>\n",
       "      <td>...</td>\n",
       "      <td>...</td>\n",
       "      <td>...</td>\n",
       "      <td>...</td>\n",
       "      <td>...</td>\n",
       "      <td>...</td>\n",
       "      <td>...</td>\n",
       "      <td>...</td>\n",
       "      <td>...</td>\n",
       "      <td>...</td>\n",
       "      <td>...</td>\n",
       "      <td>...</td>\n",
       "      <td>...</td>\n",
       "      <td>...</td>\n",
       "      <td>...</td>\n",
       "      <td>...</td>\n",
       "      <td>...</td>\n",
       "      <td>...</td>\n",
       "    </tr>\n",
       "    <tr>\n",
       "      <th>6804</th>\n",
       "      <td>0.055526</td>\n",
       "      <td>-0.097399</td>\n",
       "      <td>0.024774</td>\n",
       "      <td>0.023912</td>\n",
       "      <td>0.040295</td>\n",
       "      <td>0.051588</td>\n",
       "      <td>0.001469</td>\n",
       "      <td>-0.003682</td>\n",
       "      <td>-0.122625</td>\n",
       "      <td>-0.062624</td>\n",
       "      <td>...</td>\n",
       "      <td>-0.041008</td>\n",
       "      <td>-0.037846</td>\n",
       "      <td>0.050282</td>\n",
       "      <td>-0.125588</td>\n",
       "      <td>-0.016783</td>\n",
       "      <td>-0.002898</td>\n",
       "      <td>-0.147602</td>\n",
       "      <td>-0.127343</td>\n",
       "      <td>-0.085092</td>\n",
       "      <td>2</td>\n",
       "    </tr>\n",
       "    <tr>\n",
       "      <th>6805</th>\n",
       "      <td>-0.116372</td>\n",
       "      <td>0.097591</td>\n",
       "      <td>-0.060608</td>\n",
       "      <td>0.038863</td>\n",
       "      <td>0.014252</td>\n",
       "      <td>-0.047227</td>\n",
       "      <td>0.038234</td>\n",
       "      <td>-0.003749</td>\n",
       "      <td>-0.053559</td>\n",
       "      <td>-0.021652</td>\n",
       "      <td>...</td>\n",
       "      <td>0.013831</td>\n",
       "      <td>0.002373</td>\n",
       "      <td>0.026096</td>\n",
       "      <td>-0.093082</td>\n",
       "      <td>-0.022921</td>\n",
       "      <td>-0.039951</td>\n",
       "      <td>-0.125145</td>\n",
       "      <td>-0.117809</td>\n",
       "      <td>-0.079352</td>\n",
       "      <td>2</td>\n",
       "    </tr>\n",
       "    <tr>\n",
       "      <th>6806</th>\n",
       "      <td>-0.116372</td>\n",
       "      <td>0.097591</td>\n",
       "      <td>-0.060608</td>\n",
       "      <td>0.038863</td>\n",
       "      <td>0.014252</td>\n",
       "      <td>-0.047227</td>\n",
       "      <td>0.038234</td>\n",
       "      <td>-0.003749</td>\n",
       "      <td>-0.053559</td>\n",
       "      <td>-0.021652</td>\n",
       "      <td>...</td>\n",
       "      <td>-0.007161</td>\n",
       "      <td>-0.027632</td>\n",
       "      <td>0.050558</td>\n",
       "      <td>-0.102924</td>\n",
       "      <td>0.003952</td>\n",
       "      <td>-0.021871</td>\n",
       "      <td>-0.136469</td>\n",
       "      <td>-0.128040</td>\n",
       "      <td>-0.052408</td>\n",
       "      <td>4</td>\n",
       "    </tr>\n",
       "    <tr>\n",
       "      <th>6807</th>\n",
       "      <td>0.118142</td>\n",
       "      <td>0.062713</td>\n",
       "      <td>-0.015865</td>\n",
       "      <td>0.026243</td>\n",
       "      <td>0.035154</td>\n",
       "      <td>0.018661</td>\n",
       "      <td>-0.076788</td>\n",
       "      <td>-0.077332</td>\n",
       "      <td>-0.051274</td>\n",
       "      <td>-0.009355</td>\n",
       "      <td>...</td>\n",
       "      <td>-0.047524</td>\n",
       "      <td>0.029830</td>\n",
       "      <td>0.043785</td>\n",
       "      <td>-0.110274</td>\n",
       "      <td>0.012278</td>\n",
       "      <td>-0.049344</td>\n",
       "      <td>-0.157149</td>\n",
       "      <td>-0.115694</td>\n",
       "      <td>-0.054802</td>\n",
       "      <td>4</td>\n",
       "    </tr>\n",
       "    <tr>\n",
       "      <th>6808</th>\n",
       "      <td>-0.116372</td>\n",
       "      <td>0.097591</td>\n",
       "      <td>-0.060608</td>\n",
       "      <td>0.038863</td>\n",
       "      <td>0.014252</td>\n",
       "      <td>-0.047227</td>\n",
       "      <td>0.038234</td>\n",
       "      <td>-0.003749</td>\n",
       "      <td>-0.053559</td>\n",
       "      <td>-0.021652</td>\n",
       "      <td>...</td>\n",
       "      <td>-0.006676</td>\n",
       "      <td>-0.034414</td>\n",
       "      <td>0.024861</td>\n",
       "      <td>-0.101010</td>\n",
       "      <td>0.050035</td>\n",
       "      <td>-0.036815</td>\n",
       "      <td>-0.126618</td>\n",
       "      <td>-0.103637</td>\n",
       "      <td>-0.082305</td>\n",
       "      <td>0</td>\n",
       "    </tr>\n",
       "  </tbody>\n",
       "</table>\n",
       "<p>6809 rows × 1154 columns</p>\n",
       "</div>"
      ],
      "text/plain": [
       "      neighborhood_overview_embeddings1  neighborhood_overview_embeddings2  \\\n",
       "0                             -0.116372                           0.097591   \n",
       "1                              0.136016                          -0.015675   \n",
       "2                              0.067852                           0.060150   \n",
       "3                              0.113015                          -0.039347   \n",
       "4                              0.054659                          -0.059907   \n",
       "...                                 ...                                ...   \n",
       "6804                           0.055526                          -0.097399   \n",
       "6805                          -0.116372                           0.097591   \n",
       "6806                          -0.116372                           0.097591   \n",
       "6807                           0.118142                           0.062713   \n",
       "6808                          -0.116372                           0.097591   \n",
       "\n",
       "      neighborhood_overview_embeddings3  neighborhood_overview_embeddings4  \\\n",
       "0                             -0.060608                           0.038863   \n",
       "1                              0.040567                          -0.057190   \n",
       "2                              0.029182                           0.027633   \n",
       "3                              0.030979                          -0.003132   \n",
       "4                              0.037643                           0.004035   \n",
       "...                                 ...                                ...   \n",
       "6804                           0.024774                           0.023912   \n",
       "6805                          -0.060608                           0.038863   \n",
       "6806                          -0.060608                           0.038863   \n",
       "6807                          -0.015865                           0.026243   \n",
       "6808                          -0.060608                           0.038863   \n",
       "\n",
       "      neighborhood_overview_embeddings5  neighborhood_overview_embeddings6  \\\n",
       "0                              0.014252                          -0.047227   \n",
       "1                              0.003332                           0.013339   \n",
       "2                              0.018493                           0.014215   \n",
       "3                              0.019000                          -0.008504   \n",
       "4                              0.079240                           0.088770   \n",
       "...                                 ...                                ...   \n",
       "6804                           0.040295                           0.051588   \n",
       "6805                           0.014252                          -0.047227   \n",
       "6806                           0.014252                          -0.047227   \n",
       "6807                           0.035154                           0.018661   \n",
       "6808                           0.014252                          -0.047227   \n",
       "\n",
       "      neighborhood_overview_embeddings7  neighborhood_overview_embeddings8  \\\n",
       "0                              0.038234                          -0.003749   \n",
       "1                             -0.048955                           0.021005   \n",
       "2                             -0.025966                           0.034286   \n",
       "3                             -0.004945                          -0.068339   \n",
       "4                              0.037045                          -0.014450   \n",
       "...                                 ...                                ...   \n",
       "6804                           0.001469                          -0.003682   \n",
       "6805                           0.038234                          -0.003749   \n",
       "6806                           0.038234                          -0.003749   \n",
       "6807                          -0.076788                          -0.077332   \n",
       "6808                           0.038234                          -0.003749   \n",
       "\n",
       "      neighborhood_overview_embeddings9  neighborhood_overview_embeddings10  \\\n",
       "0                             -0.053559                           -0.021652   \n",
       "1                             -0.015902                           -0.068776   \n",
       "2                             -0.082199                           -0.095101   \n",
       "3                             -0.038846                            0.015379   \n",
       "4                              0.019367                           -0.047079   \n",
       "...                                 ...                                 ...   \n",
       "6804                          -0.122625                           -0.062624   \n",
       "6805                          -0.053559                           -0.021652   \n",
       "6806                          -0.053559                           -0.021652   \n",
       "6807                          -0.051274                           -0.009355   \n",
       "6808                          -0.053559                           -0.021652   \n",
       "\n",
       "      ...  price_embeddings376  price_embeddings377  price_embeddings378  \\\n",
       "0     ...             0.017350            -0.004897             0.021727   \n",
       "1     ...             0.007740             0.010420            -0.029209   \n",
       "2     ...            -0.052159             0.013221             0.042182   \n",
       "3     ...            -0.009861             0.004087             0.044521   \n",
       "4     ...            -0.022121            -0.010562             0.047455   \n",
       "...   ...                  ...                  ...                  ...   \n",
       "6804  ...            -0.041008            -0.037846             0.050282   \n",
       "6805  ...             0.013831             0.002373             0.026096   \n",
       "6806  ...            -0.007161            -0.027632             0.050558   \n",
       "6807  ...            -0.047524             0.029830             0.043785   \n",
       "6808  ...            -0.006676            -0.034414             0.024861   \n",
       "\n",
       "      price_embeddings379  price_embeddings380  price_embeddings381  \\\n",
       "0               -0.109080             0.020360            -0.028012   \n",
       "1               -0.167799            -0.036253             0.032293   \n",
       "2               -0.155596             0.062114             0.013426   \n",
       "3               -0.052210            -0.023781             0.005466   \n",
       "4               -0.121489            -0.014389            -0.012024   \n",
       "...                   ...                  ...                  ...   \n",
       "6804            -0.125588            -0.016783            -0.002898   \n",
       "6805            -0.093082            -0.022921            -0.039951   \n",
       "6806            -0.102924             0.003952            -0.021871   \n",
       "6807            -0.110274             0.012278            -0.049344   \n",
       "6808            -0.101010             0.050035            -0.036815   \n",
       "\n",
       "      price_embeddings382  price_embeddings383  price_embeddings384  \\\n",
       "0               -0.097993            -0.091352            -0.076711   \n",
       "1               -0.116683            -0.117021            -0.062543   \n",
       "2               -0.085340            -0.083137            -0.076989   \n",
       "3               -0.131299            -0.124065            -0.063584   \n",
       "4               -0.170738            -0.076768            -0.051094   \n",
       "...                   ...                  ...                  ...   \n",
       "6804            -0.147602            -0.127343            -0.085092   \n",
       "6805            -0.125145            -0.117809            -0.079352   \n",
       "6806            -0.136469            -0.128040            -0.052408   \n",
       "6807            -0.157149            -0.115694            -0.054802   \n",
       "6808            -0.126618            -0.103637            -0.082305   \n",
       "\n",
       "      host_response_time  \n",
       "0                      2  \n",
       "1                      4  \n",
       "2                      4  \n",
       "3                      4  \n",
       "4                      3  \n",
       "...                  ...  \n",
       "6804                   2  \n",
       "6805                   2  \n",
       "6806                   4  \n",
       "6807                   4  \n",
       "6808                   0  \n",
       "\n",
       "[6809 rows x 1154 columns]"
      ]
     },
     "execution_count": 25,
     "metadata": {},
     "output_type": "execute_result"
    }
   ],
   "source": [
    "# Save the label encoding into the main pandas dataframe for later processing\n",
    "processedColumns['host_response_time']=encoding\n",
    "processedColumns"
   ]
  },
  {
   "attachments": {},
   "cell_type": "markdown",
   "metadata": {},
   "source": [
    "### host_response_rate"
   ]
  },
  {
   "cell_type": "code",
   "execution_count": 26,
   "metadata": {},
   "outputs": [],
   "source": [
    "encoding = le.fit_transform(data.host_response_rate)\n"
   ]
  },
  {
   "cell_type": "code",
   "execution_count": 27,
   "metadata": {},
   "outputs": [
    {
     "data": {
      "text/html": [
       "<div>\n",
       "<style scoped>\n",
       "    .dataframe tbody tr th:only-of-type {\n",
       "        vertical-align: middle;\n",
       "    }\n",
       "\n",
       "    .dataframe tbody tr th {\n",
       "        vertical-align: top;\n",
       "    }\n",
       "\n",
       "    .dataframe thead th {\n",
       "        text-align: right;\n",
       "    }\n",
       "</style>\n",
       "<table border=\"1\" class=\"dataframe\">\n",
       "  <thead>\n",
       "    <tr style=\"text-align: right;\">\n",
       "      <th></th>\n",
       "      <th>neighborhood_overview_embeddings1</th>\n",
       "      <th>neighborhood_overview_embeddings2</th>\n",
       "      <th>neighborhood_overview_embeddings3</th>\n",
       "      <th>neighborhood_overview_embeddings4</th>\n",
       "      <th>neighborhood_overview_embeddings5</th>\n",
       "      <th>neighborhood_overview_embeddings6</th>\n",
       "      <th>neighborhood_overview_embeddings7</th>\n",
       "      <th>neighborhood_overview_embeddings8</th>\n",
       "      <th>neighborhood_overview_embeddings9</th>\n",
       "      <th>neighborhood_overview_embeddings10</th>\n",
       "      <th>...</th>\n",
       "      <th>price_embeddings377</th>\n",
       "      <th>price_embeddings378</th>\n",
       "      <th>price_embeddings379</th>\n",
       "      <th>price_embeddings380</th>\n",
       "      <th>price_embeddings381</th>\n",
       "      <th>price_embeddings382</th>\n",
       "      <th>price_embeddings383</th>\n",
       "      <th>price_embeddings384</th>\n",
       "      <th>host_response_time</th>\n",
       "      <th>host_response_rate</th>\n",
       "    </tr>\n",
       "  </thead>\n",
       "  <tbody>\n",
       "    <tr>\n",
       "      <th>0</th>\n",
       "      <td>-0.116372</td>\n",
       "      <td>0.097591</td>\n",
       "      <td>-0.060608</td>\n",
       "      <td>0.038863</td>\n",
       "      <td>0.014252</td>\n",
       "      <td>-0.047227</td>\n",
       "      <td>0.038234</td>\n",
       "      <td>-0.003749</td>\n",
       "      <td>-0.053559</td>\n",
       "      <td>-0.021652</td>\n",
       "      <td>...</td>\n",
       "      <td>-0.004897</td>\n",
       "      <td>0.021727</td>\n",
       "      <td>-0.109080</td>\n",
       "      <td>0.020360</td>\n",
       "      <td>-0.028012</td>\n",
       "      <td>-0.097993</td>\n",
       "      <td>-0.091352</td>\n",
       "      <td>-0.076711</td>\n",
       "      <td>2</td>\n",
       "      <td>36</td>\n",
       "    </tr>\n",
       "    <tr>\n",
       "      <th>1</th>\n",
       "      <td>0.136016</td>\n",
       "      <td>-0.015675</td>\n",
       "      <td>0.040567</td>\n",
       "      <td>-0.057190</td>\n",
       "      <td>0.003332</td>\n",
       "      <td>0.013339</td>\n",
       "      <td>-0.048955</td>\n",
       "      <td>0.021005</td>\n",
       "      <td>-0.015902</td>\n",
       "      <td>-0.068776</td>\n",
       "      <td>...</td>\n",
       "      <td>0.010420</td>\n",
       "      <td>-0.029209</td>\n",
       "      <td>-0.167799</td>\n",
       "      <td>-0.036253</td>\n",
       "      <td>0.032293</td>\n",
       "      <td>-0.116683</td>\n",
       "      <td>-0.117021</td>\n",
       "      <td>-0.062543</td>\n",
       "      <td>4</td>\n",
       "      <td>1</td>\n",
       "    </tr>\n",
       "    <tr>\n",
       "      <th>2</th>\n",
       "      <td>0.067852</td>\n",
       "      <td>0.060150</td>\n",
       "      <td>0.029182</td>\n",
       "      <td>0.027633</td>\n",
       "      <td>0.018493</td>\n",
       "      <td>0.014215</td>\n",
       "      <td>-0.025966</td>\n",
       "      <td>0.034286</td>\n",
       "      <td>-0.082199</td>\n",
       "      <td>-0.095101</td>\n",
       "      <td>...</td>\n",
       "      <td>0.013221</td>\n",
       "      <td>0.042182</td>\n",
       "      <td>-0.155596</td>\n",
       "      <td>0.062114</td>\n",
       "      <td>0.013426</td>\n",
       "      <td>-0.085340</td>\n",
       "      <td>-0.083137</td>\n",
       "      <td>-0.076989</td>\n",
       "      <td>4</td>\n",
       "      <td>1</td>\n",
       "    </tr>\n",
       "    <tr>\n",
       "      <th>3</th>\n",
       "      <td>0.113015</td>\n",
       "      <td>-0.039347</td>\n",
       "      <td>0.030979</td>\n",
       "      <td>-0.003132</td>\n",
       "      <td>0.019000</td>\n",
       "      <td>-0.008504</td>\n",
       "      <td>-0.004945</td>\n",
       "      <td>-0.068339</td>\n",
       "      <td>-0.038846</td>\n",
       "      <td>0.015379</td>\n",
       "      <td>...</td>\n",
       "      <td>0.004087</td>\n",
       "      <td>0.044521</td>\n",
       "      <td>-0.052210</td>\n",
       "      <td>-0.023781</td>\n",
       "      <td>0.005466</td>\n",
       "      <td>-0.131299</td>\n",
       "      <td>-0.124065</td>\n",
       "      <td>-0.063584</td>\n",
       "      <td>4</td>\n",
       "      <td>1</td>\n",
       "    </tr>\n",
       "    <tr>\n",
       "      <th>4</th>\n",
       "      <td>0.054659</td>\n",
       "      <td>-0.059907</td>\n",
       "      <td>0.037643</td>\n",
       "      <td>0.004035</td>\n",
       "      <td>0.079240</td>\n",
       "      <td>0.088770</td>\n",
       "      <td>0.037045</td>\n",
       "      <td>-0.014450</td>\n",
       "      <td>0.019367</td>\n",
       "      <td>-0.047079</td>\n",
       "      <td>...</td>\n",
       "      <td>-0.010562</td>\n",
       "      <td>0.047455</td>\n",
       "      <td>-0.121489</td>\n",
       "      <td>-0.014389</td>\n",
       "      <td>-0.012024</td>\n",
       "      <td>-0.170738</td>\n",
       "      <td>-0.076768</td>\n",
       "      <td>-0.051094</td>\n",
       "      <td>3</td>\n",
       "      <td>1</td>\n",
       "    </tr>\n",
       "    <tr>\n",
       "      <th>...</th>\n",
       "      <td>...</td>\n",
       "      <td>...</td>\n",
       "      <td>...</td>\n",
       "      <td>...</td>\n",
       "      <td>...</td>\n",
       "      <td>...</td>\n",
       "      <td>...</td>\n",
       "      <td>...</td>\n",
       "      <td>...</td>\n",
       "      <td>...</td>\n",
       "      <td>...</td>\n",
       "      <td>...</td>\n",
       "      <td>...</td>\n",
       "      <td>...</td>\n",
       "      <td>...</td>\n",
       "      <td>...</td>\n",
       "      <td>...</td>\n",
       "      <td>...</td>\n",
       "      <td>...</td>\n",
       "      <td>...</td>\n",
       "      <td>...</td>\n",
       "    </tr>\n",
       "    <tr>\n",
       "      <th>6804</th>\n",
       "      <td>0.055526</td>\n",
       "      <td>-0.097399</td>\n",
       "      <td>0.024774</td>\n",
       "      <td>0.023912</td>\n",
       "      <td>0.040295</td>\n",
       "      <td>0.051588</td>\n",
       "      <td>0.001469</td>\n",
       "      <td>-0.003682</td>\n",
       "      <td>-0.122625</td>\n",
       "      <td>-0.062624</td>\n",
       "      <td>...</td>\n",
       "      <td>-0.037846</td>\n",
       "      <td>0.050282</td>\n",
       "      <td>-0.125588</td>\n",
       "      <td>-0.016783</td>\n",
       "      <td>-0.002898</td>\n",
       "      <td>-0.147602</td>\n",
       "      <td>-0.127343</td>\n",
       "      <td>-0.085092</td>\n",
       "      <td>2</td>\n",
       "      <td>29</td>\n",
       "    </tr>\n",
       "    <tr>\n",
       "      <th>6805</th>\n",
       "      <td>-0.116372</td>\n",
       "      <td>0.097591</td>\n",
       "      <td>-0.060608</td>\n",
       "      <td>0.038863</td>\n",
       "      <td>0.014252</td>\n",
       "      <td>-0.047227</td>\n",
       "      <td>0.038234</td>\n",
       "      <td>-0.003749</td>\n",
       "      <td>-0.053559</td>\n",
       "      <td>-0.021652</td>\n",
       "      <td>...</td>\n",
       "      <td>0.002373</td>\n",
       "      <td>0.026096</td>\n",
       "      <td>-0.093082</td>\n",
       "      <td>-0.022921</td>\n",
       "      <td>-0.039951</td>\n",
       "      <td>-0.125145</td>\n",
       "      <td>-0.117809</td>\n",
       "      <td>-0.079352</td>\n",
       "      <td>2</td>\n",
       "      <td>1</td>\n",
       "    </tr>\n",
       "    <tr>\n",
       "      <th>6806</th>\n",
       "      <td>-0.116372</td>\n",
       "      <td>0.097591</td>\n",
       "      <td>-0.060608</td>\n",
       "      <td>0.038863</td>\n",
       "      <td>0.014252</td>\n",
       "      <td>-0.047227</td>\n",
       "      <td>0.038234</td>\n",
       "      <td>-0.003749</td>\n",
       "      <td>-0.053559</td>\n",
       "      <td>-0.021652</td>\n",
       "      <td>...</td>\n",
       "      <td>-0.027632</td>\n",
       "      <td>0.050558</td>\n",
       "      <td>-0.102924</td>\n",
       "      <td>0.003952</td>\n",
       "      <td>-0.021871</td>\n",
       "      <td>-0.136469</td>\n",
       "      <td>-0.128040</td>\n",
       "      <td>-0.052408</td>\n",
       "      <td>4</td>\n",
       "      <td>1</td>\n",
       "    </tr>\n",
       "    <tr>\n",
       "      <th>6807</th>\n",
       "      <td>0.118142</td>\n",
       "      <td>0.062713</td>\n",
       "      <td>-0.015865</td>\n",
       "      <td>0.026243</td>\n",
       "      <td>0.035154</td>\n",
       "      <td>0.018661</td>\n",
       "      <td>-0.076788</td>\n",
       "      <td>-0.077332</td>\n",
       "      <td>-0.051274</td>\n",
       "      <td>-0.009355</td>\n",
       "      <td>...</td>\n",
       "      <td>0.029830</td>\n",
       "      <td>0.043785</td>\n",
       "      <td>-0.110274</td>\n",
       "      <td>0.012278</td>\n",
       "      <td>-0.049344</td>\n",
       "      <td>-0.157149</td>\n",
       "      <td>-0.115694</td>\n",
       "      <td>-0.054802</td>\n",
       "      <td>4</td>\n",
       "      <td>1</td>\n",
       "    </tr>\n",
       "    <tr>\n",
       "      <th>6808</th>\n",
       "      <td>-0.116372</td>\n",
       "      <td>0.097591</td>\n",
       "      <td>-0.060608</td>\n",
       "      <td>0.038863</td>\n",
       "      <td>0.014252</td>\n",
       "      <td>-0.047227</td>\n",
       "      <td>0.038234</td>\n",
       "      <td>-0.003749</td>\n",
       "      <td>-0.053559</td>\n",
       "      <td>-0.021652</td>\n",
       "      <td>...</td>\n",
       "      <td>-0.034414</td>\n",
       "      <td>0.024861</td>\n",
       "      <td>-0.101010</td>\n",
       "      <td>0.050035</td>\n",
       "      <td>-0.036815</td>\n",
       "      <td>-0.126618</td>\n",
       "      <td>-0.103637</td>\n",
       "      <td>-0.082305</td>\n",
       "      <td>0</td>\n",
       "      <td>49</td>\n",
       "    </tr>\n",
       "  </tbody>\n",
       "</table>\n",
       "<p>6809 rows × 1155 columns</p>\n",
       "</div>"
      ],
      "text/plain": [
       "      neighborhood_overview_embeddings1  neighborhood_overview_embeddings2  \\\n",
       "0                             -0.116372                           0.097591   \n",
       "1                              0.136016                          -0.015675   \n",
       "2                              0.067852                           0.060150   \n",
       "3                              0.113015                          -0.039347   \n",
       "4                              0.054659                          -0.059907   \n",
       "...                                 ...                                ...   \n",
       "6804                           0.055526                          -0.097399   \n",
       "6805                          -0.116372                           0.097591   \n",
       "6806                          -0.116372                           0.097591   \n",
       "6807                           0.118142                           0.062713   \n",
       "6808                          -0.116372                           0.097591   \n",
       "\n",
       "      neighborhood_overview_embeddings3  neighborhood_overview_embeddings4  \\\n",
       "0                             -0.060608                           0.038863   \n",
       "1                              0.040567                          -0.057190   \n",
       "2                              0.029182                           0.027633   \n",
       "3                              0.030979                          -0.003132   \n",
       "4                              0.037643                           0.004035   \n",
       "...                                 ...                                ...   \n",
       "6804                           0.024774                           0.023912   \n",
       "6805                          -0.060608                           0.038863   \n",
       "6806                          -0.060608                           0.038863   \n",
       "6807                          -0.015865                           0.026243   \n",
       "6808                          -0.060608                           0.038863   \n",
       "\n",
       "      neighborhood_overview_embeddings5  neighborhood_overview_embeddings6  \\\n",
       "0                              0.014252                          -0.047227   \n",
       "1                              0.003332                           0.013339   \n",
       "2                              0.018493                           0.014215   \n",
       "3                              0.019000                          -0.008504   \n",
       "4                              0.079240                           0.088770   \n",
       "...                                 ...                                ...   \n",
       "6804                           0.040295                           0.051588   \n",
       "6805                           0.014252                          -0.047227   \n",
       "6806                           0.014252                          -0.047227   \n",
       "6807                           0.035154                           0.018661   \n",
       "6808                           0.014252                          -0.047227   \n",
       "\n",
       "      neighborhood_overview_embeddings7  neighborhood_overview_embeddings8  \\\n",
       "0                              0.038234                          -0.003749   \n",
       "1                             -0.048955                           0.021005   \n",
       "2                             -0.025966                           0.034286   \n",
       "3                             -0.004945                          -0.068339   \n",
       "4                              0.037045                          -0.014450   \n",
       "...                                 ...                                ...   \n",
       "6804                           0.001469                          -0.003682   \n",
       "6805                           0.038234                          -0.003749   \n",
       "6806                           0.038234                          -0.003749   \n",
       "6807                          -0.076788                          -0.077332   \n",
       "6808                           0.038234                          -0.003749   \n",
       "\n",
       "      neighborhood_overview_embeddings9  neighborhood_overview_embeddings10  \\\n",
       "0                             -0.053559                           -0.021652   \n",
       "1                             -0.015902                           -0.068776   \n",
       "2                             -0.082199                           -0.095101   \n",
       "3                             -0.038846                            0.015379   \n",
       "4                              0.019367                           -0.047079   \n",
       "...                                 ...                                 ...   \n",
       "6804                          -0.122625                           -0.062624   \n",
       "6805                          -0.053559                           -0.021652   \n",
       "6806                          -0.053559                           -0.021652   \n",
       "6807                          -0.051274                           -0.009355   \n",
       "6808                          -0.053559                           -0.021652   \n",
       "\n",
       "      ...  price_embeddings377  price_embeddings378  price_embeddings379  \\\n",
       "0     ...            -0.004897             0.021727            -0.109080   \n",
       "1     ...             0.010420            -0.029209            -0.167799   \n",
       "2     ...             0.013221             0.042182            -0.155596   \n",
       "3     ...             0.004087             0.044521            -0.052210   \n",
       "4     ...            -0.010562             0.047455            -0.121489   \n",
       "...   ...                  ...                  ...                  ...   \n",
       "6804  ...            -0.037846             0.050282            -0.125588   \n",
       "6805  ...             0.002373             0.026096            -0.093082   \n",
       "6806  ...            -0.027632             0.050558            -0.102924   \n",
       "6807  ...             0.029830             0.043785            -0.110274   \n",
       "6808  ...            -0.034414             0.024861            -0.101010   \n",
       "\n",
       "      price_embeddings380  price_embeddings381  price_embeddings382  \\\n",
       "0                0.020360            -0.028012            -0.097993   \n",
       "1               -0.036253             0.032293            -0.116683   \n",
       "2                0.062114             0.013426            -0.085340   \n",
       "3               -0.023781             0.005466            -0.131299   \n",
       "4               -0.014389            -0.012024            -0.170738   \n",
       "...                   ...                  ...                  ...   \n",
       "6804            -0.016783            -0.002898            -0.147602   \n",
       "6805            -0.022921            -0.039951            -0.125145   \n",
       "6806             0.003952            -0.021871            -0.136469   \n",
       "6807             0.012278            -0.049344            -0.157149   \n",
       "6808             0.050035            -0.036815            -0.126618   \n",
       "\n",
       "      price_embeddings383  price_embeddings384  host_response_time  \\\n",
       "0               -0.091352            -0.076711                   2   \n",
       "1               -0.117021            -0.062543                   4   \n",
       "2               -0.083137            -0.076989                   4   \n",
       "3               -0.124065            -0.063584                   4   \n",
       "4               -0.076768            -0.051094                   3   \n",
       "...                   ...                  ...                 ...   \n",
       "6804            -0.127343            -0.085092                   2   \n",
       "6805            -0.117809            -0.079352                   2   \n",
       "6806            -0.128040            -0.052408                   4   \n",
       "6807            -0.115694            -0.054802                   4   \n",
       "6808            -0.103637            -0.082305                   0   \n",
       "\n",
       "      host_response_rate  \n",
       "0                     36  \n",
       "1                      1  \n",
       "2                      1  \n",
       "3                      1  \n",
       "4                      1  \n",
       "...                  ...  \n",
       "6804                  29  \n",
       "6805                   1  \n",
       "6806                   1  \n",
       "6807                   1  \n",
       "6808                  49  \n",
       "\n",
       "[6809 rows x 1155 columns]"
      ]
     },
     "execution_count": 27,
     "metadata": {},
     "output_type": "execute_result"
    }
   ],
   "source": [
    "processedColumns['host_response_rate']=encoding\n",
    "processedColumns"
   ]
  },
  {
   "attachments": {},
   "cell_type": "markdown",
   "metadata": {},
   "source": [
    "### host_acceptance_rate"
   ]
  },
  {
   "cell_type": "code",
   "execution_count": 28,
   "metadata": {},
   "outputs": [],
   "source": [
    "encoding = le.fit_transform(data.host_acceptance_rate)"
   ]
  },
  {
   "cell_type": "code",
   "execution_count": 29,
   "metadata": {},
   "outputs": [
    {
     "data": {
      "text/html": [
       "<div>\n",
       "<style scoped>\n",
       "    .dataframe tbody tr th:only-of-type {\n",
       "        vertical-align: middle;\n",
       "    }\n",
       "\n",
       "    .dataframe tbody tr th {\n",
       "        vertical-align: top;\n",
       "    }\n",
       "\n",
       "    .dataframe thead th {\n",
       "        text-align: right;\n",
       "    }\n",
       "</style>\n",
       "<table border=\"1\" class=\"dataframe\">\n",
       "  <thead>\n",
       "    <tr style=\"text-align: right;\">\n",
       "      <th></th>\n",
       "      <th>neighborhood_overview_embeddings1</th>\n",
       "      <th>neighborhood_overview_embeddings2</th>\n",
       "      <th>neighborhood_overview_embeddings3</th>\n",
       "      <th>neighborhood_overview_embeddings4</th>\n",
       "      <th>neighborhood_overview_embeddings5</th>\n",
       "      <th>neighborhood_overview_embeddings6</th>\n",
       "      <th>neighborhood_overview_embeddings7</th>\n",
       "      <th>neighborhood_overview_embeddings8</th>\n",
       "      <th>neighborhood_overview_embeddings9</th>\n",
       "      <th>neighborhood_overview_embeddings10</th>\n",
       "      <th>...</th>\n",
       "      <th>price_embeddings378</th>\n",
       "      <th>price_embeddings379</th>\n",
       "      <th>price_embeddings380</th>\n",
       "      <th>price_embeddings381</th>\n",
       "      <th>price_embeddings382</th>\n",
       "      <th>price_embeddings383</th>\n",
       "      <th>price_embeddings384</th>\n",
       "      <th>host_response_time</th>\n",
       "      <th>host_response_rate</th>\n",
       "      <th>host_acceptance_rate</th>\n",
       "    </tr>\n",
       "  </thead>\n",
       "  <tbody>\n",
       "    <tr>\n",
       "      <th>0</th>\n",
       "      <td>-0.116372</td>\n",
       "      <td>0.097591</td>\n",
       "      <td>-0.060608</td>\n",
       "      <td>0.038863</td>\n",
       "      <td>0.014252</td>\n",
       "      <td>-0.047227</td>\n",
       "      <td>0.038234</td>\n",
       "      <td>-0.003749</td>\n",
       "      <td>-0.053559</td>\n",
       "      <td>-0.021652</td>\n",
       "      <td>...</td>\n",
       "      <td>0.021727</td>\n",
       "      <td>-0.109080</td>\n",
       "      <td>0.020360</td>\n",
       "      <td>-0.028012</td>\n",
       "      <td>-0.097993</td>\n",
       "      <td>-0.091352</td>\n",
       "      <td>-0.076711</td>\n",
       "      <td>2</td>\n",
       "      <td>36</td>\n",
       "      <td>93</td>\n",
       "    </tr>\n",
       "    <tr>\n",
       "      <th>1</th>\n",
       "      <td>0.136016</td>\n",
       "      <td>-0.015675</td>\n",
       "      <td>0.040567</td>\n",
       "      <td>-0.057190</td>\n",
       "      <td>0.003332</td>\n",
       "      <td>0.013339</td>\n",
       "      <td>-0.048955</td>\n",
       "      <td>0.021005</td>\n",
       "      <td>-0.015902</td>\n",
       "      <td>-0.068776</td>\n",
       "      <td>...</td>\n",
       "      <td>-0.029209</td>\n",
       "      <td>-0.167799</td>\n",
       "      <td>-0.036253</td>\n",
       "      <td>0.032293</td>\n",
       "      <td>-0.116683</td>\n",
       "      <td>-0.117021</td>\n",
       "      <td>-0.062543</td>\n",
       "      <td>4</td>\n",
       "      <td>1</td>\n",
       "      <td>2</td>\n",
       "    </tr>\n",
       "    <tr>\n",
       "      <th>2</th>\n",
       "      <td>0.067852</td>\n",
       "      <td>0.060150</td>\n",
       "      <td>0.029182</td>\n",
       "      <td>0.027633</td>\n",
       "      <td>0.018493</td>\n",
       "      <td>0.014215</td>\n",
       "      <td>-0.025966</td>\n",
       "      <td>0.034286</td>\n",
       "      <td>-0.082199</td>\n",
       "      <td>-0.095101</td>\n",
       "      <td>...</td>\n",
       "      <td>0.042182</td>\n",
       "      <td>-0.155596</td>\n",
       "      <td>0.062114</td>\n",
       "      <td>0.013426</td>\n",
       "      <td>-0.085340</td>\n",
       "      <td>-0.083137</td>\n",
       "      <td>-0.076989</td>\n",
       "      <td>4</td>\n",
       "      <td>1</td>\n",
       "      <td>95</td>\n",
       "    </tr>\n",
       "    <tr>\n",
       "      <th>3</th>\n",
       "      <td>0.113015</td>\n",
       "      <td>-0.039347</td>\n",
       "      <td>0.030979</td>\n",
       "      <td>-0.003132</td>\n",
       "      <td>0.019000</td>\n",
       "      <td>-0.008504</td>\n",
       "      <td>-0.004945</td>\n",
       "      <td>-0.068339</td>\n",
       "      <td>-0.038846</td>\n",
       "      <td>0.015379</td>\n",
       "      <td>...</td>\n",
       "      <td>0.044521</td>\n",
       "      <td>-0.052210</td>\n",
       "      <td>-0.023781</td>\n",
       "      <td>0.005466</td>\n",
       "      <td>-0.131299</td>\n",
       "      <td>-0.124065</td>\n",
       "      <td>-0.063584</td>\n",
       "      <td>4</td>\n",
       "      <td>1</td>\n",
       "      <td>2</td>\n",
       "    </tr>\n",
       "    <tr>\n",
       "      <th>4</th>\n",
       "      <td>0.054659</td>\n",
       "      <td>-0.059907</td>\n",
       "      <td>0.037643</td>\n",
       "      <td>0.004035</td>\n",
       "      <td>0.079240</td>\n",
       "      <td>0.088770</td>\n",
       "      <td>0.037045</td>\n",
       "      <td>-0.014450</td>\n",
       "      <td>0.019367</td>\n",
       "      <td>-0.047079</td>\n",
       "      <td>...</td>\n",
       "      <td>0.047455</td>\n",
       "      <td>-0.121489</td>\n",
       "      <td>-0.014389</td>\n",
       "      <td>-0.012024</td>\n",
       "      <td>-0.170738</td>\n",
       "      <td>-0.076768</td>\n",
       "      <td>-0.051094</td>\n",
       "      <td>3</td>\n",
       "      <td>1</td>\n",
       "      <td>2</td>\n",
       "    </tr>\n",
       "    <tr>\n",
       "      <th>...</th>\n",
       "      <td>...</td>\n",
       "      <td>...</td>\n",
       "      <td>...</td>\n",
       "      <td>...</td>\n",
       "      <td>...</td>\n",
       "      <td>...</td>\n",
       "      <td>...</td>\n",
       "      <td>...</td>\n",
       "      <td>...</td>\n",
       "      <td>...</td>\n",
       "      <td>...</td>\n",
       "      <td>...</td>\n",
       "      <td>...</td>\n",
       "      <td>...</td>\n",
       "      <td>...</td>\n",
       "      <td>...</td>\n",
       "      <td>...</td>\n",
       "      <td>...</td>\n",
       "      <td>...</td>\n",
       "      <td>...</td>\n",
       "      <td>...</td>\n",
       "    </tr>\n",
       "    <tr>\n",
       "      <th>6804</th>\n",
       "      <td>0.055526</td>\n",
       "      <td>-0.097399</td>\n",
       "      <td>0.024774</td>\n",
       "      <td>0.023912</td>\n",
       "      <td>0.040295</td>\n",
       "      <td>0.051588</td>\n",
       "      <td>0.001469</td>\n",
       "      <td>-0.003682</td>\n",
       "      <td>-0.122625</td>\n",
       "      <td>-0.062624</td>\n",
       "      <td>...</td>\n",
       "      <td>0.050282</td>\n",
       "      <td>-0.125588</td>\n",
       "      <td>-0.016783</td>\n",
       "      <td>-0.002898</td>\n",
       "      <td>-0.147602</td>\n",
       "      <td>-0.127343</td>\n",
       "      <td>-0.085092</td>\n",
       "      <td>2</td>\n",
       "      <td>29</td>\n",
       "      <td>84</td>\n",
       "    </tr>\n",
       "    <tr>\n",
       "      <th>6805</th>\n",
       "      <td>-0.116372</td>\n",
       "      <td>0.097591</td>\n",
       "      <td>-0.060608</td>\n",
       "      <td>0.038863</td>\n",
       "      <td>0.014252</td>\n",
       "      <td>-0.047227</td>\n",
       "      <td>0.038234</td>\n",
       "      <td>-0.003749</td>\n",
       "      <td>-0.053559</td>\n",
       "      <td>-0.021652</td>\n",
       "      <td>...</td>\n",
       "      <td>0.026096</td>\n",
       "      <td>-0.093082</td>\n",
       "      <td>-0.022921</td>\n",
       "      <td>-0.039951</td>\n",
       "      <td>-0.125145</td>\n",
       "      <td>-0.117809</td>\n",
       "      <td>-0.079352</td>\n",
       "      <td>2</td>\n",
       "      <td>1</td>\n",
       "      <td>0</td>\n",
       "    </tr>\n",
       "    <tr>\n",
       "      <th>6806</th>\n",
       "      <td>-0.116372</td>\n",
       "      <td>0.097591</td>\n",
       "      <td>-0.060608</td>\n",
       "      <td>0.038863</td>\n",
       "      <td>0.014252</td>\n",
       "      <td>-0.047227</td>\n",
       "      <td>0.038234</td>\n",
       "      <td>-0.003749</td>\n",
       "      <td>-0.053559</td>\n",
       "      <td>-0.021652</td>\n",
       "      <td>...</td>\n",
       "      <td>0.050558</td>\n",
       "      <td>-0.102924</td>\n",
       "      <td>0.003952</td>\n",
       "      <td>-0.021871</td>\n",
       "      <td>-0.136469</td>\n",
       "      <td>-0.128040</td>\n",
       "      <td>-0.052408</td>\n",
       "      <td>4</td>\n",
       "      <td>1</td>\n",
       "      <td>79</td>\n",
       "    </tr>\n",
       "    <tr>\n",
       "      <th>6807</th>\n",
       "      <td>0.118142</td>\n",
       "      <td>0.062713</td>\n",
       "      <td>-0.015865</td>\n",
       "      <td>0.026243</td>\n",
       "      <td>0.035154</td>\n",
       "      <td>0.018661</td>\n",
       "      <td>-0.076788</td>\n",
       "      <td>-0.077332</td>\n",
       "      <td>-0.051274</td>\n",
       "      <td>-0.009355</td>\n",
       "      <td>...</td>\n",
       "      <td>0.043785</td>\n",
       "      <td>-0.110274</td>\n",
       "      <td>0.012278</td>\n",
       "      <td>-0.049344</td>\n",
       "      <td>-0.157149</td>\n",
       "      <td>-0.115694</td>\n",
       "      <td>-0.054802</td>\n",
       "      <td>4</td>\n",
       "      <td>1</td>\n",
       "      <td>96</td>\n",
       "    </tr>\n",
       "    <tr>\n",
       "      <th>6808</th>\n",
       "      <td>-0.116372</td>\n",
       "      <td>0.097591</td>\n",
       "      <td>-0.060608</td>\n",
       "      <td>0.038863</td>\n",
       "      <td>0.014252</td>\n",
       "      <td>-0.047227</td>\n",
       "      <td>0.038234</td>\n",
       "      <td>-0.003749</td>\n",
       "      <td>-0.053559</td>\n",
       "      <td>-0.021652</td>\n",
       "      <td>...</td>\n",
       "      <td>0.024861</td>\n",
       "      <td>-0.101010</td>\n",
       "      <td>0.050035</td>\n",
       "      <td>-0.036815</td>\n",
       "      <td>-0.126618</td>\n",
       "      <td>-0.103637</td>\n",
       "      <td>-0.082305</td>\n",
       "      <td>0</td>\n",
       "      <td>49</td>\n",
       "      <td>43</td>\n",
       "    </tr>\n",
       "  </tbody>\n",
       "</table>\n",
       "<p>6809 rows × 1156 columns</p>\n",
       "</div>"
      ],
      "text/plain": [
       "      neighborhood_overview_embeddings1  neighborhood_overview_embeddings2  \\\n",
       "0                             -0.116372                           0.097591   \n",
       "1                              0.136016                          -0.015675   \n",
       "2                              0.067852                           0.060150   \n",
       "3                              0.113015                          -0.039347   \n",
       "4                              0.054659                          -0.059907   \n",
       "...                                 ...                                ...   \n",
       "6804                           0.055526                          -0.097399   \n",
       "6805                          -0.116372                           0.097591   \n",
       "6806                          -0.116372                           0.097591   \n",
       "6807                           0.118142                           0.062713   \n",
       "6808                          -0.116372                           0.097591   \n",
       "\n",
       "      neighborhood_overview_embeddings3  neighborhood_overview_embeddings4  \\\n",
       "0                             -0.060608                           0.038863   \n",
       "1                              0.040567                          -0.057190   \n",
       "2                              0.029182                           0.027633   \n",
       "3                              0.030979                          -0.003132   \n",
       "4                              0.037643                           0.004035   \n",
       "...                                 ...                                ...   \n",
       "6804                           0.024774                           0.023912   \n",
       "6805                          -0.060608                           0.038863   \n",
       "6806                          -0.060608                           0.038863   \n",
       "6807                          -0.015865                           0.026243   \n",
       "6808                          -0.060608                           0.038863   \n",
       "\n",
       "      neighborhood_overview_embeddings5  neighborhood_overview_embeddings6  \\\n",
       "0                              0.014252                          -0.047227   \n",
       "1                              0.003332                           0.013339   \n",
       "2                              0.018493                           0.014215   \n",
       "3                              0.019000                          -0.008504   \n",
       "4                              0.079240                           0.088770   \n",
       "...                                 ...                                ...   \n",
       "6804                           0.040295                           0.051588   \n",
       "6805                           0.014252                          -0.047227   \n",
       "6806                           0.014252                          -0.047227   \n",
       "6807                           0.035154                           0.018661   \n",
       "6808                           0.014252                          -0.047227   \n",
       "\n",
       "      neighborhood_overview_embeddings7  neighborhood_overview_embeddings8  \\\n",
       "0                              0.038234                          -0.003749   \n",
       "1                             -0.048955                           0.021005   \n",
       "2                             -0.025966                           0.034286   \n",
       "3                             -0.004945                          -0.068339   \n",
       "4                              0.037045                          -0.014450   \n",
       "...                                 ...                                ...   \n",
       "6804                           0.001469                          -0.003682   \n",
       "6805                           0.038234                          -0.003749   \n",
       "6806                           0.038234                          -0.003749   \n",
       "6807                          -0.076788                          -0.077332   \n",
       "6808                           0.038234                          -0.003749   \n",
       "\n",
       "      neighborhood_overview_embeddings9  neighborhood_overview_embeddings10  \\\n",
       "0                             -0.053559                           -0.021652   \n",
       "1                             -0.015902                           -0.068776   \n",
       "2                             -0.082199                           -0.095101   \n",
       "3                             -0.038846                            0.015379   \n",
       "4                              0.019367                           -0.047079   \n",
       "...                                 ...                                 ...   \n",
       "6804                          -0.122625                           -0.062624   \n",
       "6805                          -0.053559                           -0.021652   \n",
       "6806                          -0.053559                           -0.021652   \n",
       "6807                          -0.051274                           -0.009355   \n",
       "6808                          -0.053559                           -0.021652   \n",
       "\n",
       "      ...  price_embeddings378  price_embeddings379  price_embeddings380  \\\n",
       "0     ...             0.021727            -0.109080             0.020360   \n",
       "1     ...            -0.029209            -0.167799            -0.036253   \n",
       "2     ...             0.042182            -0.155596             0.062114   \n",
       "3     ...             0.044521            -0.052210            -0.023781   \n",
       "4     ...             0.047455            -0.121489            -0.014389   \n",
       "...   ...                  ...                  ...                  ...   \n",
       "6804  ...             0.050282            -0.125588            -0.016783   \n",
       "6805  ...             0.026096            -0.093082            -0.022921   \n",
       "6806  ...             0.050558            -0.102924             0.003952   \n",
       "6807  ...             0.043785            -0.110274             0.012278   \n",
       "6808  ...             0.024861            -0.101010             0.050035   \n",
       "\n",
       "      price_embeddings381  price_embeddings382  price_embeddings383  \\\n",
       "0               -0.028012            -0.097993            -0.091352   \n",
       "1                0.032293            -0.116683            -0.117021   \n",
       "2                0.013426            -0.085340            -0.083137   \n",
       "3                0.005466            -0.131299            -0.124065   \n",
       "4               -0.012024            -0.170738            -0.076768   \n",
       "...                   ...                  ...                  ...   \n",
       "6804            -0.002898            -0.147602            -0.127343   \n",
       "6805            -0.039951            -0.125145            -0.117809   \n",
       "6806            -0.021871            -0.136469            -0.128040   \n",
       "6807            -0.049344            -0.157149            -0.115694   \n",
       "6808            -0.036815            -0.126618            -0.103637   \n",
       "\n",
       "      price_embeddings384  host_response_time  host_response_rate  \\\n",
       "0               -0.076711                   2                  36   \n",
       "1               -0.062543                   4                   1   \n",
       "2               -0.076989                   4                   1   \n",
       "3               -0.063584                   4                   1   \n",
       "4               -0.051094                   3                   1   \n",
       "...                   ...                 ...                 ...   \n",
       "6804            -0.085092                   2                  29   \n",
       "6805            -0.079352                   2                   1   \n",
       "6806            -0.052408                   4                   1   \n",
       "6807            -0.054802                   4                   1   \n",
       "6808            -0.082305                   0                  49   \n",
       "\n",
       "      host_acceptance_rate  \n",
       "0                       93  \n",
       "1                        2  \n",
       "2                       95  \n",
       "3                        2  \n",
       "4                        2  \n",
       "...                    ...  \n",
       "6804                    84  \n",
       "6805                     0  \n",
       "6806                    79  \n",
       "6807                    96  \n",
       "6808                    43  \n",
       "\n",
       "[6809 rows x 1156 columns]"
      ]
     },
     "execution_count": 29,
     "metadata": {},
     "output_type": "execute_result"
    }
   ],
   "source": [
    "processedColumns['host_acceptance_rate']=encoding\n",
    "processedColumns"
   ]
  },
  {
   "attachments": {},
   "cell_type": "markdown",
   "metadata": {},
   "source": [
    "### host_is_superhost"
   ]
  },
  {
   "cell_type": "code",
   "execution_count": 30,
   "metadata": {},
   "outputs": [],
   "source": [
    "encoding = le.fit_transform(data.host_is_superhost)"
   ]
  },
  {
   "cell_type": "code",
   "execution_count": 31,
   "metadata": {},
   "outputs": [
    {
     "data": {
      "text/plain": [
       "0       1\n",
       "1       2\n",
       "2       1\n",
       "3       2\n",
       "4       2\n",
       "       ..\n",
       "6804    2\n",
       "6805    1\n",
       "6806    1\n",
       "6807    2\n",
       "6808    1\n",
       "Name: host_is_superhost, Length: 6809, dtype: int32"
      ]
     },
     "execution_count": 31,
     "metadata": {},
     "output_type": "execute_result"
    }
   ],
   "source": [
    "processedColumns['host_is_superhost']=encoding\n",
    "processedColumns.host_is_superhost"
   ]
  },
  {
   "attachments": {},
   "cell_type": "markdown",
   "metadata": {},
   "source": [
    "### host_neighbourhood"
   ]
  },
  {
   "cell_type": "code",
   "execution_count": 32,
   "metadata": {},
   "outputs": [
    {
     "data": {
      "text/plain": [
       "UNK                                    3771\n",
       "Oud-West                                555\n",
       "Grachtengordel                          248\n",
       "De Pijp                                 229\n",
       "Jordaan                                 194\n",
       "Oosterparkbuurt                         152\n",
       "Bos en Lommer                           128\n",
       "Indische Buurt                          118\n",
       "Oost                                     88\n",
       "Nieuwmarkt en Lastage                    83\n",
       "Rivierenbuurt                            79\n",
       "Hoofddorppleinbuurt                      72\n",
       "Westelijke Eilanden                      70\n",
       "De Wallen                                69\n",
       "Weesperbuurt en Plantage                 66\n",
       "Amsterdam Centrum                        61\n",
       "Watergraafsmeer                          61\n",
       "Oostelijke Eilanden en Kadijken          58\n",
       "Zeeburg                                  56\n",
       "Oud-Zuid                                 51\n",
       "Frederik Hendrikbuurt                    51\n",
       "Museumkwartier                           46\n",
       "Spaarndammer en Zeeheldenbuurt           45\n",
       "Stadionbuurt                             44\n",
       "Slotervaart                              43\n",
       "IJplein en Vogelbuurt                    37\n",
       "Volewijck                                35\n",
       "Tuindorp Oostzaan                        33\n",
       "Osdorp                                   32\n",
       "Buiksloterham                            24\n",
       "Oostzanerwerf                            22\n",
       "Banne Buiksloot                          21\n",
       "Buikslotermeer                           19\n",
       "Overtoomse Veld                          19\n",
       "Buitenveldert-West                       18\n",
       "Kadoelen                                 15\n",
       "Tuindorp Buiksloot                       14\n",
       "Slotermeer-Noordoost                     13\n",
       "Slotermeer-Zuidwest                      11\n",
       "Landelijk Noord                          11\n",
       "Nieuwendam-Noord                         11\n",
       "Tuindorp Nieuwendam                       7\n",
       "Glòries - El Parc                         6\n",
       "Buitenveldert-Oost                        4\n",
       "Nieuwendammerdijk en Buiksloterdijk       4\n",
       "Koreatown                                 2\n",
       "Passy                                     1\n",
       "LB of Islington                           1\n",
       "Grand Place                               1\n",
       "Valdeacederas                             1\n",
       "Belváros                                  1\n",
       "Stockwell                                 1\n",
       "Sant Antoni                               1\n",
       "La Combe                                  1\n",
       "Nieuwendammerham                          1\n",
       "La Sagrada Família                        1\n",
       "Palermo Hollywood                         1\n",
       "Cannaregio                                1\n",
       "El Raval                                  1\n",
       "Name: host_neighbourhood, dtype: int64"
      ]
     },
     "execution_count": 32,
     "metadata": {},
     "output_type": "execute_result"
    }
   ],
   "source": [
    "data.host_neighbourhood.value_counts()"
   ]
  },
  {
   "cell_type": "code",
   "execution_count": 33,
   "metadata": {},
   "outputs": [
    {
     "data": {
      "text/plain": [
       "['Passy',\n",
       " 'LB of Islington',\n",
       " 'Grand Place',\n",
       " 'Valdeacederas',\n",
       " 'Belváros',\n",
       " 'Stockwell',\n",
       " 'Sant Antoni',\n",
       " 'La Combe',\n",
       " 'Nieuwendammerham',\n",
       " 'La Sagrada Família',\n",
       " 'Palermo Hollywood',\n",
       " 'Cannaregio',\n",
       " 'El Raval']"
      ]
     },
     "execution_count": 33,
     "metadata": {},
     "output_type": "execute_result"
    }
   ],
   "source": [
    "vc = data.host_neighbourhood.value_counts()\n",
    "single_neighborhoods = vc[vc == 1].index.tolist()\n",
    "\n",
    "data.loc[data['host_neighbourhood'].isin(single_neighborhoods), 'host_neighbourhood'] = 'other'\n",
    "\n",
    "single_neighborhoods"
   ]
  },
  {
   "cell_type": "code",
   "execution_count": 34,
   "metadata": {},
   "outputs": [
    {
     "data": {
      "text/plain": [
       "Tuindorp Nieuwendam                    7\n",
       "Glòries - El Parc                      6\n",
       "Buitenveldert-Oost                     4\n",
       "Nieuwendammerdijk en Buiksloterdijk    4\n",
       "Koreatown                              2\n",
       "Name: host_neighbourhood, dtype: int64"
      ]
     },
     "execution_count": 34,
     "metadata": {},
     "output_type": "execute_result"
    }
   ],
   "source": [
    "data.host_neighbourhood.value_counts().tail(5)"
   ]
  },
  {
   "cell_type": "code",
   "execution_count": 35,
   "metadata": {},
   "outputs": [
    {
     "data": {
      "text/plain": [
       "0       35\n",
       "1       14\n",
       "2       11\n",
       "3       44\n",
       "4        0\n",
       "        ..\n",
       "6804    22\n",
       "6805    28\n",
       "6806     7\n",
       "6807    43\n",
       "6808    31\n",
       "Name: host_neighbourhood, Length: 6809, dtype: int32"
      ]
     },
     "execution_count": 35,
     "metadata": {},
     "output_type": "execute_result"
    }
   ],
   "source": [
    "encoding = le.fit_transform(data.host_neighbourhood)\n",
    "processedColumns['host_neighbourhood']=encoding\n",
    "processedColumns.host_neighbourhood"
   ]
  },
  {
   "attachments": {},
   "cell_type": "markdown",
   "metadata": {},
   "source": [
    "### host_has_profile_pic"
   ]
  },
  {
   "cell_type": "code",
   "execution_count": 36,
   "metadata": {},
   "outputs": [
    {
     "data": {
      "text/plain": [
       "0       1\n",
       "1       1\n",
       "2       1\n",
       "3       1\n",
       "4       1\n",
       "       ..\n",
       "6804    1\n",
       "6805    1\n",
       "6806    1\n",
       "6807    1\n",
       "6808    1\n",
       "Name: host_has_profile_pic, Length: 6809, dtype: int32"
      ]
     },
     "execution_count": 36,
     "metadata": {},
     "output_type": "execute_result"
    }
   ],
   "source": [
    "encoding = le.fit_transform(data.host_has_profile_pic)\n",
    "processedColumns['host_has_profile_pic']=encoding\n",
    "processedColumns.host_has_profile_pic"
   ]
  },
  {
   "attachments": {},
   "cell_type": "markdown",
   "metadata": {},
   "source": [
    "### host_identity_verified"
   ]
  },
  {
   "cell_type": "code",
   "execution_count": 37,
   "metadata": {},
   "outputs": [
    {
     "data": {
      "text/plain": [
       "0       1\n",
       "1       1\n",
       "2       1\n",
       "3       1\n",
       "4       1\n",
       "       ..\n",
       "6804    1\n",
       "6805    1\n",
       "6806    1\n",
       "6807    1\n",
       "6808    1\n",
       "Name: host_identity_verified, Length: 6809, dtype: int32"
      ]
     },
     "execution_count": 37,
     "metadata": {},
     "output_type": "execute_result"
    }
   ],
   "source": [
    "encoding = le.fit_transform(data.host_identity_verified)\n",
    "processedColumns['host_identity_verified']=encoding\n",
    "processedColumns.host_identity_verified"
   ]
  },
  {
   "attachments": {},
   "cell_type": "markdown",
   "metadata": {},
   "source": [
    "### neighbourhood_cleansed"
   ]
  },
  {
   "cell_type": "code",
   "execution_count": 38,
   "metadata": {},
   "outputs": [
    {
     "data": {
      "text/plain": [
       "De Aker - Nieuw Sloten    54\n",
       "Bijlmer-Centrum           45\n",
       "Gaasperdam - Driemond     44\n",
       "Osdorp                    43\n",
       "Bijlmer-Oost              25\n",
       "Name: neighbourhood_cleansed, dtype: int64"
      ]
     },
     "execution_count": 38,
     "metadata": {},
     "output_type": "execute_result"
    }
   ],
   "source": [
    "data.neighbourhood_cleansed.value_counts().tail(5)"
   ]
  },
  {
   "cell_type": "code",
   "execution_count": 39,
   "metadata": {},
   "outputs": [
    {
     "data": {
      "text/plain": [
       "0       20\n",
       "1       14\n",
       "2        4\n",
       "3        5\n",
       "4        5\n",
       "        ..\n",
       "6804     4\n",
       "6805     7\n",
       "6806     8\n",
       "6807     4\n",
       "6808     8\n",
       "Name: neighbourhood_cleansed, Length: 6809, dtype: int32"
      ]
     },
     "execution_count": 39,
     "metadata": {},
     "output_type": "execute_result"
    }
   ],
   "source": [
    "encoding = le.fit_transform(data.neighbourhood_cleansed)\n",
    "processedColumns['neighbourhood_cleansed']=encoding\n",
    "processedColumns.neighbourhood_cleansed"
   ]
  },
  {
   "attachments": {},
   "cell_type": "markdown",
   "metadata": {},
   "source": [
    "### property_type"
   ]
  },
  {
   "cell_type": "code",
   "execution_count": 40,
   "metadata": {},
   "outputs": [
    {
     "data": {
      "text/plain": [
       "0       22\n",
       "1       36\n",
       "2       39\n",
       "3       33\n",
       "4       36\n",
       "        ..\n",
       "6804    22\n",
       "6805    14\n",
       "6806    14\n",
       "6807    22\n",
       "6808    14\n",
       "Name: property_type, Length: 6809, dtype: int32"
      ]
     },
     "execution_count": 40,
     "metadata": {},
     "output_type": "execute_result"
    }
   ],
   "source": [
    "encoding = le.fit_transform(data.property_type)\n",
    "processedColumns['property_type']=encoding\n",
    "processedColumns.property_type"
   ]
  },
  {
   "attachments": {},
   "cell_type": "markdown",
   "metadata": {},
   "source": [
    "### room_type"
   ]
  },
  {
   "cell_type": "code",
   "execution_count": 41,
   "metadata": {},
   "outputs": [
    {
     "data": {
      "text/plain": [
       "0       2\n",
       "1       2\n",
       "2       2\n",
       "3       2\n",
       "4       2\n",
       "       ..\n",
       "6804    2\n",
       "6805    0\n",
       "6806    0\n",
       "6807    2\n",
       "6808    0\n",
       "Name: room_type, Length: 6809, dtype: int32"
      ]
     },
     "execution_count": 41,
     "metadata": {},
     "output_type": "execute_result"
    }
   ],
   "source": [
    "encoding = le.fit_transform(data.room_type)\n",
    "processedColumns['room_type']=encoding\n",
    "processedColumns.room_type"
   ]
  },
  {
   "attachments": {},
   "cell_type": "markdown",
   "metadata": {},
   "source": [
    "## Numerical/date Columns - converted to regular numbers"
   ]
  },
  {
   "attachments": {},
   "cell_type": "markdown",
   "metadata": {},
   "source": [
    "### host_since"
   ]
  },
  {
   "cell_type": "code",
   "execution_count": 42,
   "metadata": {},
   "outputs": [
    {
     "data": {
      "text/plain": [
       "0       734664\n",
       "1       733309\n",
       "2       733743\n",
       "3       733854\n",
       "4       733905\n",
       "         ...  \n",
       "6804    734825\n",
       "6805    734829\n",
       "6806    734528\n",
       "6807    734830\n",
       "6808    734832\n",
       "Name: host_since, Length: 6809, dtype: int64"
      ]
     },
     "execution_count": 42,
     "metadata": {},
     "output_type": "execute_result"
    }
   ],
   "source": [
    "from datetime import date\n",
    "from datetime import datetime\n",
    "\n",
    "#Get the dates from the dataframe\n",
    "datetest =data.host_since.apply(lambda x: datetime.strptime(x, '%Y-%m-%d').date())\n",
    "\n",
    "#Convert dates to number\n",
    "time = datetest.apply(lambda x: x.toordinal())\n",
    "\n",
    "#Save the number to the data frame\n",
    "processedColumns['host_since']= pd.Series(time.tolist())\n",
    "\n",
    "#Print the change\n",
    "processedColumns.host_since"
   ]
  },
  {
   "attachments": {},
   "cell_type": "markdown",
   "metadata": {},
   "source": [
    "### host_listings_count"
   ]
  },
  {
   "cell_type": "code",
   "execution_count": 43,
   "metadata": {},
   "outputs": [
    {
     "data": {
      "text/plain": [
       "0       1\n",
       "1       1\n",
       "2       3\n",
       "3       1\n",
       "4       2\n",
       "       ..\n",
       "6804    1\n",
       "6805    1\n",
       "6806    1\n",
       "6807    1\n",
       "6808    1\n",
       "Name: host_listings_count, Length: 6809, dtype: int64"
      ]
     },
     "execution_count": 43,
     "metadata": {},
     "output_type": "execute_result"
    }
   ],
   "source": [
    "#Save the number that doesnt need to be changed into the processed columns dataframe for later processing\n",
    "processedColumns['host_listings_count']= data.host_listings_count\n",
    "processedColumns.host_listings_count"
   ]
  },
  {
   "attachments": {},
   "cell_type": "markdown",
   "metadata": {},
   "source": [
    "### bedrooms"
   ]
  },
  {
   "cell_type": "code",
   "execution_count": 44,
   "metadata": {},
   "outputs": [
    {
     "data": {
      "text/plain": [
       "0       1.0\n",
       "1       1.0\n",
       "2       1.0\n",
       "3       1.0\n",
       "4       1.0\n",
       "       ... \n",
       "6804    1.0\n",
       "6805    2.0\n",
       "6806    2.0\n",
       "6807    1.0\n",
       "6808    2.0\n",
       "Name: bedrooms, Length: 6809, dtype: float64"
      ]
     },
     "execution_count": 44,
     "metadata": {},
     "output_type": "execute_result"
    }
   ],
   "source": [
    "#Replace any occurances of \"UNK\" with number 0 since all values have to be int for PCA\n",
    "withoutNa = data.bedrooms.replace(\"UNK\",0)\n",
    "\n",
    "#Make sure all values are type of float\n",
    "processedColumns[\"bedrooms\"]=withoutNa.astype(float)\n",
    "\n",
    "#Vizualize\n",
    "processedColumns.bedrooms"
   ]
  },
  {
   "attachments": {},
   "cell_type": "markdown",
   "metadata": {},
   "source": [
    "### beds"
   ]
  },
  {
   "cell_type": "code",
   "execution_count": 45,
   "metadata": {},
   "outputs": [
    {
     "data": {
      "text/plain": [
       "0       1.0\n",
       "1       2.0\n",
       "2       1.0\n",
       "3       1.0\n",
       "4       1.0\n",
       "       ... \n",
       "6804    1.0\n",
       "6805    2.0\n",
       "6806    2.0\n",
       "6807    1.0\n",
       "6808    2.0\n",
       "Name: beds, Length: 6809, dtype: float64"
      ]
     },
     "execution_count": 45,
     "metadata": {},
     "output_type": "execute_result"
    }
   ],
   "source": [
    "#Replace any occurances of \"UNK\" with number 0 since all values have to be int for PCA\n",
    "withoutNa=data.beds.replace('UNK', 0)\n",
    "\n",
    "#Make sure all values are of type float\n",
    "processedColumns[\"beds\"]=withoutNa.astype(float)\n",
    "\n",
    "#Vizualize\n",
    "processedColumns.beds"
   ]
  },
  {
   "attachments": {},
   "cell_type": "markdown",
   "metadata": {},
   "source": [
    "### host_total_listings_count"
   ]
  },
  {
   "cell_type": "code",
   "execution_count": 46,
   "metadata": {},
   "outputs": [
    {
     "data": {
      "text/plain": [
       "0       1\n",
       "1       1\n",
       "2       5\n",
       "3       1\n",
       "4       2\n",
       "       ..\n",
       "6804    1\n",
       "6805    1\n",
       "6806    2\n",
       "6807    1\n",
       "6808    5\n",
       "Name: host_total_listings_count, Length: 6809, dtype: int64"
      ]
     },
     "execution_count": 46,
     "metadata": {},
     "output_type": "execute_result"
    }
   ],
   "source": [
    "\n",
    "processedColumns['host_total_listings_count']= data.host_total_listings_count\n",
    "processedColumns.host_total_listings_count"
   ]
  },
  {
   "attachments": {},
   "cell_type": "markdown",
   "metadata": {},
   "source": [
    "### accommodates"
   ]
  },
  {
   "cell_type": "code",
   "execution_count": 47,
   "metadata": {},
   "outputs": [
    {
     "data": {
      "text/plain": [
       "0       2\n",
       "1       2\n",
       "2       2\n",
       "3       2\n",
       "4       2\n",
       "       ..\n",
       "6804    2\n",
       "6805    4\n",
       "6806    3\n",
       "6807    2\n",
       "6808    6\n",
       "Name: accommodates, Length: 6809, dtype: int64"
      ]
     },
     "execution_count": 47,
     "metadata": {},
     "output_type": "execute_result"
    }
   ],
   "source": [
    "processedColumns['accommodates']= data.accommodates\n",
    "processedColumns.accommodates"
   ]
  },
  {
   "attachments": {},
   "cell_type": "markdown",
   "metadata": {},
   "source": [
    "### minimum_nights"
   ]
  },
  {
   "cell_type": "code",
   "execution_count": 48,
   "metadata": {},
   "outputs": [
    {
     "data": {
      "text/plain": [
       "0       2\n",
       "1       3\n",
       "2       1\n",
       "3       2\n",
       "4       2\n",
       "       ..\n",
       "6804    1\n",
       "6805    4\n",
       "6806    3\n",
       "6807    1\n",
       "6808    4\n",
       "Name: minimum_nights, Length: 6809, dtype: int64"
      ]
     },
     "execution_count": 48,
     "metadata": {},
     "output_type": "execute_result"
    }
   ],
   "source": [
    "processedColumns['minimum_nights']= data.minimum_nights\n",
    "processedColumns.minimum_nights"
   ]
  },
  {
   "attachments": {},
   "cell_type": "markdown",
   "metadata": {},
   "source": [
    "### maximum_nights"
   ]
  },
  {
   "cell_type": "code",
   "execution_count": 49,
   "metadata": {},
   "outputs": [
    {
     "data": {
      "text/plain": [
       "0         30\n",
       "1         28\n",
       "2        365\n",
       "3        356\n",
       "4       1825\n",
       "        ... \n",
       "6804    1125\n",
       "6805      14\n",
       "6806    1124\n",
       "6807      30\n",
       "6808      21\n",
       "Name: maximum_nights, Length: 6809, dtype: int64"
      ]
     },
     "execution_count": 49,
     "metadata": {},
     "output_type": "execute_result"
    }
   ],
   "source": [
    "processedColumns['maximum_nights']= data.maximum_nights\n",
    "processedColumns.maximum_nights"
   ]
  },
  {
   "attachments": {},
   "cell_type": "markdown",
   "metadata": {},
   "source": [
    "### minimum_minimum_nights"
   ]
  },
  {
   "cell_type": "code",
   "execution_count": 50,
   "metadata": {},
   "outputs": [
    {
     "data": {
      "text/plain": [
       "0       2\n",
       "1       3\n",
       "2       1\n",
       "3       2\n",
       "4       2\n",
       "       ..\n",
       "6804    1\n",
       "6805    4\n",
       "6806    3\n",
       "6807    1\n",
       "6808    3\n",
       "Name: minimum_minimum_nights, Length: 6809, dtype: int64"
      ]
     },
     "execution_count": 50,
     "metadata": {},
     "output_type": "execute_result"
    }
   ],
   "source": [
    "processedColumns['minimum_minimum_nights']= data.minimum_minimum_nights\n",
    "processedColumns.minimum_minimum_nights"
   ]
  },
  {
   "attachments": {},
   "cell_type": "markdown",
   "metadata": {},
   "source": [
    "### maximum_minimum_nights"
   ]
  },
  {
   "cell_type": "code",
   "execution_count": 51,
   "metadata": {},
   "outputs": [
    {
     "data": {
      "text/plain": [
       "0       2\n",
       "1       3\n",
       "2       1\n",
       "3       2\n",
       "4       2\n",
       "       ..\n",
       "6804    1\n",
       "6805    4\n",
       "6806    3\n",
       "6807    1\n",
       "6808    4\n",
       "Name: maximum_minimum_nights, Length: 6809, dtype: int64"
      ]
     },
     "execution_count": 51,
     "metadata": {},
     "output_type": "execute_result"
    }
   ],
   "source": [
    "processedColumns['maximum_minimum_nights']= data.maximum_minimum_nights\n",
    "processedColumns.maximum_minimum_nights"
   ]
  },
  {
   "attachments": {},
   "cell_type": "markdown",
   "metadata": {},
   "source": [
    "### minimum_maximum_nights"
   ]
  },
  {
   "cell_type": "code",
   "execution_count": 52,
   "metadata": {},
   "outputs": [
    {
     "data": {
      "text/plain": [
       "0         30\n",
       "1       1125\n",
       "2       1125\n",
       "3       1125\n",
       "4       1825\n",
       "        ... \n",
       "6804    1125\n",
       "6805      14\n",
       "6806    1124\n",
       "6807      30\n",
       "6808       4\n",
       "Name: minimum_maximum_nights, Length: 6809, dtype: int64"
      ]
     },
     "execution_count": 52,
     "metadata": {},
     "output_type": "execute_result"
    }
   ],
   "source": [
    "processedColumns['minimum_maximum_nights']= data.minimum_maximum_nights\n",
    "processedColumns.minimum_maximum_nights"
   ]
  },
  {
   "attachments": {},
   "cell_type": "markdown",
   "metadata": {},
   "source": [
    "### maximum_maximum_nights"
   ]
  },
  {
   "cell_type": "code",
   "execution_count": 53,
   "metadata": {},
   "outputs": [
    {
     "data": {
      "text/plain": [
       "0         30\n",
       "1       1125\n",
       "2       1125\n",
       "3       1125\n",
       "4       1825\n",
       "        ... \n",
       "6804    1125\n",
       "6805      14\n",
       "6806    1124\n",
       "6807      30\n",
       "6808      21\n",
       "Name: maximum_maximum_nights, Length: 6809, dtype: int64"
      ]
     },
     "execution_count": 53,
     "metadata": {},
     "output_type": "execute_result"
    }
   ],
   "source": [
    "processedColumns['maximum_maximum_nights']= data.maximum_maximum_nights\n",
    "processedColumns.maximum_maximum_nights"
   ]
  },
  {
   "attachments": {},
   "cell_type": "markdown",
   "metadata": {},
   "source": [
    "### minimum_nights_avg_ntm"
   ]
  },
  {
   "cell_type": "code",
   "execution_count": 54,
   "metadata": {},
   "outputs": [
    {
     "data": {
      "text/plain": [
       "0       2.0\n",
       "1       3.0\n",
       "2       1.0\n",
       "3       2.0\n",
       "4       2.0\n",
       "       ... \n",
       "6804    1.0\n",
       "6805    4.0\n",
       "6806    3.0\n",
       "6807    1.0\n",
       "6808    4.0\n",
       "Name: minimum_nights_avg_ntm, Length: 6809, dtype: float64"
      ]
     },
     "execution_count": 54,
     "metadata": {},
     "output_type": "execute_result"
    }
   ],
   "source": [
    "processedColumns['minimum_nights_avg_ntm']= data.minimum_nights_avg_ntm\n",
    "processedColumns.minimum_nights_avg_ntm"
   ]
  },
  {
   "attachments": {},
   "cell_type": "markdown",
   "metadata": {},
   "source": [
    "### maximum_nights_avg_ntm"
   ]
  },
  {
   "cell_type": "code",
   "execution_count": 55,
   "metadata": {},
   "outputs": [
    {
     "data": {
      "text/plain": [
       "0         30.0\n",
       "1       1125.0\n",
       "2       1125.0\n",
       "3       1125.0\n",
       "4       1825.0\n",
       "         ...  \n",
       "6804    1125.0\n",
       "6805      14.0\n",
       "6806    1124.0\n",
       "6807      30.0\n",
       "6808      20.8\n",
       "Name: maximum_nights_avg_ntm, Length: 6809, dtype: float64"
      ]
     },
     "execution_count": 55,
     "metadata": {},
     "output_type": "execute_result"
    }
   ],
   "source": [
    "processedColumns['maximum_nights_avg_ntm']= data.maximum_nights_avg_ntm\n",
    "processedColumns.maximum_nights_avg_ntm"
   ]
  },
  {
   "attachments": {},
   "cell_type": "markdown",
   "metadata": {},
   "source": [
    "### number_of_reviews"
   ]
  },
  {
   "cell_type": "code",
   "execution_count": 56,
   "metadata": {},
   "outputs": [
    {
     "data": {
      "text/plain": [
       "0        248\n",
       "1        314\n",
       "2        339\n",
       "3        243\n",
       "4        454\n",
       "        ... \n",
       "6804     343\n",
       "6805      18\n",
       "6806      97\n",
       "6807    1060\n",
       "6808      17\n",
       "Name: number_of_reviews, Length: 6809, dtype: int64"
      ]
     },
     "execution_count": 56,
     "metadata": {},
     "output_type": "execute_result"
    }
   ],
   "source": [
    "processedColumns['number_of_reviews']= data.number_of_reviews\n",
    "processedColumns.number_of_reviews"
   ]
  },
  {
   "attachments": {},
   "cell_type": "markdown",
   "metadata": {},
   "source": [
    "### number_of_reviews_l30d"
   ]
  },
  {
   "cell_type": "code",
   "execution_count": 57,
   "metadata": {},
   "outputs": [
    {
     "data": {
      "text/plain": [
       "0        3\n",
       "1        1\n",
       "2        0\n",
       "3        5\n",
       "4        7\n",
       "        ..\n",
       "6804     0\n",
       "6805     0\n",
       "6806     0\n",
       "6807    10\n",
       "6808     0\n",
       "Name: number_of_reviews_l30d, Length: 6809, dtype: int64"
      ]
     },
     "execution_count": 57,
     "metadata": {},
     "output_type": "execute_result"
    }
   ],
   "source": [
    "processedColumns['number_of_reviews_l30d']= data.number_of_reviews_l30d\n",
    "processedColumns.number_of_reviews_l30d"
   ]
  },
  {
   "attachments": {},
   "cell_type": "markdown",
   "metadata": {},
   "source": [
    "### first_review"
   ]
  },
  {
   "cell_type": "code",
   "execution_count": 58,
   "metadata": {},
   "outputs": [
    {
     "data": {
      "text/plain": [
       "0       2016-10-06\n",
       "1       2009-03-30\n",
       "2       2010-03-02\n",
       "3       2012-01-09\n",
       "4       2010-08-22\n",
       "           ...    \n",
       "6804    2013-02-19\n",
       "6805    2013-01-04\n",
       "6806    2013-05-14\n",
       "6807    2012-11-29\n",
       "6808    2013-02-26\n",
       "Name: first_review, Length: 6809, dtype: object"
      ]
     },
     "execution_count": 58,
     "metadata": {},
     "output_type": "execute_result"
    }
   ],
   "source": [
    "data.first_review"
   ]
  },
  {
   "cell_type": "code",
   "execution_count": 59,
   "metadata": {},
   "outputs": [
    {
     "data": {
      "text/plain": [
       "0       736243\n",
       "1       733496\n",
       "2       733833\n",
       "3       734511\n",
       "4       734006\n",
       "         ...  \n",
       "6804    734918\n",
       "6805    734872\n",
       "6806    735002\n",
       "6807    734836\n",
       "6808    734925\n",
       "Name: first_review, Length: 6809, dtype: int64"
      ]
     },
     "execution_count": 59,
     "metadata": {},
     "output_type": "execute_result"
    }
   ],
   "source": [
    "timeData = data['first_review'].apply(lambda x: pd.Timestamp(x).toordinal() if x != 'UNK' else 0)\n",
    "processedColumns['first_review']= pd.Series(timeData.tolist())\n",
    "processedColumns.first_review"
   ]
  },
  {
   "attachments": {},
   "cell_type": "markdown",
   "metadata": {},
   "source": [
    "### last_review\n"
   ]
  },
  {
   "cell_type": "code",
   "execution_count": 60,
   "metadata": {},
   "outputs": [
    {
     "data": {
      "text/plain": [
       "0       738487\n",
       "1       738465\n",
       "2       737524\n",
       "3       738486\n",
       "4       738479\n",
       "         ...  \n",
       "6804    738449\n",
       "6805    737473\n",
       "6806    738445\n",
       "6807    738492\n",
       "6808    738411\n",
       "Name: last_review, Length: 6809, dtype: int64"
      ]
     },
     "execution_count": 60,
     "metadata": {},
     "output_type": "execute_result"
    }
   ],
   "source": [
    "timeData = data['last_review'].apply(lambda x: pd.Timestamp(x).toordinal() if x != 'UNK' else 0)\n",
    "processedColumns['last_review']= pd.Series(timeData.tolist())\n",
    "processedColumns.last_review"
   ]
  },
  {
   "attachments": {},
   "cell_type": "markdown",
   "metadata": {},
   "source": [
    "### calculated_host_listings_count_entire_homes"
   ]
  },
  {
   "cell_type": "code",
   "execution_count": 61,
   "metadata": {},
   "outputs": [
    {
     "data": {
      "text/plain": [
       "0       0\n",
       "1       0\n",
       "2       0\n",
       "3       0\n",
       "4       0\n",
       "       ..\n",
       "6804    0\n",
       "6805    1\n",
       "6806    1\n",
       "6807    0\n",
       "6808    1\n",
       "Name: calculated_host_listings_count_entire_homes, Length: 6809, dtype: int64"
      ]
     },
     "execution_count": 61,
     "metadata": {},
     "output_type": "execute_result"
    }
   ],
   "source": [
    "processedColumns['calculated_host_listings_count_entire_homes']= data.calculated_host_listings_count_entire_homes\n",
    "processedColumns.calculated_host_listings_count_entire_homes"
   ]
  },
  {
   "attachments": {},
   "cell_type": "markdown",
   "metadata": {},
   "source": [
    "### calculated_host_listings_count_private_rooms"
   ]
  },
  {
   "cell_type": "code",
   "execution_count": 62,
   "metadata": {},
   "outputs": [
    {
     "data": {
      "text/plain": [
       "0       1\n",
       "1       1\n",
       "2       2\n",
       "3       1\n",
       "4       2\n",
       "       ..\n",
       "6804    1\n",
       "6805    0\n",
       "6806    0\n",
       "6807    1\n",
       "6808    0\n",
       "Name: calculated_host_listings_count_private_rooms, Length: 6809, dtype: int64"
      ]
     },
     "execution_count": 62,
     "metadata": {},
     "output_type": "execute_result"
    }
   ],
   "source": [
    "processedColumns['calculated_host_listings_count_private_rooms']= data.calculated_host_listings_count_private_rooms\n",
    "processedColumns.calculated_host_listings_count_private_rooms"
   ]
  },
  {
   "attachments": {},
   "cell_type": "markdown",
   "metadata": {},
   "source": [
    "### calculated_host_listings_count_shared_rooms"
   ]
  },
  {
   "cell_type": "code",
   "execution_count": 63,
   "metadata": {},
   "outputs": [
    {
     "data": {
      "text/plain": [
       "0       0\n",
       "1       0\n",
       "2       0\n",
       "3       0\n",
       "4       0\n",
       "       ..\n",
       "6804    0\n",
       "6805    0\n",
       "6806    0\n",
       "6807    0\n",
       "6808    0\n",
       "Name: calculated_host_listings_count_shared_rooms, Length: 6809, dtype: int64"
      ]
     },
     "execution_count": 63,
     "metadata": {},
     "output_type": "execute_result"
    }
   ],
   "source": [
    "processedColumns['calculated_host_listings_count_shared_rooms']= data.calculated_host_listings_count_shared_rooms\n",
    "processedColumns.calculated_host_listings_count_shared_rooms"
   ]
  },
  {
   "attachments": {},
   "cell_type": "markdown",
   "metadata": {},
   "source": [
    "### reviews_per_month"
   ]
  },
  {
   "cell_type": "code",
   "execution_count": 64,
   "metadata": {},
   "outputs": [
    {
     "data": {
      "text/plain": [
       "0       3.30\n",
       "1       1.88\n",
       "2       2.18\n",
       "3       1.83\n",
       "4       3.03\n",
       "        ... \n",
       "6804    2.88\n",
       "6805    0.15\n",
       "6806    0.83\n",
       "6807    8.69\n",
       "6808    0.14\n",
       "Name: reviews_per_month, Length: 6809, dtype: float64"
      ]
     },
     "execution_count": 64,
     "metadata": {},
     "output_type": "execute_result"
    }
   ],
   "source": [
    "withoutUNK = data.reviews_per_month.replace('UNK', 0)\n",
    "processedColumns['reviews_per_month']= withoutUNK.astype(float)\n",
    "processedColumns.reviews_per_month"
   ]
  },
  {
   "attachments": {},
   "cell_type": "markdown",
   "metadata": {},
   "source": [
    "# PCA"
   ]
  },
  {
   "cell_type": "code",
   "execution_count": 65,
   "metadata": {},
   "outputs": [
    {
     "name": "stdout",
     "output_type": "stream",
     "text": [
      "[0.12138795 0.08230594]\n",
      "___\n",
      "            PC1        PC2\n",
      "0     19.300773   2.068520\n",
      "1    -14.804174   1.656052\n",
      "2     -9.193432  -2.352425\n",
      "3     -6.833437   0.323109\n",
      "4     -5.538447  -2.793926\n",
      "...         ...        ...\n",
      "6780 -12.570245   3.562340\n",
      "6781   1.263750  19.345082\n",
      "6782  11.662765   9.387027\n",
      "6783 -14.703168   1.103702\n",
      "6784   4.652637  15.729068\n",
      "\n",
      "[6785 rows x 2 columns]\n"
     ]
    }
   ],
   "source": [
    "import pandas as pd\n",
    "from sentence_transformers import SentenceTransformer\n",
    "from sklearn.decomposition import PCA\n",
    "from sklearn.preprocessing import StandardScaler\n",
    "\n",
    "processedColumns.dropna(inplace=True)\n",
    "\n",
    "# Convert column names to strings\n",
    "processedColumns.columns = processedColumns.columns.astype(str)\n",
    "\n",
    "# instantiate a StandardScaler object\n",
    "scaler = StandardScaler()\n",
    "\n",
    "# scale the data\n",
    "scaled_processedColumns = scaler.fit_transform(processedColumns)\n",
    "\n",
    "# Create a PCA object with 2 components\n",
    "pca = PCA(n_components=2)\n",
    "\n",
    "# Fit and transform the data to 2 principal components\n",
    "principal_components = pca.fit_transform(scaled_processedColumns)\n",
    "\n",
    "# Convert principal components to a DataFrame with string column names\n",
    "principal_df = pd.DataFrame(data=principal_components, columns=['PC1', 'PC2'])\n",
    "\n",
    "# Concatenate the principal components with the original data\n",
    "result_df = pd.concat([principal_df, processedColumns], axis=1)\n",
    "\n",
    "# Print the explained variance ratio of the 2 components\n",
    "print(pca.explained_variance_ratio_)\n",
    "print(\"___\")\n",
    "print(principal_df)"
   ]
  },
  {
   "attachments": {},
   "cell_type": "markdown",
   "metadata": {},
   "source": [
    "# Vizualization"
   ]
  },
  {
   "cell_type": "code",
   "execution_count": 66,
   "metadata": {},
   "outputs": [
    {
     "data": {
      "image/png": "[encoded data removed]",
      "text/plain": [
       "<Figure size 640x480 with 1 Axes>"
      ]
     },
     "metadata": {},
     "output_type": "display_data"
    }
   ],
   "source": [
    "\n",
    "import matplotlib.pyplot as plt\n",
    "\n",
    "# Plot PCA data\n",
    "plt.scatter(principal_components[:, 0], principal_components[:, 1])\n",
    "plt.xlabel('PCA 1')\n",
    "plt.ylabel('PCA 2')\n",
    "plt.title('PCA plot')\n",
    "plt.show()"
   ]
  },
  {
   "cell_type": "code",
   "execution_count": 67,
   "metadata": {},
   "outputs": [
    {
     "data": {
      "image/png": "[encoded data removed]",
      "text/plain": [
       "<Figure size 640x480 with 1 Axes>"
      ]
     },
     "metadata": {},
     "output_type": "display_data"
    }
   ],
   "source": [
    "import numpy as np\n",
    "import pandas as pd\n",
    "from sklearn.decomposition import PCA\n",
    "import matplotlib.pyplot as plt\n",
    "\n",
    "\n",
    "# Initialize PCA model\n",
    "pca = PCA()\n",
    "\n",
    "# Fit data\n",
    "pca.fit(scaled_processedColumns)\n",
    "\n",
    "# Scree plot\n",
    "plt.plot(range(1, len(pca.explained_variance_ratio_) + 1), pca.explained_variance_ratio_, 'o-')\n",
    "plt.xlabel('Number of components')\n",
    "plt.ylabel('Explained variance')\n",
    "plt.title('Scree plot')\n",
    "plt.show()\n"
   ]
  },
  {
   "cell_type": "code",
   "execution_count": 73,
   "metadata": {},
   "outputs": [
    {
     "data": {
      "image/png": "[encoded data removed]",
      "text/plain": [
       "<Figure size 640x480 with 1 Axes>"
      ]
     },
     "metadata": {},
     "output_type": "display_data"
    }
   ],
   "source": [
    "import numpy as np\n",
    "import matplotlib.pyplot as plt\n",
    "from sklearn.decomposition import PCA\n",
    "\n",
    "# assume X is your data matrix with 1200 features\n",
    "pca = PCA(n_components=1185)\n",
    "pca.fit(scaled_processedColumns)\n",
    "\n",
    "plt.plot(np.cumsum(pca.explained_variance_ratio_))\n",
    "plt.xlabel('Number of components')\n",
    "plt.ylabel('Cumulative explained variance')\n",
    "plt.gca().invert_yaxis()\n",
    "plt.show()\n"
   ]
  }
 ],
 "metadata": {
  "kernelspec": {
   "display_name": "nlp1",
   "language": "python",
   "name": "python3"
  },
  "language_info": {
   "codemirror_mode": {
    "name": "ipython",
    "version": 3
   },
   "file_extension": ".py",
   "mimetype": "text/x-python",
   "name": "python",
   "nbconvert_exporter": "python",
   "pygments_lexer": "ipython3",
   "version": "3.11.1"
  },
  "orig_nbformat": 4,
  "vscode": {
   "interpreter": {
    "hash": "48fa73cffd7ea0ee077adfb9340a9f695394edf478401010103a3ce4f2491774"
   }
  }
 },
 "nbformat": 4,
 "nbformat_minor": 2
}
