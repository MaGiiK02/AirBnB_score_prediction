{
 "cells": [
  {
   "cell_type": "code",
   "execution_count": 34,
   "metadata": {},
   "outputs": [],
   "source": [
    "import numpy as np\n",
    "import pandas as pd\n",
    "import os\n",
    "import torch\n",
    "import torch.nn as nn\n",
    "\n",
    "from transformers import BertTokenizer, BertModel, AutoTokenizer\n",
    "from sentence_transformers import SentenceTransformer\n",
    "from sklearn.model_selection import train_test_split\n",
    "\n",
    "import pickle\n",
    "\n"
   ]
  },
  {
   "cell_type": "code",
   "execution_count": 2,
   "metadata": {},
   "outputs": [
    {
     "data": {
      "text/plain": [
       "'c:\\\\Users\\\\Kyriakos\\\\Desktop\\\\MsC AI\\\\NLP\\\\NLP AirBNB Project\\\\AirBnB_score_prediction'"
      ]
     },
     "execution_count": 2,
     "metadata": {},
     "output_type": "execute_result"
    }
   ],
   "source": [
    "os.getcwd()\n",
    "# change the path to C:\\Users\\Kyriakos\\Desktop\\MsC AI\\NLP\\NLP AirBNB Project\\AirBnB_score_prediction\\dataset\n",
    "# os.chdir('C:\\\\Users\\\\Kyriakos\\\\Desktop\\\\MsC AI\\\\NLP\\\\NLP AirBNB Project\\\\AirBnB_score_prediction\\\\dataset')\n",
    "# os.getcwd()\n"
   ]
  },
  {
   "cell_type": "code",
   "execution_count": 79,
   "metadata": {},
   "outputs": [],
   "source": [
    "# import label_encoder to use it for the categorical features\n",
    "from sklearn.preprocessing import LabelEncoder\n",
    "le = LabelEncoder()"
   ]
  },
  {
   "cell_type": "code",
   "execution_count": 3,
   "metadata": {},
   "outputs": [],
   "source": [
    "# 'listings_comments.csv is the datset compined \n",
    "\n",
    "# reaf the datset from Google Drive G:\\.shortcut-targets-by-id\\1CZZx9Bpz7hB-BhPFsqAL3fRVyxM1XfwF\\AirBnB_project\n",
    "data = pd.read_csv('G:\\\\.shortcut-targets-by-id\\\\1CZZx9Bpz7hB-BhPFsqAL3fRVyxM1XfwF\\\\AirBnB_project\\\\listings_comments.csv')\n",
    "\n"
   ]
  },
  {
   "cell_type": "markdown",
   "metadata": {},
   "source": [
    "### check  for nan values\n"
   ]
  },
  {
   "cell_type": "code",
   "execution_count": 4,
   "metadata": {},
   "outputs": [
    {
     "name": "stdout",
     "output_type": "stream",
     "text": [
      "Description nan values: 6\n",
      "Comments nan values: 2492\n",
      "Comments nan values: 2492\n"
     ]
    }
   ],
   "source": [
    "print(f'Description nan values: {data.description.isna().sum()}')\n",
    "print(f'Comments nan values: {data.neighborhood_overview.isna().sum()}')\n",
    "print(f'Comments nan values: {data.neighbourhood.isna().sum()}')"
   ]
  },
  {
   "cell_type": "code",
   "execution_count": 5,
   "metadata": {},
   "outputs": [],
   "source": [
    "def fill_nan(df, column):\n",
    "    df[column].fillna('UNK', inplace=True)\n",
    "    return df\n",
    "\n",
    "data = fill_nan(data, 'description')\n",
    "data = fill_nan(data, 'neighborhood_overview')\n",
    "data = fill_nan(data, 'neighbourhood')"
   ]
  },
  {
   "cell_type": "code",
   "execution_count": 6,
   "metadata": {},
   "outputs": [
    {
     "name": "stdout",
     "output_type": "stream",
     "text": [
      "Description nan values: 0\n",
      "Comments nan values: 0\n",
      "Comments nan values: 0\n"
     ]
    }
   ],
   "source": [
    "print(f'Description nan values: {data.description.isna().sum()}')\n",
    "print(f'Comments nan values: {data.neighborhood_overview.isna().sum()}')\n",
    "print(f'Comments nan values: {data.neighbourhood.isna().sum()}')"
   ]
  },
  {
   "cell_type": "code",
   "execution_count": 7,
   "metadata": {},
   "outputs": [
    {
     "name": "stdout",
     "output_type": "stream",
     "text": [
      "682\n",
      "0\n"
     ]
    }
   ],
   "source": [
    "# check if there are any missing values in \"review_scores_rating\"\n",
    "print(data['review_scores_rating'].isnull().sum())\n",
    "\n",
    "# fill missing values with the mean\n",
    "data['review_scores_rating'].fillna(data['review_scores_rating'].mean(), inplace=True)\n",
    "\n",
    "print(data['review_scores_rating'].isnull().sum())"
   ]
  },
  {
   "cell_type": "code",
   "execution_count": 9,
   "metadata": {},
   "outputs": [
    {
     "data": {
      "text/plain": [
       "Index(['listing_id', 'listing_url', 'scrape_id', 'last_scraped', 'source',\n",
       "       'name', 'description', 'neighborhood_overview', 'picture_url',\n",
       "       'host_id', 'host_url', 'host_name', 'host_since', 'host_location',\n",
       "       'host_about', 'host_response_time', 'host_response_rate',\n",
       "       'host_acceptance_rate', 'host_is_superhost', 'host_thumbnail_url',\n",
       "       'host_picture_url', 'host_neighbourhood', 'host_listings_count',\n",
       "       'host_total_listings_count', 'host_verifications',\n",
       "       'host_has_profile_pic', 'host_identity_verified', 'neighbourhood',\n",
       "       'neighbourhood_cleansed', 'neighbourhood_group_cleansed', 'latitude',\n",
       "       'longitude', 'property_type', 'room_type', 'accommodates', 'bathrooms',\n",
       "       'bathrooms_text', 'bedrooms', 'beds', 'amenities', 'price',\n",
       "       'minimum_nights', 'maximum_nights', 'minimum_minimum_nights',\n",
       "       'maximum_minimum_nights', 'minimum_maximum_nights',\n",
       "       'maximum_maximum_nights', 'minimum_nights_avg_ntm',\n",
       "       'maximum_nights_avg_ntm', 'calendar_updated', 'has_availability',\n",
       "       'availability_30', 'availability_60', 'availability_90',\n",
       "       'availability_365', 'calendar_last_scraped', 'number_of_reviews',\n",
       "       'number_of_reviews_ltm', 'number_of_reviews_l30d', 'first_review',\n",
       "       'last_review', 'review_scores_rating', 'review_scores_accuracy',\n",
       "       'review_scores_cleanliness', 'review_scores_checkin',\n",
       "       'review_scores_communication', 'review_scores_location',\n",
       "       'review_scores_value', 'license', 'instant_bookable',\n",
       "       'calculated_host_listings_count',\n",
       "       'calculated_host_listings_count_entire_homes',\n",
       "       'calculated_host_listings_count_private_rooms',\n",
       "       'calculated_host_listings_count_shared_rooms', 'reviews_per_month',\n",
       "       'comments'],\n",
       "      dtype='object')"
      ]
     },
     "execution_count": 9,
     "metadata": {},
     "output_type": "execute_result"
    }
   ],
   "source": [
    "# These are all the features we have in our dataset\n",
    "data.columns"
   ]
  },
  {
   "cell_type": "code",
   "execution_count": 11,
   "metadata": {},
   "outputs": [],
   "source": [
    "# Crate a list for removing unnecessary columns from the dataset\n",
    "columns_to_remove = ['listing_url', 'scrape_id', 'last_scraped', 'source', 'picture_url', 'host_url', 'host_name', \n",
    "                     'host_location', 'host_thumbnail_url', 'host_picture_url', 'host_verifications', \n",
    "                     'host_has_profile_pic', 'host_identity_verified', 'neighbourhood_group_cleansed', \n",
    "                     'minimum_minimum_nights', 'maximum_minimum_nights', 'minimum_maximum_nights', 'maximum_maximum_nights',\n",
    "                     'minimum_nights_avg_ntm', 'maximum_nights_avg_ntm', 'calendar_updated', 'has_availability',\n",
    "                     'availability_30', 'availability_60', 'availability_90', 'availability_365', \n",
    "                     'calendar_last_scraped', 'number_of_reviews', 'number_of_reviews_ltm', 'number_of_reviews_l30d', \n",
    "                     'first_review', 'last_review', 'license', 'instant_bookable', 'reviews_per_month', 'review_scores_accuracy',\n",
    "       'review_scores_cleanliness', 'review_scores_checkin','review_scores_communication', 'review_scores_location',\n",
    "       'review_scores_value',]\n"
   ]
  },
  {
   "cell_type": "code",
   "execution_count": 12,
   "metadata": {},
   "outputs": [],
   "source": [
    "# Remove the unnecessary columns from the dataset.\n",
    "data.drop(columns_to_remove, axis=1, inplace=True)"
   ]
  },
  {
   "cell_type": "code",
   "execution_count": 80,
   "metadata": {},
   "outputs": [],
   "source": [
    "# data.drop(columns_to_remove, axis=1, inplace=True)\n",
    "\n",
    "# # Remove rows with missing review_scores_rating values\n",
    "# # data.dropna(subset=['review_scores_rating'], inplace=True)\n",
    "\n",
    "# # we can do it later when we combine all embeddings in one dataframe\n",
    "# # Split into training and validation sets\n",
    "# X = data.drop(['review_scores_rating'], axis=1)\n",
    "# y = data['review_scores_rating']\n",
    "# X_train, X_val, y_train, y_val = train_test_split(X, y, test_size=0.2, random_state=42)\n"
   ]
  },
  {
   "cell_type": "code",
   "execution_count": null,
   "metadata": {},
   "outputs": [],
   "source": []
  },
  {
   "cell_type": "markdown",
   "metadata": {},
   "source": [
    "## Function that takes a column and returns an embeddings matrix"
   ]
  },
  {
   "cell_type": "code",
   "execution_count": 36,
   "metadata": {},
   "outputs": [
    {
     "data": {
      "text/plain": [
       "70"
      ]
     },
     "execution_count": 36,
     "metadata": {},
     "output_type": "execute_result"
    }
   ],
   "source": [
    "# Check the number of unique values in each column\n",
    "data.nunique()"
   ]
  },
  {
   "cell_type": "code",
   "execution_count": null,
   "metadata": {},
   "outputs": [],
   "source": [
    "# load the model that is responsible for the text embeddings\n",
    "model = SentenceTransformer('all-MiniLM-L6-v2')\n",
    "\n",
    "# create a device object\n",
    "device = torch.device('cuda' if torch.cuda.is_available() else 'cpu')\n",
    "print(f'Device: {device}')\n",
    "# move the model to the device\n",
    "model.to(device)\n",
    "\n",
    "# parallelize the model across multiple GPUs(if available)\n",
    "model = nn.DataParallel(model)"
   ]
  },
  {
   "cell_type": "code",
   "execution_count": 81,
   "metadata": {},
   "outputs": [],
   "source": [
    "# function to get the embeddings for a column in a dataframe and return them as a numpy array\n",
    "def get_embeddings(dataframe, column_name, batch_size=100):\n",
    "    \"\"\"\n",
    "    Obtain sentence embeddings for a dataframe column using SentenceTransformer with batch processing.\n",
    "\n",
    "    Args:\n",
    "        dataframe (pandas.DataFrame): The dataframe containing the column to obtain embeddings for.\n",
    "        column_name (str): The name of the column to obtain embeddings for.\n",
    "        batch_size (int, optional): The size of each batch to process. Default is 100.\n",
    "\n",
    "    Returns:\n",
    "        numpy.ndarray: A numpy array containing the embeddings for the specified column.\n",
    "    \"\"\"\n",
    "\n",
    "    # Obtain the embeddings for the specified column in batches\n",
    "    num_batches = int(np.ceil(len(dataframe) / batch_size))\n",
    "    embeddings = []\n",
    "    for i in range(num_batches):\n",
    "        start_index = i * batch_size\n",
    "        end_index = min(start_index + batch_size, len(dataframe))\n",
    "        batch_embeddings = model.encode(dataframe[column_name][start_index:end_index].tolist())\n",
    "        embeddings.append(batch_embeddings)\n",
    "    embeddings = np.concatenate(embeddings)\n",
    "\n",
    "    return embeddings"
   ]
  },
  {
   "cell_type": "markdown",
   "metadata": {},
   "source": [
    "## Description Column"
   ]
  },
  {
   "cell_type": "code",
   "execution_count": 32,
   "metadata": {},
   "outputs": [],
   "source": [
    "# we get the embeddings for the description column and store them in a description_embeddings variable\n",
    "description_embeddings = model.encode(data.description.values)\n"
   ]
  },
  {
   "cell_type": "code",
   "execution_count": 33,
   "metadata": {},
   "outputs": [
    {
     "data": {
      "text/plain": [
       "(6998, 384)"
      ]
     },
     "execution_count": 33,
     "metadata": {},
     "output_type": "execute_result"
    }
   ],
   "source": [
    "description_embeddings.shape\n"
   ]
  },
  {
   "cell_type": "code",
   "execution_count": 35,
   "metadata": {},
   "outputs": [],
   "source": [
    "# save the embeddings locally and then push them to github\n",
    "with open('description_embeddings.pkl', 'wb') as f:\n",
    "    pickle.dump(description_embeddings, f)"
   ]
  },
  {
   "cell_type": "markdown",
   "metadata": {},
   "source": [
    "## Neighbourhood Column"
   ]
  },
  {
   "cell_type": "code",
   "execution_count": 78,
   "metadata": {},
   "outputs": [
    {
     "data": {
      "text/plain": [
       "51"
      ]
     },
     "execution_count": 78,
     "metadata": {},
     "output_type": "execute_result"
    }
   ],
   "source": [
    "data.neighbourhood.nunique()"
   ]
  },
  {
   "cell_type": "code",
   "execution_count": 82,
   "metadata": {},
   "outputs": [],
   "source": [
    "# threat the neighbourhood column as a categorical variable\n",
    "# convert the neighbourhood column with label encoding\n",
    "\n",
    "data['neighbourhood'] = le.fit_transform(data['neighbourhood'])\n"
   ]
  },
  {
   "cell_type": "code",
   "execution_count": null,
   "metadata": {},
   "outputs": [],
   "source": []
  },
  {
   "attachments": {},
   "cell_type": "markdown",
   "metadata": {},
   "source": [
    "## Neighbourhood_overview column"
   ]
  },
  {
   "cell_type": "code",
   "execution_count": 91,
   "metadata": {},
   "outputs": [
    {
     "name": "stdout",
     "output_type": "stream",
     "text": [
      "4136\n",
      "['Indische Buurt (\"Indies Neighborhood\") is a neighbourhood in the eastern portion of the city of Amsterdam, in the Dutch province of Noord-Holland. The name dates from the early 20th century and is derived from the fact that the neighbourhood\\'s streets are named after islands and other geographical concepts in the former Dutch colony of the Dutch East Indies. The first street was named in 1902. In 2003, there were around 23,357 inhabitants. The neighbourhood is bounded on the west by the railroad Amsterdam - Hilversum (with the Muiderpoort Station), on the east side by Flevopark, on the north side by Zeeburgerdijk and on the south side by the Ringvaart Watergraafsmeer. Indische Buurt is the oldest part of the Zeeburg district and is very ethnically diverse, and a high percentage of the population is of immigrant origin (for Zeeburg this is already high at 55%, but higher in the Indische Buurt) and there are an estimated 100 languages spoken.'\n",
      " 'Perfect location in the lively centre. All historic high lights, shopping, eating and drinking out options in walking distance.'\n",
      " 'Bij aankomst vertel ik mijn gasten graag over de omgeving.'\n",
      " \"'De Pijp' as we Amsterdammers know it today is without doubt a melting pot of cultures and nationalities.  The Pijp is known for the vividness of it, and almost feels like a little village inside the city. <br /><br />De Pijp is brimming with fantastic cafés, culinair restaurants, coffee shops and bars. Within walking distance from the apartment you will find popular sites such as the Heineken Museum, the Van Gogh Museum, Vondelpark, The Royal Concerthall, Paradiso, Leidseplein and the Rijksmuseum.The Albert Cuyp market (just round the corner) is the most famous day market in Amsterdam.<br /><br />It will take about five minutes by foot to get to the center of Amsterdam. You will also be able to take the tram, stops are only a three minutes walk from the apartment. De Pijp is also known for it's shops, bars and muliticultural restaurants. The Sarphatipark and the Vondelpark are just around the corner. <br />We love the Pijp and already live here now for 22 years. It's not touristic but\"\n",
      " 'UNK']\n"
     ]
    }
   ],
   "source": [
    "print(data.neighborhood_overview.nunique())\n",
    "print(data.neighborhood_overview.values[0:5])"
   ]
  },
  {
   "cell_type": "code",
   "execution_count": 26,
   "metadata": {},
   "outputs": [],
   "source": [
    "# it is a text column, so we need to get the embeddings for it\n",
    "neighbourhood_overview_embeddings = model.encode(data.neighborhood_overview.values)"
   ]
  },
  {
   "cell_type": "code",
   "execution_count": 29,
   "metadata": {},
   "outputs": [],
   "source": [
    "# neighbourhood_emmbeddings save it as pickle\n",
    "import pickle\n",
    "with open('neighbourhood_emmbeddings.pickle', 'wb') as f:\n",
    "    pickle.dump(neighbourhood_overview_embeddings, f) "
   ]
  },
  {
   "cell_type": "markdown",
   "metadata": {},
   "source": [
    "## neighbourhood_cleansed column"
   ]
  },
  {
   "cell_type": "code",
   "execution_count": 70,
   "metadata": {},
   "outputs": [
    {
     "data": {
      "text/plain": [
       "De Baarsjes - Oud-West                    1139\n",
       "Centrum-West                               922\n",
       "De Pijp - Rivierenbuurt                    802\n",
       "Centrum-Oost                               681\n",
       "Westerpark                                 481\n",
       "Zuid                                       464\n",
       "Oud-Oost                                   408\n",
       "Bos en Lommer                              344\n",
       "Oud-Noord                                  322\n",
       "Oostelijk Havengebied - Indische Buurt     260\n",
       "Watergraafsmeer                            208\n",
       "Noord-West                                 179\n",
       "IJburg - Zeeburgereiland                   157\n",
       "Slotervaart                                143\n",
       "Noord-Oost                                 113\n",
       "Geuzenveld - Slotermeer                     87\n",
       "Buitenveldert - Zuidas                      80\n",
       "De Aker - Nieuw Sloten                      49\n",
       "Bijlmer-Centrum                             44\n",
       "Gaasperdam - Driemond                       44\n",
       "Osdorp                                      43\n",
       "Bijlmer-Oost                                28\n",
       "Name: neighbourhood_cleansed, dtype: int64"
      ]
     },
     "execution_count": 70,
     "metadata": {},
     "output_type": "execute_result"
    }
   ],
   "source": [
    "\n",
    "data.neighbourhood_cleansed.value_counts()"
   ]
  },
  {
   "cell_type": "code",
   "execution_count": 87,
   "metadata": {},
   "outputs": [],
   "source": [
    "# threat this as a categorical variable\n",
    "# label encode the neighbourhood_cleansed column\n",
    "data['neighbourhood_cleansed'] = le.fit_transform(data['neighbourhood_cleansed'])"
   ]
  },
  {
   "cell_type": "code",
   "execution_count": 88,
   "metadata": {},
   "outputs": [
    {
     "data": {
      "text/plain": [
       "7     1139\n",
       "5      922\n",
       "8      802\n",
       "4      681\n",
       "20     481\n",
       "21     464\n",
       "17     408\n",
       "2      344\n",
       "16     322\n",
       "14     260\n",
       "19     208\n",
       "13     179\n",
       "11     157\n",
       "18     143\n",
       "12     113\n",
       "10      87\n",
       "3       80\n",
       "6       49\n",
       "0       44\n",
       "9       44\n",
       "15      43\n",
       "1       28\n",
       "Name: neighbourhood_cleansed, dtype: int64"
      ]
     },
     "execution_count": 88,
     "metadata": {},
     "output_type": "execute_result"
    }
   ],
   "source": [
    "data.neighbourhood_cleansed.value_counts()"
   ]
  },
  {
   "cell_type": "markdown",
   "metadata": {},
   "source": [
    "## Column property_type"
   ]
  },
  {
   "cell_type": "code",
   "execution_count": null,
   "metadata": {},
   "outputs": [],
   "source": [
    "# Used label ecoder but we can try embedding for this column as well"
   ]
  },
  {
   "cell_type": "code",
   "execution_count": 90,
   "metadata": {},
   "outputs": [
    {
     "data": {
      "text/plain": [
       "Entire rental unit                    2540\n",
       "Entire condo                          1304\n",
       "Private room in rental unit            490\n",
       "Entire home                            471\n",
       "Private room in bed and breakfast      290\n",
       "Entire townhouse                       213\n",
       "Entire loft                            187\n",
       "Private room in condo                  148\n",
       "Houseboat                              130\n",
       "Private room in home                   128\n",
       "Room in hotel                          115\n",
       "Room in boutique hotel                 111\n",
       "Private room in houseboat               97\n",
       "Boat                                    93\n",
       "Private room in guest suite             92\n",
       "Private room in townhouse               86\n",
       "Entire serviced apartment               82\n",
       "Private room in boat                    56\n",
       "Private room in loft                    43\n",
       "Room in bed and breakfast               26\n",
       "Entire villa                            25\n",
       "Shared room in hostel                   23\n",
       "Entire guest suite                      23\n",
       "Room in aparthotel                      20\n",
       "Entire guesthouse                       18\n",
       "Private room in hostel                  17\n",
       "Private room in guesthouse              17\n",
       "Private room in serviced apartment      17\n",
       "Entire vacation home                    16\n",
       "Room in hostel                          13\n",
       "Private room in casa particular         13\n",
       "Entire place                             9\n",
       "Private room                             8\n",
       "Private room in villa                    8\n",
       "Shared room in rental unit               7\n",
       "Tiny home                                7\n",
       "Private room in farm stay                7\n",
       "Room in serviced apartment               6\n",
       "Private room in earthen home             5\n",
       "Entire cabin                             5\n",
       "Entire cottage                           4\n",
       "Shared room in houseboat                 4\n",
       "Private room in tiny home                3\n",
       "Private room in cabin                    2\n",
       "Camper/RV                                2\n",
       "Casa particular                          2\n",
       "Tower                                    2\n",
       "Entire chalet                            2\n",
       "Shared room in bed and breakfast         2\n",
       "Yurt                                     1\n",
       "Private room in bungalow                 1\n",
       "Shared room in farm stay                 1\n",
       "Shared room in home                      1\n",
       "Cave                                     1\n",
       "Shared room in boat                      1\n",
       "Barn                                     1\n",
       "Private room in nature lodge             1\n",
       "Private room in vacation home            1\n",
       "Name: property_type, dtype: int64"
      ]
     },
     "execution_count": 90,
     "metadata": {},
     "output_type": "execute_result"
    }
   ],
   "source": [
    "data.property_type.value_counts()"
   ]
  },
  {
   "cell_type": "code",
   "execution_count": 91,
   "metadata": {},
   "outputs": [],
   "source": [
    "# values less or equal to 4 will be replaced with 'other'\n",
    "data['property_type'] = data['property_type'].apply(lambda x: 'other' if x in data.property_type.value_counts()[data.property_type.value_counts() <= 10].index else x)"
   ]
  },
  {
   "cell_type": "code",
   "execution_count": 92,
   "metadata": {},
   "outputs": [
    {
     "data": {
      "text/plain": [
       "Entire rental unit                    2540\n",
       "Entire condo                          1304\n",
       "Private room in rental unit            490\n",
       "Entire home                            471\n",
       "Private room in bed and breakfast      290\n",
       "Entire townhouse                       213\n",
       "Entire loft                            187\n",
       "Private room in condo                  148\n",
       "Houseboat                              130\n",
       "Private room in home                   128\n",
       "Room in hotel                          115\n",
       "Room in boutique hotel                 111\n",
       "Private room in houseboat               97\n",
       "other                                   94\n",
       "Boat                                    93\n",
       "Private room in guest suite             92\n",
       "Private room in townhouse               86\n",
       "Entire serviced apartment               82\n",
       "Private room in boat                    56\n",
       "Private room in loft                    43\n",
       "Room in bed and breakfast               26\n",
       "Entire villa                            25\n",
       "Entire guest suite                      23\n",
       "Shared room in hostel                   23\n",
       "Room in aparthotel                      20\n",
       "Entire guesthouse                       18\n",
       "Private room in guesthouse              17\n",
       "Private room in serviced apartment      17\n",
       "Private room in hostel                  17\n",
       "Entire vacation home                    16\n",
       "Private room in casa particular         13\n",
       "Room in hostel                          13\n",
       "Name: property_type, dtype: int64"
      ]
     },
     "execution_count": 92,
     "metadata": {},
     "output_type": "execute_result"
    }
   ],
   "source": [
    "data.property_type.value_counts()"
   ]
  },
  {
   "cell_type": "code",
   "execution_count": 93,
   "metadata": {},
   "outputs": [],
   "source": [
    "# label encode the property_type column\n",
    "data['property_type'] = le.fit_transform(data['property_type'])\n"
   ]
  },
  {
   "cell_type": "markdown",
   "metadata": {},
   "source": [
    "## room_type column"
   ]
  },
  {
   "cell_type": "code",
   "execution_count": 42,
   "metadata": {},
   "outputs": [
    {
     "data": {
      "text/plain": [
       "Entire home/apt    5154\n",
       "Private room       1743\n",
       "Hotel room           62\n",
       "Shared room          39\n",
       "Name: room_type, dtype: int64"
      ]
     },
     "execution_count": 42,
     "metadata": {},
     "output_type": "execute_result"
    }
   ],
   "source": [
    "data.room_type.value_counts()"
   ]
  },
  {
   "cell_type": "code",
   "execution_count": 43,
   "metadata": {},
   "outputs": [],
   "source": [
    "# LabelEncoder for room_type\n",
    "data['room_type'] = le.fit_transform(data['room_type'])"
   ]
  },
  {
   "cell_type": "markdown",
   "metadata": {},
   "source": [
    "## Column host_neighbourhood"
   ]
  },
  {
   "cell_type": "code",
   "execution_count": 56,
   "metadata": {},
   "outputs": [
    {
     "data": {
      "text/plain": [
       "45    4022\n",
       "27     553\n",
       "11     244\n",
       "7      234\n",
       "15     189\n",
       "24     157\n",
       "2      126\n",
       "14     116\n",
       "22      84\n",
       "21      79\n",
       "30      78\n",
       "12      69\n",
       "40      64\n",
       "8       62\n",
       "23      57\n",
       "42      57\n",
       "0       56\n",
       "41      55\n",
       "9       53\n",
       "43      52\n",
       "28      50\n",
       "34      45\n",
       "18      45\n",
       "35      45\n",
       "33      41\n",
       "13      37\n",
       "39      34\n",
       "38      30\n",
       "26      26\n",
       "3       25\n",
       "25      22\n",
       "1       20\n",
       "4       19\n",
       "29      19\n",
       "6       19\n",
       "16      15\n",
       "36      14\n",
       "44      13\n",
       "31      13\n",
       "19      13\n",
       "32      11\n",
       "17      11\n",
       "37       8\n",
       "5        6\n",
       "10       6\n",
       "20       4\n",
       "Name: host_neighbourhood, dtype: int64"
      ]
     },
     "execution_count": 56,
     "metadata": {},
     "output_type": "execute_result"
    }
   ],
   "source": [
    "data.host_neighbourhood.value_counts()"
   ]
  },
  {
   "cell_type": "code",
   "execution_count": 57,
   "metadata": {},
   "outputs": [],
   "source": [
    "# value_counts of host_neighbourhood == 1 rename as \"other\"\n",
    "vc = data.host_neighbourhood.value_counts()\n",
    "single_neighborhoods = vc[vc == 1].index.tolist()\n",
    "data.loc[data.host_neighbourhood.isin(single_neighborhoods), 'host_neighbourhood'] = 'other'\n",
    "\n"
   ]
  },
  {
   "cell_type": "code",
   "execution_count": 58,
   "metadata": {},
   "outputs": [
    {
     "data": {
      "text/plain": [
       "45    4022\n",
       "27     553\n",
       "11     244\n",
       "7      234\n",
       "15     189\n",
       "24     157\n",
       "2      126\n",
       "14     116\n",
       "22      84\n",
       "21      79\n",
       "30      78\n",
       "12      69\n",
       "40      64\n",
       "8       62\n",
       "23      57\n",
       "42      57\n",
       "0       56\n",
       "41      55\n",
       "9       53\n",
       "43      52\n",
       "28      50\n",
       "34      45\n",
       "18      45\n",
       "35      45\n",
       "33      41\n",
       "13      37\n",
       "39      34\n",
       "38      30\n",
       "26      26\n",
       "3       25\n",
       "25      22\n",
       "1       20\n",
       "4       19\n",
       "29      19\n",
       "6       19\n",
       "16      15\n",
       "36      14\n",
       "44      13\n",
       "31      13\n",
       "19      13\n",
       "32      11\n",
       "17      11\n",
       "37       8\n",
       "5        6\n",
       "10       6\n",
       "20       4\n",
       "Name: host_neighbourhood, dtype: int64"
      ]
     },
     "execution_count": 58,
     "metadata": {},
     "output_type": "execute_result"
    }
   ],
   "source": [
    "data.host_neighbourhood.value_counts()"
   ]
  },
  {
   "cell_type": "code",
   "execution_count": 59,
   "metadata": {},
   "outputs": [],
   "source": [
    "# apply label encoder to host_neighbourhood\n",
    "\n",
    "\n",
    "data['host_neighbourhood'] = le.fit_transform(data['host_neighbourhood'])"
   ]
  },
  {
   "cell_type": "markdown",
   "metadata": {},
   "source": [
    "## Column host_response_time"
   ]
  },
  {
   "cell_type": "code",
   "execution_count": 93,
   "metadata": {},
   "outputs": [
    {
     "name": "stdout",
     "output_type": "stream",
     "text": [
      "Number of unique values in host_response_time: 5\n",
      "3    2645\n",
      "4    2039\n",
      "2    1123\n",
      "1    1083\n",
      "0     108\n",
      "Name: host_response_time, dtype: int64\n"
     ]
    }
   ],
   "source": [
    "print(f'Number of unique values in host_response_time: {data.host_response_time.nunique()}')\n",
    "print(data.host_response_time.value_counts())"
   ]
  },
  {
   "cell_type": "code",
   "execution_count": 50,
   "metadata": {},
   "outputs": [],
   "source": [
    "# convert to category with label encoding\n",
    "data['host_response_time'] = le.fit_transform(data['host_response_time'])\n",
    "\n"
   ]
  },
  {
   "cell_type": "markdown",
   "metadata": {},
   "source": [
    "## Column host_about"
   ]
  },
  {
   "cell_type": "code",
   "execution_count": 60,
   "metadata": {},
   "outputs": [
    {
     "data": {
      "text/plain": [
       "3378"
      ]
     },
     "execution_count": 60,
     "metadata": {},
     "output_type": "execute_result"
    }
   ],
   "source": [
    "len(data.host_about.value_counts())"
   ]
  },
  {
   "cell_type": "code",
   "execution_count": 61,
   "metadata": {},
   "outputs": [
    {
     "data": {
      "text/plain": [
       "0    Upon arriving in Amsterdam, one can imagine as...\n",
       "1    We love cycling, travelling, healthy food and ...\n",
       "2    I like to welcome guests who take good care of...\n",
       "3    We are the parents of 4 beautiful children, tw...\n",
       "4    Welcome guests, I'm Sebastiaan and it would be...\n",
       "Name: host_about, dtype: object"
      ]
     },
     "execution_count": 61,
     "metadata": {},
     "output_type": "execute_result"
    }
   ],
   "source": [
    "data.host_about.head()"
   ]
  },
  {
   "cell_type": "code",
   "execution_count": 62,
   "metadata": {},
   "outputs": [
    {
     "data": {
      "text/plain": [
       "0"
      ]
     },
     "execution_count": 62,
     "metadata": {},
     "output_type": "execute_result"
    }
   ],
   "source": [
    "# check if there is any null value\n",
    "data.host_about.isnull().sum()"
   ]
  },
  {
   "cell_type": "code",
   "execution_count": 63,
   "metadata": {},
   "outputs": [],
   "source": [
    "# fill the with 'UNK'\n",
    "data.host_about.fillna('UNK', inplace=True)"
   ]
  },
  {
   "cell_type": "code",
   "execution_count": 64,
   "metadata": {},
   "outputs": [],
   "source": [
    "host_abput_embeddings = get_embeddings(data, 'host_about')"
   ]
  },
  {
   "cell_type": "code",
   "execution_count": 65,
   "metadata": {},
   "outputs": [],
   "source": [
    "# pickle\n",
    "with open('host_about_embeddings.pkl', 'wb') as f:\n",
    "    pickle.dump(host_abput_embeddings, f)"
   ]
  },
  {
   "cell_type": "code",
   "execution_count": null,
   "metadata": {},
   "outputs": [],
   "source": []
  },
  {
   "cell_type": "code",
   "execution_count": null,
   "metadata": {},
   "outputs": [],
   "source": []
  },
  {
   "cell_type": "code",
   "execution_count": null,
   "metadata": {},
   "outputs": [],
   "source": []
  },
  {
   "cell_type": "code",
   "execution_count": null,
   "metadata": {},
   "outputs": [],
   "source": []
  },
  {
   "cell_type": "code",
   "execution_count": null,
   "metadata": {},
   "outputs": [],
   "source": []
  }
 ],
 "metadata": {
  "kernelspec": {
   "display_name": "nlp1",
   "language": "python",
   "name": "python3"
  },
  "language_info": {
   "codemirror_mode": {
    "name": "ipython",
    "version": 3
   },
   "file_extension": ".py",
   "mimetype": "text/x-python",
   "name": "python",
   "nbconvert_exporter": "python",
   "pygments_lexer": "ipython3",
   "version": "3.10.9"
  },
  "orig_nbformat": 4,
  "vscode": {
   "interpreter": {
    "hash": "48fa73cffd7ea0ee077adfb9340a9f695394edf478401010103a3ce4f2491774"
   }
  }
 },
 "nbformat": 4,
 "nbformat_minor": 2
}
