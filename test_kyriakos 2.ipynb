{
 "cells": [
  {
   "cell_type": "code",
   "execution_count": 7,
   "metadata": {},
   "outputs": [],
   "source": [
    "import numpy as np\n",
    "import pandas as pd\n",
    "import os\n",
    "import torch\n",
    "import torch.nn as nn\n",
    "\n",
    "from transformers import BertTokenizer, BertModel, AutoTokenizer\n",
    "from sentence_transformers import SentenceTransformer\n",
    "from sklearn.model_selection import train_test_split\n",
    "\n"
   ]
  },
  {
   "cell_type": "code",
   "execution_count": 2,
   "metadata": {},
   "outputs": [
    {
     "data": {
      "text/plain": [
       "'g:\\\\.shortcut-targets-by-id\\\\1CZZx9Bpz7hB-BhPFsqAL3fRVyxM1XfwF\\\\AirBnB_project'"
      ]
     },
     "execution_count": 2,
     "metadata": {},
     "output_type": "execute_result"
    }
   ],
   "source": [
    "os.getcwd()\n",
    "# change the path to C:\\Users\\Kyriakos\\Desktop\\MsC AI\\NLP\\NLP AirBNB Project\\AirBnB_score_prediction\\dataset\n",
    "# os.chdir('C:\\\\Users\\\\Kyriakos\\\\Desktop\\\\MsC AI\\\\NLP\\\\NLP AirBNB Project\\\\AirBnB_score_prediction\\\\dataset')\n",
    "# os.getcwd()\n"
   ]
  },
  {
   "cell_type": "code",
   "execution_count": 8,
   "metadata": {},
   "outputs": [],
   "source": [
    "# 'listings_comments.csv is the datset compined \n",
    "\n",
    "# reaf the datset from Google Drive G:\\.shortcut-targets-by-id\\1CZZx9Bpz7hB-BhPFsqAL3fRVyxM1XfwF\\AirBnB_project\n",
    "data = pd.read_csv('G:\\\\.shortcut-targets-by-id\\\\1CZZx9Bpz7hB-BhPFsqAL3fRVyxM1XfwF\\\\AirBnB_project\\\\listings_comments.csv')\n"
   ]
  },
  {
   "cell_type": "markdown",
   "metadata": {},
   "source": [
    "### check  for nan values\n"
   ]
  },
  {
   "cell_type": "code",
   "execution_count": 9,
   "metadata": {},
   "outputs": [
    {
     "name": "stdout",
     "output_type": "stream",
     "text": [
      "Description nan values: 6\n",
      "Comments nan values: 2492\n",
      "Comments nan values: 2492\n"
     ]
    }
   ],
   "source": [
    "print(f'Description nan values: {data.description.isna().sum()}')\n",
    "print(f'Comments nan values: {data.neighborhood_overview.isna().sum()}')\n",
    "print(f'Comments nan values: {data.neighbourhood.isna().sum()}')"
   ]
  },
  {
   "cell_type": "code",
   "execution_count": 10,
   "metadata": {},
   "outputs": [],
   "source": [
    "def fill_nan(df, column):\n",
    "    df[column].fillna('UNK', inplace=True)\n",
    "    return df\n",
    "\n",
    "data = fill_nan(data, 'description')\n",
    "data = fill_nan(data, 'neighborhood_overview')\n",
    "data = fill_nan(data, 'neighbourhood')"
   ]
  },
  {
   "cell_type": "code",
   "execution_count": 11,
   "metadata": {},
   "outputs": [
    {
     "name": "stdout",
     "output_type": "stream",
     "text": [
      "Description nan values: 0\n",
      "Comments nan values: 0\n",
      "Comments nan values: 0\n"
     ]
    }
   ],
   "source": [
    "print(f'Description nan values: {data.description.isna().sum()}')\n",
    "print(f'Comments nan values: {data.neighborhood_overview.isna().sum()}')\n",
    "print(f'Comments nan values: {data.neighbourhood.isna().sum()}')"
   ]
  },
  {
   "cell_type": "code",
   "execution_count": 12,
   "metadata": {},
   "outputs": [
    {
     "name": "stdout",
     "output_type": "stream",
     "text": [
      "682\n",
      "0\n"
     ]
    }
   ],
   "source": [
    "# check if there are any missing values in \"review_scores_rating\"\n",
    "print(data['review_scores_rating'].isnull().sum())\n",
    "\n",
    "# fill missing values with the mean\n",
    "data['review_scores_rating'].fillna(data['review_scores_rating'].mean(), inplace=True)\n",
    "\n",
    "print(data['review_scores_rating'].isnull().sum())"
   ]
  },
  {
   "cell_type": "code",
   "execution_count": 13,
   "metadata": {},
   "outputs": [
    {
     "name": "stderr",
     "output_type": "stream",
     "text": [
      "Some weights of the model checkpoint at bert-base-uncased were not used when initializing BertModel: ['cls.predictions.decoder.weight', 'cls.seq_relationship.weight', 'cls.predictions.transform.dense.weight', 'cls.predictions.transform.LayerNorm.weight', 'cls.predictions.transform.LayerNorm.bias', 'cls.predictions.transform.dense.bias', 'cls.predictions.bias', 'cls.seq_relationship.bias']\n",
      "- This IS expected if you are initializing BertModel from the checkpoint of a model trained on another task or with another architecture (e.g. initializing a BertForSequenceClassification model from a BertForPreTraining model).\n",
      "- This IS NOT expected if you are initializing BertModel from the checkpoint of a model that you expect to be exactly identical (initializing a BertForSequenceClassification model from a BertForSequenceClassification model).\n"
     ]
    }
   ],
   "source": [
    "# Load pre-trained BERT model and tokenizer\n",
    "tokenizer = BertTokenizer.from_pretrained('bert-base-uncased')\n",
    "model = BertModel.from_pretrained('bert-base-uncased')"
   ]
  },
  {
   "cell_type": "code",
   "execution_count": 14,
   "metadata": {},
   "outputs": [],
   "source": [
    "# Remove unnecessary columns\n",
    "columns_to_remove = ['listing_url', 'scrape_id', 'last_scraped', 'source', 'picture_url', 'host_url', 'host_name', \n",
    "                     'host_location', 'host_thumbnail_url', 'host_picture_url', 'host_verifications', \n",
    "                     'host_has_profile_pic', 'host_identity_verified', 'neighbourhood_group_cleansed', \n",
    "                     'minimum_minimum_nights', 'maximum_minimum_nights', 'minimum_maximum_nights', 'maximum_maximum_nights',\n",
    "                     'minimum_nights_avg_ntm', 'maximum_nights_avg_ntm', 'calendar_updated', 'has_availability',\n",
    "                     'availability_30', 'availability_60', 'availability_90', 'availability_365', \n",
    "                     'calendar_last_scraped', 'number_of_reviews', 'number_of_reviews_ltm', 'number_of_reviews_l30d', \n",
    "                     'first_review', 'last_review', 'license', 'instant_bookable', 'reviews_per_month']\n"
   ]
  },
  {
   "cell_type": "code",
   "execution_count": 15,
   "metadata": {},
   "outputs": [],
   "source": [
    "data.drop(columns_to_remove, axis=1, inplace=True)\n",
    "\n",
    "# Remove rows with missing review_scores_rating values\n",
    "# data.dropna(subset=['review_scores_rating'], inplace=True)\n",
    "\n",
    "# we can do it later when we combine all embeddings in one dataframe\n",
    "# Split into training and validation sets\n",
    "X = data.drop(['review_scores_rating'], axis=1)\n",
    "y = data['review_scores_rating']\n",
    "X_train, X_val, y_train, y_val = train_test_split(X, y, test_size=0.2, random_state=42)\n"
   ]
  },
  {
   "cell_type": "markdown",
   "metadata": {},
   "source": [
    "## Function that takes a column and returns an embeddings matrix"
   ]
  },
  {
   "cell_type": "code",
   "execution_count": 16,
   "metadata": {},
   "outputs": [],
   "source": [
    "\n",
    "# endoded_descriptions = []\n",
    "\n",
    "# for description in df.description:\n",
    "#     # Tokenize text and add special tokens\n",
    "#     encoded = tokenizer.encode_plus(\n",
    "#         description,\n",
    "#         add_special_tokens=True,\n",
    "#         max_length=64,  # limit the length of the encoded text to 64 tokens\n",
    "#         pad_to_max_length=True,  # pad shorter texts and truncate longer texts\n",
    "#         return_attention_mask=True,\n",
    "#         return_tensors='pt'  # return PyTorch tensors\n",
    "#     )\n",
    "#     # Add encoded listing to the list\n",
    "#     endoded_descriptions.append(encoded)\n",
    "\n",
    "# # Convert encoded listings to PyTorch tensors\n",
    "# input_ids = torch.cat([x['input_ids'] for x in endoded_descriptions])\n",
    "# attention_mask = torch.cat([x['attention_mask'] for x in endoded_descriptions])\n",
    "\n",
    "# # Pass the input through the BERT model to get the output\n",
    "# with torch.no_grad():\n",
    "#     outputs = model(input_ids, attention_mask)\n",
    "\n",
    "# # Extract the output embeddings for each listing\n",
    "# descriptions_embeddings = outputs[0][:, 0, :]\n",
    "# # print(descriptions_embeddings.shape)\n",
    "\n",
    "\n",
    "# def get_embeddings(listings, model, tokenizer):\n",
    "#     # Pass the input through the BERT model to get the output\n",
    "#     with torch.no_grad():\n",
    "#         encoded_listings = []\n",
    "#         for listing in listings:\n",
    "#             # Tokenize text and add special tokens\n",
    "#             encoded = tokenizer.encode_plus(\n",
    "#                 listing,\n",
    "#                 add_special_tokens=True,\n",
    "#                 max_length=64,  # limit the length of the encoded text to 64 tokens\n",
    "#                 pad_to_max_length=True,  # pad shorter texts and truncate longer texts\n",
    "#                 return_attention_mask=True,\n",
    "#                 return_tensors='pt'  # return PyTorch tensors\n",
    "#             )\n",
    "#             # Add encoded listing to the list\n",
    "#             encoded_listings.append(encoded)\n",
    "\n",
    "#         # Convert encoded listings to PyTorch tensors\n",
    "#         input_ids = torch.cat([x['input_ids'] for x in encoded_listings]).to(model.device)\n",
    "#         attention_mask = torch.cat([x['attention_mask'] for x in encoded_listings]).to(model.device)\n",
    "        \n",
    "#         outputs = model(input_ids=input_ids, attention_mask=attention_mask)\n",
    "\n",
    "#         # Extract the output embeddings for each listing\n",
    "#         listings_embeddings = outputs[0][:, 0, :]\n",
    "#         return listings_embeddings.cpu()\n",
    "\n",
    "\n",
    "\n",
    "\n",
    "\n",
    "\n"
   ]
  },
  {
   "cell_type": "code",
   "execution_count": null,
   "metadata": {},
   "outputs": [
    {
     "name": "stdout",
     "output_type": "stream",
     "text": [
      "Device: cpu\n"
     ]
    },
    {
     "ename": "NameError",
     "evalue": "name 'model' is not defined",
     "output_type": "error",
     "traceback": [
      "\u001b[1;31m---------------------------------------------------------------------------\u001b[0m\n",
      "\u001b[1;31mNameError\u001b[0m                                 Traceback (most recent call last)\n",
      "Cell \u001b[1;32mIn[4], line 5\u001b[0m\n",
      "\u001b[0;32m      3\u001b[0m \u001b[39mprint\u001b[39m(\u001b[39mf\u001b[39m\u001b[39m'\u001b[39m\u001b[39mDevice: \u001b[39m\u001b[39m{\u001b[39;00mdevice\u001b[39m}\u001b[39;00m\u001b[39m'\u001b[39m)\n",
      "\u001b[0;32m      4\u001b[0m \u001b[39m# move the model to the device\u001b[39;00m\n",
      "\u001b[1;32m----> 5\u001b[0m model\u001b[39m.\u001b[39mto(device)\n",
      "\u001b[0;32m      7\u001b[0m \u001b[39m# parallelize the model across multiple GPUs\u001b[39;00m\n",
      "\u001b[0;32m      8\u001b[0m model \u001b[39m=\u001b[39m nn\u001b[39m.\u001b[39mDataParallel(model)\n",
      "\n",
      "\u001b[1;31mNameError\u001b[0m: name 'model' is not defined"
     ]
    }
   ],
   "source": [
    "\n",
    "# check if cuda is available\n",
    "device = torch.device('cuda' if torch.cuda.is_available() else 'cpu')\n",
    "print(f'Device: {device}')\n",
    "# move the model to the device\n",
    "model.to(device)\n",
    "\n",
    "# parallelize the model across multiple GPUs\n",
    "model = nn.DataParallel(model)"
   ]
  },
  {
   "cell_type": "code",
   "execution_count": 20,
   "metadata": {},
   "outputs": [
    {
     "name": "stdout",
     "output_type": "stream",
     "text": [
      "Device: cpu\n"
     ]
    }
   ],
   "source": [
    "\n",
    "\n",
    "# def get_embeddings(listings):\n",
    "        \n",
    "\n",
    "   \n",
    "    # def encode(listings):\n",
    "    #     for listing in listings:\n",
    "    #         # Tokenize text and add special tokens\n",
    "    #         encoded = tokenizer.encode_plus(\n",
    "    #             listing,\n",
    "    #             add_special_tokens=True,\n",
    "    #             max_length=64,  # limit the length of the encoded text to 64 tokens\n",
    "    #             pad_to_max_length=True,  # pad shorter texts and truncate longer texts\n",
    "    #             return_attention_mask=True,\n",
    "    #             return_tensors='pt'  # return PyTorch tensors\n",
    "    #         )\n",
    "    #         yield encoded\n",
    "\n",
    "    # # Convert encoded listings to PyTorch tensors\n",
    "    # input_ids = []\n",
    "    # attention_mask = []\n",
    "    # for encoded_listing in encode(listings):\n",
    "    #     input_ids.append(encoded_listing['input_ids'])\n",
    "    #     attention_mask.append(encoded_listing['attention_mask'])\n",
    "\n",
    "    # input_ids = torch.cat(input_ids).to(device)\n",
    "    # attention_mask = torch.cat(attention_mask).to(device)\n",
    "    # # set the batcxh size\n",
    "    # batch_size = 32\n",
    "\n",
    "    # #  Split the input_ids and attention_mask into batches\n",
    "    # input_ids_batches = torch.split(input_ids, batch_size)\n",
    "    # attention_mask_batches = torch.split(attention_mask, batch_size)\n",
    "\n",
    "    # # Pass the input through the BERT model to get the output\n",
    "\n",
    "    # embeddings = []\n",
    "    # with torch.no_grad():\n",
    "    #     outputs = []\n",
    "    #     for input_ids_batch, attention_mask_batch in zip(input_ids_batches, attention_mask_batches):\n",
    "    #         outputs.append(model(input_ids=input_ids_batch, attention_mask=attention_mask_batch))\n",
    "\n",
    "    #         embeddings.append(outputs[0][0][:, 0, :])\n",
    "\n",
    "    # # clear the memory of the GPU deticated memory usage\n",
    "    # torch.cuda.empty_cache()\n",
    "    # del outputs\n",
    "    # del input_ids\n",
    "    # del attention_mask\n",
    "\n",
    "    # # Extract the output embeddings for each listing\n",
    "    # listings_embeddings = torch.cat(embeddings)\n",
    "    # return listings_embeddings.to('cpu')\n",
    "\n",
    "model = SentenceTransformer('all-MiniLM-L6-v2')\n",
    "\n",
    "device = torch.device('cuda' if torch.cuda.is_available() else 'cpu')\n",
    "print(f'Device: {device}')\n",
    "# move the model to the device\n",
    "model.to(device)\n",
    "\n",
    "# parallelize the model across multiple GPUs\n",
    "model = nn.DataParallel(model) \n",
    "\n",
    "# apply it with sbert model\n",
    "\n",
    "def get_embeddings(listings):\n",
    "\n",
    "    # torch.tensor(listings).to(device)\n",
    "    \n",
    "    # set the batch size\n",
    "    batch_size = 32\n",
    "\n",
    "    #  Split the input_ids and attention_mask into batches\n",
    "    listings_batches = torch.split(listings, batch_size)\n",
    "\n",
    "    # Pass the input through the BERT model to get the output\n",
    "\n",
    "    embeddings = []\n",
    "    with torch.no_grad():\n",
    "        outputs = []\n",
    "        for listings_batch in listings_batches:\n",
    "            outputs.append(model.encode(listings_batch))\n",
    "\n",
    "            embeddings.append(outputs[0])\n",
    "\n",
    "    # clear the memory of the GPU deticated memory usage\n",
    "    torch.cuda.empty_cache()\n",
    "    del outputs\n",
    "\n",
    "    # Extract the output embeddings for each listing\n",
    "    listings_embeddings = torch.cat(embeddings)\n",
    "    return listings_embeddings.to('cpu')"
   ]
  },
  {
   "cell_type": "code",
   "execution_count": 39,
   "metadata": {},
   "outputs": [],
   "source": [
    "train_descriptions_embeddings = get_embeddings(X_train.description)\n",
    "val_descriptions_embeddings = get_embeddings(X_val.description)\n",
    "\n",
    "# Convert the embeddings to numpy arrays\n",
    "train_descriptions_embeddings = train_descriptions_embeddings.numpy()   \n",
    "val_descriptions_embeddings = val_descriptions_embeddings.numpy()\n",
    "\n",
    "# Create a dataframe from the embeddings\n",
    "train_descriptions_embeddings = pd.DataFrame(train_descriptions_embeddings)\n",
    "val_descriptions_embeddings = pd.DataFrame(val_descriptions_embeddings)\n"
   ]
  },
  {
   "cell_type": "code",
   "execution_count": 40,
   "metadata": {},
   "outputs": [
    {
     "data": {
      "text/plain": [
       "torch.Size([7008, 768])"
      ]
     },
     "execution_count": 40,
     "metadata": {},
     "output_type": "execute_result"
    }
   ],
   "source": [
    "descriptions_embeddings.shape   "
   ]
  },
  {
   "cell_type": "code",
   "execution_count": 21,
   "metadata": {},
   "outputs": [
    {
     "ename": "TypeError",
     "evalue": "can't convert np.ndarray of type numpy.object_. The only supported types are: float64, float32, float16, complex64, complex128, int64, int32, int16, int8, uint8, and bool.",
     "output_type": "error",
     "traceback": [
      "\u001b[1;31m---------------------------------------------------------------------------\u001b[0m",
      "\u001b[1;31mTypeError\u001b[0m                                 Traceback (most recent call last)",
      "Cell \u001b[1;32mIn[21], line 2\u001b[0m\n\u001b[0;32m      1\u001b[0m \u001b[39m# neighbourhood_overview_embeddings = get_embeddings(data.neighborhood_overview.values)\u001b[39;00m\n\u001b[1;32m----> 2\u001b[0m neighbourhood_overview_embeddings \u001b[39m=\u001b[39m get_embeddings(torch\u001b[39m.\u001b[39;49mtensor(data\u001b[39m.\u001b[39;49mneighborhood_overview\u001b[39m.\u001b[39;49mvalues))\n",
      "\u001b[1;31mTypeError\u001b[0m: can't convert np.ndarray of type numpy.object_. The only supported types are: float64, float32, float16, complex64, complex128, int64, int32, int16, int8, uint8, and bool."
     ]
    }
   ],
   "source": [
    "# neighbourhood_overview_embeddings = get_embeddings(data.neighborhood_overview.values)\n",
    "neighbourhood_overview_embeddings = get_embeddings(torch.tensor(data.neighborhood_overview.values))\n"
   ]
  },
  {
   "cell_type": "code",
   "execution_count": 29,
   "metadata": {},
   "outputs": [
    {
     "name": "stderr",
     "output_type": "stream",
     "text": [
      "c:\\Users\\kyriakos\\anaconda3\\envs\\nlp1\\lib\\site-packages\\transformers\\tokenization_utils_base.py:2346: FutureWarning: The `pad_to_max_length` argument is deprecated and will be removed in a future version, use `padding=True` or `padding='longest'` to pad to the longest sequence in the batch, or use `padding='max_length'` to pad to a max length. In this case, you can give a specific length with `max_length` (e.g. `max_length=45`) or leave max_length to None to pad to the maximal input size of the model (e.g. 512 for Bert).\n",
      "  warnings.warn(\n"
     ]
    }
   ],
   "source": [
    "neighbourhood_emmbeddings = get_embeddings(data.neighbourhood)"
   ]
  },
  {
   "cell_type": "code",
   "execution_count": 35,
   "metadata": {},
   "outputs": [
    {
     "data": {
      "text/plain": [
       "torch.Size([7008, 768])"
      ]
     },
     "execution_count": 35,
     "metadata": {},
     "output_type": "execute_result"
    }
   ],
   "source": [
    "neighbourhood_emmbeddings.shape"
   ]
  },
  {
   "cell_type": "code",
   "execution_count": 38,
   "metadata": {},
   "outputs": [
    {
     "name": "stderr",
     "output_type": "stream",
     "text": [
      "c:\\Users\\kyriakos\\anaconda3\\envs\\nlp1\\lib\\site-packages\\transformers\\tokenization_utils_base.py:2346: FutureWarning: The `pad_to_max_length` argument is deprecated and will be removed in a future version, use `padding=True` or `padding='longest'` to pad to the longest sequence in the batch, or use `padding='max_length'` to pad to a max length. In this case, you can give a specific length with `max_length` (e.g. `max_length=45`) or leave max_length to None to pad to the maximal input size of the model (e.g. 512 for Bert).\n",
      "  warnings.warn(\n"
     ]
    },
    {
     "data": {
      "text/plain": [
       "torch.Size([7008, 768])"
      ]
     },
     "execution_count": 38,
     "metadata": {},
     "output_type": "execute_result"
    }
   ],
   "source": [
    "name_embeddings = get_embeddings(data.name)\n",
    "name_embeddings.shape"
   ]
  },
  {
   "cell_type": "code",
   "execution_count": null,
   "metadata": {},
   "outputs": [],
   "source": []
  },
  {
   "cell_type": "code",
   "execution_count": null,
   "metadata": {},
   "outputs": [],
   "source": []
  },
  {
   "cell_type": "code",
   "execution_count": 82,
   "metadata": {},
   "outputs": [
    {
     "data": {
      "text/plain": [
       "(6998, 41)"
      ]
     },
     "execution_count": 82,
     "metadata": {},
     "output_type": "execute_result"
    }
   ],
   "source": [
    "data.shape"
   ]
  },
  {
   "cell_type": "code",
   "execution_count": 34,
   "metadata": {},
   "outputs": [
    {
     "data": {
      "text/html": [
       "<div>\n",
       "<style scoped>\n",
       "    .dataframe tbody tr th:only-of-type {\n",
       "        vertical-align: middle;\n",
       "    }\n",
       "\n",
       "    .dataframe tbody tr th {\n",
       "        vertical-align: top;\n",
       "    }\n",
       "\n",
       "    .dataframe thead th {\n",
       "        text-align: right;\n",
       "    }\n",
       "</style>\n",
       "<table border=\"1\" class=\"dataframe\">\n",
       "  <thead>\n",
       "    <tr style=\"text-align: right;\">\n",
       "      <th></th>\n",
       "      <th>listing_id</th>\n",
       "      <th>name</th>\n",
       "      <th>description</th>\n",
       "      <th>neighborhood_overview</th>\n",
       "      <th>host_id</th>\n",
       "      <th>host_since</th>\n",
       "      <th>host_about</th>\n",
       "      <th>host_response_time</th>\n",
       "      <th>host_response_rate</th>\n",
       "      <th>host_acceptance_rate</th>\n",
       "      <th>host_is_superhost</th>\n",
       "      <th>host_neighbourhood</th>\n",
       "      <th>host_listings_count</th>\n",
       "      <th>host_total_listings_count</th>\n",
       "      <th>neighbourhood</th>\n",
       "      <th>neighbourhood_cleansed</th>\n",
       "      <th>latitude</th>\n",
       "      <th>longitude</th>\n",
       "      <th>property_type</th>\n",
       "      <th>room_type</th>\n",
       "      <th>accommodates</th>\n",
       "      <th>bathrooms</th>\n",
       "      <th>bathrooms_text</th>\n",
       "      <th>bedrooms</th>\n",
       "      <th>beds</th>\n",
       "      <th>amenities</th>\n",
       "      <th>price</th>\n",
       "      <th>minimum_nights</th>\n",
       "      <th>maximum_nights</th>\n",
       "      <th>review_scores_rating</th>\n",
       "      <th>review_scores_accuracy</th>\n",
       "      <th>review_scores_cleanliness</th>\n",
       "      <th>review_scores_checkin</th>\n",
       "      <th>review_scores_communication</th>\n",
       "      <th>review_scores_location</th>\n",
       "      <th>review_scores_value</th>\n",
       "      <th>calculated_host_listings_count</th>\n",
       "      <th>calculated_host_listings_count_entire_homes</th>\n",
       "      <th>calculated_host_listings_count_private_rooms</th>\n",
       "      <th>calculated_host_listings_count_shared_rooms</th>\n",
       "      <th>comments</th>\n",
       "    </tr>\n",
       "  </thead>\n",
       "  <tbody>\n",
       "    <tr>\n",
       "      <th>0</th>\n",
       "      <td>2818</td>\n",
       "      <td>Quiet Garden View Room &amp; Super Fast Wi-Fi</td>\n",
       "      <td>Quiet Garden View Room &amp; Super Fast Wi-Fi&lt;br /...</td>\n",
       "      <td>Indische Buurt (\"Indies Neighborhood\") is a ne...</td>\n",
       "      <td>3159</td>\n",
       "      <td>2008-09-24</td>\n",
       "      <td>Upon arriving in Amsterdam, one can imagine as...</td>\n",
       "      <td>within an hour</td>\n",
       "      <td>100%</td>\n",
       "      <td>100%</td>\n",
       "      <td>t</td>\n",
       "      <td>Indische Buurt</td>\n",
       "      <td>1</td>\n",
       "      <td>1</td>\n",
       "      <td>Amsterdam, North Holland, Netherlands</td>\n",
       "      <td>Oostelijk Havengebied - Indische Buurt</td>\n",
       "      <td>52.36435</td>\n",
       "      <td>4.94358</td>\n",
       "      <td>Private room in rental unit</td>\n",
       "      <td>Private room</td>\n",
       "      <td>2</td>\n",
       "      <td>NaN</td>\n",
       "      <td>1.5 shared baths</td>\n",
       "      <td>1.0</td>\n",
       "      <td>2.0</td>\n",
       "      <td>[\"Drying rack for clothing\", \"Host greets you\"...</td>\n",
       "      <td>$69.00</td>\n",
       "      <td>3</td>\n",
       "      <td>28</td>\n",
       "      <td>4.89</td>\n",
       "      <td>4.93</td>\n",
       "      <td>4.99</td>\n",
       "      <td>4.97</td>\n",
       "      <td>4.98</td>\n",
       "      <td>4.69</td>\n",
       "      <td>4.81</td>\n",
       "      <td>1</td>\n",
       "      <td>0</td>\n",
       "      <td>1</td>\n",
       "      <td>0</td>\n",
       "      <td>['Daniel is really cool. The place was nice an...</td>\n",
       "    </tr>\n",
       "    <tr>\n",
       "      <th>1</th>\n",
       "      <td>311124</td>\n",
       "      <td>*historic centre* *bright* *canal view* *jordaan*</td>\n",
       "      <td>&gt; Please be so kind to book  ONLY AFTER  conta...</td>\n",
       "      <td>Perfect location in the lively centre. All his...</td>\n",
       "      <td>1600010</td>\n",
       "      <td>2012-01-12</td>\n",
       "      <td>We love cycling, travelling, healthy food and ...</td>\n",
       "      <td>within a few hours</td>\n",
       "      <td>100%</td>\n",
       "      <td>68%</td>\n",
       "      <td>f</td>\n",
       "      <td>Jordaan</td>\n",
       "      <td>1</td>\n",
       "      <td>1</td>\n",
       "      <td>Amsterdam, North Holland, Netherlands</td>\n",
       "      <td>Centrum-West</td>\n",
       "      <td>52.37104</td>\n",
       "      <td>4.87713</td>\n",
       "      <td>Entire rental unit</td>\n",
       "      <td>Entire home/apt</td>\n",
       "      <td>2</td>\n",
       "      <td>NaN</td>\n",
       "      <td>1 bath</td>\n",
       "      <td>1.0</td>\n",
       "      <td>1.0</td>\n",
       "      <td>[\"Drying rack for clothing\", \"Wifi\", \"Waterfro...</td>\n",
       "      <td>$325.00</td>\n",
       "      <td>5</td>\n",
       "      <td>15</td>\n",
       "      <td>4.76</td>\n",
       "      <td>4.72</td>\n",
       "      <td>4.79</td>\n",
       "      <td>4.90</td>\n",
       "      <td>4.92</td>\n",
       "      <td>4.93</td>\n",
       "      <td>4.60</td>\n",
       "      <td>1</td>\n",
       "      <td>1</td>\n",
       "      <td>0</td>\n",
       "      <td>0</td>\n",
       "      <td>['Nice apartment in a beautifull área of Amste...</td>\n",
       "    </tr>\n",
       "    <tr>\n",
       "      <th>2</th>\n",
       "      <td>319985</td>\n",
       "      <td>Elegant Appartement Central Location.</td>\n",
       "      <td>From December 26 thru January 2, minimum stay ...</td>\n",
       "      <td>Bij aankomst vertel ik mijn gasten graag over ...</td>\n",
       "      <td>1640702</td>\n",
       "      <td>2012-01-23</td>\n",
       "      <td>I like to welcome guests who take good care of...</td>\n",
       "      <td>within a day</td>\n",
       "      <td>93%</td>\n",
       "      <td>89%</td>\n",
       "      <td>t</td>\n",
       "      <td>De Pijp</td>\n",
       "      <td>2</td>\n",
       "      <td>3</td>\n",
       "      <td>De Pijp, North Holland, Netherlands</td>\n",
       "      <td>De Pijp - Rivierenbuurt</td>\n",
       "      <td>52.35669</td>\n",
       "      <td>4.90187</td>\n",
       "      <td>Entire rental unit</td>\n",
       "      <td>Entire home/apt</td>\n",
       "      <td>4</td>\n",
       "      <td>NaN</td>\n",
       "      <td>1 bath</td>\n",
       "      <td>1.0</td>\n",
       "      <td>2.0</td>\n",
       "      <td>[\"Building staff\", \"Wifi\", \"Hair dryer\", \"Bed ...</td>\n",
       "      <td>$244.00</td>\n",
       "      <td>1</td>\n",
       "      <td>90</td>\n",
       "      <td>4.75</td>\n",
       "      <td>4.83</td>\n",
       "      <td>4.69</td>\n",
       "      <td>4.86</td>\n",
       "      <td>4.78</td>\n",
       "      <td>4.85</td>\n",
       "      <td>4.62</td>\n",
       "      <td>2</td>\n",
       "      <td>1</td>\n",
       "      <td>1</td>\n",
       "      <td>0</td>\n",
       "      <td>['Einfach große Klasse! Zentrale Lage, Einkauf...</td>\n",
       "    </tr>\n",
       "    <tr>\n",
       "      <th>3</th>\n",
       "      <td>327285</td>\n",
       "      <td>beautiful designed ap.+bikes+garden</td>\n",
       "      <td>Cosy and comfortable apartment on the ground f...</td>\n",
       "      <td>'De Pijp' as we Amsterdammers know it today is...</td>\n",
       "      <td>1672823</td>\n",
       "      <td>2012-01-30</td>\n",
       "      <td>We are the parents of 4 beautiful children, tw...</td>\n",
       "      <td>within an hour</td>\n",
       "      <td>100%</td>\n",
       "      <td>100%</td>\n",
       "      <td>f</td>\n",
       "      <td>De Pijp</td>\n",
       "      <td>3</td>\n",
       "      <td>4</td>\n",
       "      <td>Amsterdam, North Holland, Netherlands</td>\n",
       "      <td>De Pijp - Rivierenbuurt</td>\n",
       "      <td>52.35625</td>\n",
       "      <td>4.89323</td>\n",
       "      <td>Private room in home</td>\n",
       "      <td>Private room</td>\n",
       "      <td>4</td>\n",
       "      <td>NaN</td>\n",
       "      <td>1.5 baths</td>\n",
       "      <td>1.0</td>\n",
       "      <td>6.0</td>\n",
       "      <td>[\"Board games\", \"Drying rack for clothing\", \"W...</td>\n",
       "      <td>$244.00</td>\n",
       "      <td>2</td>\n",
       "      <td>30</td>\n",
       "      <td>4.94</td>\n",
       "      <td>4.91</td>\n",
       "      <td>4.92</td>\n",
       "      <td>4.98</td>\n",
       "      <td>4.99</td>\n",
       "      <td>4.91</td>\n",
       "      <td>4.84</td>\n",
       "      <td>2</td>\n",
       "      <td>0</td>\n",
       "      <td>2</td>\n",
       "      <td>0</td>\n",
       "      <td>[\"This was by far the best Airbnb experience I...</td>\n",
       "    </tr>\n",
       "    <tr>\n",
       "      <th>4</th>\n",
       "      <td>331946</td>\n",
       "      <td>Lovely FAMILY house near Vondelpark</td>\n",
       "      <td>* Our house is only suitable for a couple or f...</td>\n",
       "      <td>UNK</td>\n",
       "      <td>1687595</td>\n",
       "      <td>2012-02-02</td>\n",
       "      <td>Welcome guests, I'm Sebastiaan and it would be...</td>\n",
       "      <td>NaN</td>\n",
       "      <td>NaN</td>\n",
       "      <td>NaN</td>\n",
       "      <td>f</td>\n",
       "      <td>Oud-West</td>\n",
       "      <td>1</td>\n",
       "      <td>1</td>\n",
       "      <td>UNK</td>\n",
       "      <td>De Baarsjes - Oud-West</td>\n",
       "      <td>52.36060</td>\n",
       "      <td>4.85739</td>\n",
       "      <td>Entire loft</td>\n",
       "      <td>Entire home/apt</td>\n",
       "      <td>4</td>\n",
       "      <td>NaN</td>\n",
       "      <td>1 bath</td>\n",
       "      <td>4.0</td>\n",
       "      <td>4.0</td>\n",
       "      <td>[\"Host greets you\", \"Wifi\", \"Children\\u2019s d...</td>\n",
       "      <td>$220.00</td>\n",
       "      <td>2</td>\n",
       "      <td>14</td>\n",
       "      <td>4.88</td>\n",
       "      <td>4.88</td>\n",
       "      <td>4.64</td>\n",
       "      <td>4.92</td>\n",
       "      <td>4.88</td>\n",
       "      <td>4.79</td>\n",
       "      <td>4.75</td>\n",
       "      <td>1</td>\n",
       "      <td>1</td>\n",
       "      <td>0</td>\n",
       "      <td>0</td>\n",
       "      <td>['Amazing house, perfect location and a dream ...</td>\n",
       "    </tr>\n",
       "  </tbody>\n",
       "</table>\n",
       "</div>"
      ],
      "text/plain": [
       "   listing_id                                               name  \\\n",
       "0        2818          Quiet Garden View Room & Super Fast Wi-Fi   \n",
       "1      311124  *historic centre* *bright* *canal view* *jordaan*   \n",
       "2      319985              Elegant Appartement Central Location.   \n",
       "3      327285                beautiful designed ap.+bikes+garden   \n",
       "4      331946                Lovely FAMILY house near Vondelpark   \n",
       "\n",
       "                                         description  \\\n",
       "0  Quiet Garden View Room & Super Fast Wi-Fi<br /...   \n",
       "1  > Please be so kind to book  ONLY AFTER  conta...   \n",
       "2  From December 26 thru January 2, minimum stay ...   \n",
       "3  Cosy and comfortable apartment on the ground f...   \n",
       "4  * Our house is only suitable for a couple or f...   \n",
       "\n",
       "                               neighborhood_overview  host_id  host_since  \\\n",
       "0  Indische Buurt (\"Indies Neighborhood\") is a ne...     3159  2008-09-24   \n",
       "1  Perfect location in the lively centre. All his...  1600010  2012-01-12   \n",
       "2  Bij aankomst vertel ik mijn gasten graag over ...  1640702  2012-01-23   \n",
       "3  'De Pijp' as we Amsterdammers know it today is...  1672823  2012-01-30   \n",
       "4                                                UNK  1687595  2012-02-02   \n",
       "\n",
       "                                          host_about  host_response_time  \\\n",
       "0  Upon arriving in Amsterdam, one can imagine as...      within an hour   \n",
       "1  We love cycling, travelling, healthy food and ...  within a few hours   \n",
       "2  I like to welcome guests who take good care of...        within a day   \n",
       "3  We are the parents of 4 beautiful children, tw...      within an hour   \n",
       "4  Welcome guests, I'm Sebastiaan and it would be...                 NaN   \n",
       "\n",
       "  host_response_rate host_acceptance_rate host_is_superhost  \\\n",
       "0               100%                 100%                 t   \n",
       "1               100%                  68%                 f   \n",
       "2                93%                  89%                 t   \n",
       "3               100%                 100%                 f   \n",
       "4                NaN                  NaN                 f   \n",
       "\n",
       "  host_neighbourhood  host_listings_count  host_total_listings_count  \\\n",
       "0     Indische Buurt                    1                          1   \n",
       "1            Jordaan                    1                          1   \n",
       "2            De Pijp                    2                          3   \n",
       "3            De Pijp                    3                          4   \n",
       "4           Oud-West                    1                          1   \n",
       "\n",
       "                           neighbourhood  \\\n",
       "0  Amsterdam, North Holland, Netherlands   \n",
       "1  Amsterdam, North Holland, Netherlands   \n",
       "2    De Pijp, North Holland, Netherlands   \n",
       "3  Amsterdam, North Holland, Netherlands   \n",
       "4                                    UNK   \n",
       "\n",
       "                   neighbourhood_cleansed  latitude  longitude  \\\n",
       "0  Oostelijk Havengebied - Indische Buurt  52.36435    4.94358   \n",
       "1                            Centrum-West  52.37104    4.87713   \n",
       "2                 De Pijp - Rivierenbuurt  52.35669    4.90187   \n",
       "3                 De Pijp - Rivierenbuurt  52.35625    4.89323   \n",
       "4                  De Baarsjes - Oud-West  52.36060    4.85739   \n",
       "\n",
       "                 property_type        room_type  accommodates  bathrooms  \\\n",
       "0  Private room in rental unit     Private room             2        NaN   \n",
       "1           Entire rental unit  Entire home/apt             2        NaN   \n",
       "2           Entire rental unit  Entire home/apt             4        NaN   \n",
       "3         Private room in home     Private room             4        NaN   \n",
       "4                  Entire loft  Entire home/apt             4        NaN   \n",
       "\n",
       "     bathrooms_text  bedrooms  beds  \\\n",
       "0  1.5 shared baths       1.0   2.0   \n",
       "1            1 bath       1.0   1.0   \n",
       "2            1 bath       1.0   2.0   \n",
       "3         1.5 baths       1.0   6.0   \n",
       "4            1 bath       4.0   4.0   \n",
       "\n",
       "                                           amenities    price  minimum_nights  \\\n",
       "0  [\"Drying rack for clothing\", \"Host greets you\"...   $69.00               3   \n",
       "1  [\"Drying rack for clothing\", \"Wifi\", \"Waterfro...  $325.00               5   \n",
       "2  [\"Building staff\", \"Wifi\", \"Hair dryer\", \"Bed ...  $244.00               1   \n",
       "3  [\"Board games\", \"Drying rack for clothing\", \"W...  $244.00               2   \n",
       "4  [\"Host greets you\", \"Wifi\", \"Children\\u2019s d...  $220.00               2   \n",
       "\n",
       "   maximum_nights  review_scores_rating  review_scores_accuracy  \\\n",
       "0              28                  4.89                    4.93   \n",
       "1              15                  4.76                    4.72   \n",
       "2              90                  4.75                    4.83   \n",
       "3              30                  4.94                    4.91   \n",
       "4              14                  4.88                    4.88   \n",
       "\n",
       "   review_scores_cleanliness  review_scores_checkin  \\\n",
       "0                       4.99                   4.97   \n",
       "1                       4.79                   4.90   \n",
       "2                       4.69                   4.86   \n",
       "3                       4.92                   4.98   \n",
       "4                       4.64                   4.92   \n",
       "\n",
       "   review_scores_communication  review_scores_location  review_scores_value  \\\n",
       "0                         4.98                    4.69                 4.81   \n",
       "1                         4.92                    4.93                 4.60   \n",
       "2                         4.78                    4.85                 4.62   \n",
       "3                         4.99                    4.91                 4.84   \n",
       "4                         4.88                    4.79                 4.75   \n",
       "\n",
       "   calculated_host_listings_count  \\\n",
       "0                               1   \n",
       "1                               1   \n",
       "2                               2   \n",
       "3                               2   \n",
       "4                               1   \n",
       "\n",
       "   calculated_host_listings_count_entire_homes  \\\n",
       "0                                            0   \n",
       "1                                            1   \n",
       "2                                            1   \n",
       "3                                            0   \n",
       "4                                            1   \n",
       "\n",
       "   calculated_host_listings_count_private_rooms  \\\n",
       "0                                             1   \n",
       "1                                             0   \n",
       "2                                             1   \n",
       "3                                             2   \n",
       "4                                             0   \n",
       "\n",
       "   calculated_host_listings_count_shared_rooms  \\\n",
       "0                                            0   \n",
       "1                                            0   \n",
       "2                                            0   \n",
       "3                                            0   \n",
       "4                                            0   \n",
       "\n",
       "                                            comments  \n",
       "0  ['Daniel is really cool. The place was nice an...  \n",
       "1  ['Nice apartment in a beautifull área of Amste...  \n",
       "2  ['Einfach große Klasse! Zentrale Lage, Einkauf...  \n",
       "3  [\"This was by far the best Airbnb experience I...  \n",
       "4  ['Amazing house, perfect location and a dream ...  "
      ]
     },
     "execution_count": 34,
     "metadata": {},
     "output_type": "execute_result"
    }
   ],
   "source": [
    "pd.set_option('display.max_columns', None)\n",
    "data.head()\n",
    "# data.shape"
   ]
  },
  {
   "cell_type": "code",
   "execution_count": 85,
   "metadata": {},
   "outputs": [],
   "source": [
    "from sklearn.preprocessing import LabelEncoder\n",
    "le = LabelEncoder()"
   ]
  },
  {
   "cell_type": "markdown",
   "metadata": {},
   "source": [
    "## neighbourhood_cleansed column"
   ]
  },
  {
   "cell_type": "code",
   "execution_count": 86,
   "metadata": {},
   "outputs": [
    {
     "data": {
      "text/plain": [
       "De Baarsjes - Oud-West                    1139\n",
       "Centrum-West                               922\n",
       "De Pijp - Rivierenbuurt                    802\n",
       "Centrum-Oost                               681\n",
       "Westerpark                                 481\n",
       "Zuid                                       464\n",
       "Oud-Oost                                   408\n",
       "Bos en Lommer                              344\n",
       "Oud-Noord                                  322\n",
       "Oostelijk Havengebied - Indische Buurt     260\n",
       "Watergraafsmeer                            208\n",
       "Noord-West                                 179\n",
       "IJburg - Zeeburgereiland                   157\n",
       "Slotervaart                                143\n",
       "Noord-Oost                                 113\n",
       "Geuzenveld - Slotermeer                     87\n",
       "Buitenveldert - Zuidas                      80\n",
       "De Aker - Nieuw Sloten                      49\n",
       "Bijlmer-Centrum                             44\n",
       "Gaasperdam - Driemond                       44\n",
       "Osdorp                                      43\n",
       "Bijlmer-Oost                                28\n",
       "Name: neighbourhood_cleansed, dtype: int64"
      ]
     },
     "execution_count": 86,
     "metadata": {},
     "output_type": "execute_result"
    }
   ],
   "source": [
    "data.neighbourhood_cleansed.value_counts()"
   ]
  },
  {
   "cell_type": "code",
   "execution_count": 87,
   "metadata": {},
   "outputs": [],
   "source": [
    "# label encode the neighbourhood_cleansed column\n",
    "data['neighbourhood_cleansed'] = le.fit_transform(data['neighbourhood_cleansed'])"
   ]
  },
  {
   "cell_type": "code",
   "execution_count": 88,
   "metadata": {},
   "outputs": [
    {
     "data": {
      "text/plain": [
       "7     1139\n",
       "5      922\n",
       "8      802\n",
       "4      681\n",
       "20     481\n",
       "21     464\n",
       "17     408\n",
       "2      344\n",
       "16     322\n",
       "14     260\n",
       "19     208\n",
       "13     179\n",
       "11     157\n",
       "18     143\n",
       "12     113\n",
       "10      87\n",
       "3       80\n",
       "6       49\n",
       "0       44\n",
       "9       44\n",
       "15      43\n",
       "1       28\n",
       "Name: neighbourhood_cleansed, dtype: int64"
      ]
     },
     "execution_count": 88,
     "metadata": {},
     "output_type": "execute_result"
    }
   ],
   "source": [
    "data.neighbourhood_cleansed.value_counts()"
   ]
  },
  {
   "cell_type": "markdown",
   "metadata": {},
   "source": [
    "## Column property_type"
   ]
  },
  {
   "cell_type": "code",
   "execution_count": null,
   "metadata": {},
   "outputs": [],
   "source": [
    "# i have used label ecoder but we can try embedding for this column as well"
   ]
  },
  {
   "cell_type": "code",
   "execution_count": 90,
   "metadata": {},
   "outputs": [
    {
     "data": {
      "text/plain": [
       "Entire rental unit                    2540\n",
       "Entire condo                          1304\n",
       "Private room in rental unit            490\n",
       "Entire home                            471\n",
       "Private room in bed and breakfast      290\n",
       "Entire townhouse                       213\n",
       "Entire loft                            187\n",
       "Private room in condo                  148\n",
       "Houseboat                              130\n",
       "Private room in home                   128\n",
       "Room in hotel                          115\n",
       "Room in boutique hotel                 111\n",
       "Private room in houseboat               97\n",
       "Boat                                    93\n",
       "Private room in guest suite             92\n",
       "Private room in townhouse               86\n",
       "Entire serviced apartment               82\n",
       "Private room in boat                    56\n",
       "Private room in loft                    43\n",
       "Room in bed and breakfast               26\n",
       "Entire villa                            25\n",
       "Shared room in hostel                   23\n",
       "Entire guest suite                      23\n",
       "Room in aparthotel                      20\n",
       "Entire guesthouse                       18\n",
       "Private room in hostel                  17\n",
       "Private room in guesthouse              17\n",
       "Private room in serviced apartment      17\n",
       "Entire vacation home                    16\n",
       "Room in hostel                          13\n",
       "Private room in casa particular         13\n",
       "Entire place                             9\n",
       "Private room                             8\n",
       "Private room in villa                    8\n",
       "Shared room in rental unit               7\n",
       "Tiny home                                7\n",
       "Private room in farm stay                7\n",
       "Room in serviced apartment               6\n",
       "Private room in earthen home             5\n",
       "Entire cabin                             5\n",
       "Entire cottage                           4\n",
       "Shared room in houseboat                 4\n",
       "Private room in tiny home                3\n",
       "Private room in cabin                    2\n",
       "Camper/RV                                2\n",
       "Casa particular                          2\n",
       "Tower                                    2\n",
       "Entire chalet                            2\n",
       "Shared room in bed and breakfast         2\n",
       "Yurt                                     1\n",
       "Private room in bungalow                 1\n",
       "Shared room in farm stay                 1\n",
       "Shared room in home                      1\n",
       "Cave                                     1\n",
       "Shared room in boat                      1\n",
       "Barn                                     1\n",
       "Private room in nature lodge             1\n",
       "Private room in vacation home            1\n",
       "Name: property_type, dtype: int64"
      ]
     },
     "execution_count": 90,
     "metadata": {},
     "output_type": "execute_result"
    }
   ],
   "source": [
    "data.property_type.value_counts()"
   ]
  },
  {
   "cell_type": "code",
   "execution_count": 91,
   "metadata": {},
   "outputs": [],
   "source": [
    "# values less or equal to 4 will be replaced with 'other'\n",
    "data['property_type'] = data['property_type'].apply(lambda x: 'other' if x in data.property_type.value_counts()[data.property_type.value_counts() <= 10].index else x)"
   ]
  },
  {
   "cell_type": "code",
   "execution_count": 92,
   "metadata": {},
   "outputs": [
    {
     "data": {
      "text/plain": [
       "Entire rental unit                    2540\n",
       "Entire condo                          1304\n",
       "Private room in rental unit            490\n",
       "Entire home                            471\n",
       "Private room in bed and breakfast      290\n",
       "Entire townhouse                       213\n",
       "Entire loft                            187\n",
       "Private room in condo                  148\n",
       "Houseboat                              130\n",
       "Private room in home                   128\n",
       "Room in hotel                          115\n",
       "Room in boutique hotel                 111\n",
       "Private room in houseboat               97\n",
       "other                                   94\n",
       "Boat                                    93\n",
       "Private room in guest suite             92\n",
       "Private room in townhouse               86\n",
       "Entire serviced apartment               82\n",
       "Private room in boat                    56\n",
       "Private room in loft                    43\n",
       "Room in bed and breakfast               26\n",
       "Entire villa                            25\n",
       "Entire guest suite                      23\n",
       "Shared room in hostel                   23\n",
       "Room in aparthotel                      20\n",
       "Entire guesthouse                       18\n",
       "Private room in guesthouse              17\n",
       "Private room in serviced apartment      17\n",
       "Private room in hostel                  17\n",
       "Entire vacation home                    16\n",
       "Private room in casa particular         13\n",
       "Room in hostel                          13\n",
       "Name: property_type, dtype: int64"
      ]
     },
     "execution_count": 92,
     "metadata": {},
     "output_type": "execute_result"
    }
   ],
   "source": [
    "data.property_type.value_counts()"
   ]
  },
  {
   "cell_type": "code",
   "execution_count": 93,
   "metadata": {},
   "outputs": [],
   "source": [
    "# label encode the property_type column\n",
    "data['property_type'] = le.fit_transform(data['property_type'])\n"
   ]
  },
  {
   "cell_type": "code",
   "execution_count": 94,
   "metadata": {},
   "outputs": [
    {
     "data": {
      "text/plain": [
       "<bound method Series.__len__ of Entire home/apt    5154\n",
       "Private room       1743\n",
       "Hotel room           62\n",
       "Shared room          39\n",
       "Name: room_type, dtype: int64>"
      ]
     },
     "execution_count": 94,
     "metadata": {},
     "output_type": "execute_result"
    }
   ],
   "source": [
    "data.room_type.value_counts().__len__"
   ]
  },
  {
   "cell_type": "code",
   "execution_count": null,
   "metadata": {},
   "outputs": [],
   "source": []
  },
  {
   "cell_type": "markdown",
   "metadata": {},
   "source": [
    "## Column host_neighbourhood"
   ]
  },
  {
   "cell_type": "code",
   "execution_count": 41,
   "metadata": {},
   "outputs": [
    {
     "data": {
      "text/plain": [
       "Oud-West                               553\n",
       "Grachtengordel                         244\n",
       "De Pijp                                234\n",
       "Jordaan                                189\n",
       "Oosterparkbuurt                        157\n",
       "Bos en Lommer                          126\n",
       "Indische Buurt                         116\n",
       "Oost                                    84\n",
       "Nieuwmarkt en Lastage                   79\n",
       "Rivierenbuurt                           78\n",
       "Hoofddorppleinbuurt                     69\n",
       "Watergraafsmeer                         64\n",
       "De Wallen                               62\n",
       "Oostelijke Eilanden en Kadijken         57\n",
       "Westelijke Eilanden                     57\n",
       "Amsterdam Centrum                       56\n",
       "Weesperbuurt en Plantage                55\n",
       "Frederik Hendrikbuurt                   53\n",
       "Zeeburg                                 52\n",
       "Oud-Zuid                                50\n",
       "Stadionbuurt                            45\n",
       "Spaarndammer en Zeeheldenbuurt          45\n",
       "Museumkwartier                          45\n",
       "Slotervaart                             41\n",
       "IJplein en Vogelbuurt                   37\n",
       "Volewijck                               34\n",
       "Tuindorp Oostzaan                       30\n",
       "Osdorp                                  26\n",
       "Buiksloterham                           25\n",
       "Oostzanerwerf                           22\n",
       "Banne Buiksloot                         20\n",
       "Buitenveldert-West                      19\n",
       "Buikslotermeer                          19\n",
       "Overtoomse Veld                         19\n",
       "Kadoelen                                15\n",
       "Tuindorp Buiksloot                      14\n",
       "Nieuwendam-Noord                        13\n",
       "Slotermeer-Noordoost                    13\n",
       "Slotermeer-Zuidwest                     11\n",
       "Landelijk Noord                         11\n",
       "Tuindorp Nieuwendam                      8\n",
       "Glòries - El Parc                        6\n",
       "Buitenveldert-Oost                       6\n",
       "Nieuwendammerdijk en Buiksloterdijk      4\n",
       "LB of Islington                          1\n",
       "Grand Place                              1\n",
       "Merkaz HaIr                              1\n",
       "Belváros                                 1\n",
       "Sant Antoni                              1\n",
       "Stockwell                                1\n",
       "El Raval                                 1\n",
       "La Combe                                 1\n",
       "Nieuwendammerham                         1\n",
       "La Sagrada Família                       1\n",
       "Palermo Hollywood                        1\n",
       "Cannaregio                               1\n",
       "Urbanización Galera la III               1\n",
       "Name: host_neighbourhood, dtype: int64"
      ]
     },
     "execution_count": 41,
     "metadata": {},
     "output_type": "execute_result"
    }
   ],
   "source": [
    "data.host_neighbourhood.value_counts()"
   ]
  },
  {
   "cell_type": "code",
   "execution_count": 43,
   "metadata": {},
   "outputs": [],
   "source": [
    "# value_counts of host_neighbourhood == 1 rename as \"other\"\n",
    "vc = data.host_neighbourhood.value_counts()\n",
    "single_neighborhoods = vc[vc == 1].index.tolist()\n",
    "data.loc[data.host_neighbourhood.isin(single_neighborhoods), 'host_neighbourhood'] = 'other'\n",
    "\n"
   ]
  },
  {
   "cell_type": "code",
   "execution_count": 44,
   "metadata": {},
   "outputs": [
    {
     "data": {
      "text/plain": [
       "Oud-West                               553\n",
       "Grachtengordel                         244\n",
       "De Pijp                                234\n",
       "Jordaan                                189\n",
       "Oosterparkbuurt                        157\n",
       "Bos en Lommer                          126\n",
       "Indische Buurt                         116\n",
       "Oost                                    84\n",
       "Nieuwmarkt en Lastage                   79\n",
       "Rivierenbuurt                           78\n",
       "Hoofddorppleinbuurt                     69\n",
       "Watergraafsmeer                         64\n",
       "De Wallen                               62\n",
       "Westelijke Eilanden                     57\n",
       "Oostelijke Eilanden en Kadijken         57\n",
       "Amsterdam Centrum                       56\n",
       "Weesperbuurt en Plantage                55\n",
       "Frederik Hendrikbuurt                   53\n",
       "Zeeburg                                 52\n",
       "Oud-Zuid                                50\n",
       "Spaarndammer en Zeeheldenbuurt          45\n",
       "Museumkwartier                          45\n",
       "Stadionbuurt                            45\n",
       "Slotervaart                             41\n",
       "IJplein en Vogelbuurt                   37\n",
       "Volewijck                               34\n",
       "Tuindorp Oostzaan                       30\n",
       "Osdorp                                  26\n",
       "Buiksloterham                           25\n",
       "Oostzanerwerf                           22\n",
       "Banne Buiksloot                         20\n",
       "Buikslotermeer                          19\n",
       "Overtoomse Veld                         19\n",
       "Buitenveldert-West                      19\n",
       "Kadoelen                                15\n",
       "Tuindorp Buiksloot                      14\n",
       "other                                   13\n",
       "Slotermeer-Noordoost                    13\n",
       "Nieuwendam-Noord                        13\n",
       "Slotermeer-Zuidwest                     11\n",
       "Landelijk Noord                         11\n",
       "Tuindorp Nieuwendam                      8\n",
       "Buitenveldert-Oost                       6\n",
       "Glòries - El Parc                        6\n",
       "Nieuwendammerdijk en Buiksloterdijk      4\n",
       "Name: host_neighbourhood, dtype: int64"
      ]
     },
     "execution_count": 44,
     "metadata": {},
     "output_type": "execute_result"
    }
   ],
   "source": [
    "data.host_neighbourhood.value_counts()"
   ]
  },
  {
   "cell_type": "code",
   "execution_count": 46,
   "metadata": {},
   "outputs": [],
   "source": [
    "# apply label encoder to host_neighbourhood\n",
    "\n",
    "\n",
    "data['host_neighbourhood'] = le.fit_transform(data['host_neighbourhood'])"
   ]
  },
  {
   "cell_type": "markdown",
   "metadata": {},
   "source": [
    "## Column host_response_time"
   ]
  },
  {
   "cell_type": "code",
   "execution_count": 62,
   "metadata": {},
   "outputs": [
    {
     "data": {
      "text/plain": [
       "4"
      ]
     },
     "execution_count": 62,
     "metadata": {},
     "output_type": "execute_result"
    }
   ],
   "source": [
    "len(data.host_response_time.value_counts())"
   ]
  },
  {
   "cell_type": "code",
   "execution_count": 63,
   "metadata": {},
   "outputs": [
    {
     "data": {
      "text/plain": [
       "within an hour        2645\n",
       "within a few hours    1123\n",
       "within a day          1083\n",
       "a few days or more     108\n",
       "Name: host_response_time, dtype: int64"
      ]
     },
     "execution_count": 63,
     "metadata": {},
     "output_type": "execute_result"
    }
   ],
   "source": [
    "data.host_response_time.value_counts()"
   ]
  },
  {
   "cell_type": "code",
   "execution_count": 66,
   "metadata": {},
   "outputs": [],
   "source": [
    "# convert to category with label encoding\n",
    "data['host_response_time'] = le.fit_transform(data['host_response_time'])\n",
    "\n"
   ]
  },
  {
   "cell_type": "code",
   "execution_count": 71,
   "metadata": {},
   "outputs": [
    {
     "name": "stdout",
     "output_type": "stream",
     "text": [
      "3    2645\n",
      "4    2039\n",
      "2    1123\n",
      "1    1083\n",
      "0     108\n",
      "Name: host_response_time, dtype: int64\n",
      "0       3\n",
      "1       2\n",
      "2       1\n",
      "3       3\n",
      "4       4\n",
      "       ..\n",
      "6993    4\n",
      "6994    4\n",
      "6995    4\n",
      "6996    4\n",
      "6997    2\n",
      "Name: host_response_time, Length: 6998, dtype: int32\n"
     ]
    }
   ],
   "source": [
    "print(data['host_response_time'].value_counts())\n",
    "print(data['host_response_time'])"
   ]
  },
  {
   "cell_type": "code",
   "execution_count": 73,
   "metadata": {},
   "outputs": [
    {
     "data": {
      "text/plain": [
       "3377"
      ]
     },
     "execution_count": 73,
     "metadata": {},
     "output_type": "execute_result"
    }
   ],
   "source": []
  },
  {
   "cell_type": "markdown",
   "metadata": {},
   "source": [
    "## Column host_about"
   ]
  },
  {
   "cell_type": "code",
   "execution_count": 74,
   "metadata": {},
   "outputs": [
    {
     "data": {
      "text/plain": [
       "3377"
      ]
     },
     "execution_count": 74,
     "metadata": {},
     "output_type": "execute_result"
    }
   ],
   "source": [
    "len(data.host_about.value_counts())"
   ]
  },
  {
   "cell_type": "code",
   "execution_count": null,
   "metadata": {},
   "outputs": [
    {
     "data": {
      "text/plain": [
       "0    Upon arriving in Amsterdam, one can imagine as...\n",
       "1    We love cycling, travelling, healthy food and ...\n",
       "2    I like to welcome guests who take good care of...\n",
       "3    We are the parents of 4 beautiful children, tw...\n",
       "4    Welcome guests, I'm Sebastiaan and it would be...\n",
       "Name: host_about, dtype: object"
      ]
     },
     "metadata": {},
     "output_type": "display_data"
    }
   ],
   "source": [
    "data.host_about.head()"
   ]
  },
  {
   "cell_type": "code",
   "execution_count": 78,
   "metadata": {},
   "outputs": [
    {
     "data": {
      "text/plain": [
       "2915"
      ]
     },
     "execution_count": 78,
     "metadata": {},
     "output_type": "execute_result"
    }
   ],
   "source": [
    "# check if there is any null value\n",
    "data.host_about.isnull().sum()"
   ]
  },
  {
   "cell_type": "code",
   "execution_count": 79,
   "metadata": {},
   "outputs": [],
   "source": [
    "# fill the with 'UNK'\n",
    "data.host_about.fillna('UNK', inplace=True)"
   ]
  },
  {
   "cell_type": "code",
   "execution_count": 80,
   "metadata": {},
   "outputs": [
    {
     "name": "stderr",
     "output_type": "stream",
     "text": [
      "c:\\Users\\kyriakos\\anaconda3\\envs\\nlp1\\lib\\site-packages\\transformers\\tokenization_utils_base.py:2346: FutureWarning: The `pad_to_max_length` argument is deprecated and will be removed in a future version, use `padding=True` or `padding='longest'` to pad to the longest sequence in the batch, or use `padding='max_length'` to pad to a max length. In this case, you can give a specific length with `max_length` (e.g. `max_length=45`) or leave max_length to None to pad to the maximal input size of the model (e.g. 512 for Bert).\n",
      "  warnings.warn(\n"
     ]
    },
    {
     "data": {
      "text/plain": [
       "torch.Size([7008, 768])"
      ]
     },
     "execution_count": 80,
     "metadata": {},
     "output_type": "execute_result"
    }
   ],
   "source": [
    "host_abput_embeddings = get_embeddings(data.host_about)\n",
    "host_abput_embeddings.shape"
   ]
  },
  {
   "cell_type": "code",
   "execution_count": null,
   "metadata": {},
   "outputs": [],
   "source": []
  },
  {
   "cell_type": "code",
   "execution_count": null,
   "metadata": {},
   "outputs": [],
   "source": []
  },
  {
   "cell_type": "code",
   "execution_count": null,
   "metadata": {},
   "outputs": [],
   "source": []
  },
  {
   "cell_type": "code",
   "execution_count": null,
   "metadata": {},
   "outputs": [],
   "source": []
  },
  {
   "cell_type": "code",
   "execution_count": null,
   "metadata": {},
   "outputs": [],
   "source": []
  },
  {
   "cell_type": "code",
   "execution_count": null,
   "metadata": {},
   "outputs": [],
   "source": []
  },
  {
   "cell_type": "code",
   "execution_count": null,
   "metadata": {},
   "outputs": [],
   "source": []
  },
  {
   "cell_type": "code",
   "execution_count": null,
   "metadata": {},
   "outputs": [],
   "source": []
  },
  {
   "cell_type": "code",
   "execution_count": null,
   "metadata": {},
   "outputs": [],
   "source": []
  }
 ],
 "metadata": {
  "kernelspec": {
   "display_name": "nlp1",
   "language": "python",
   "name": "python3"
  },
  "language_info": {
   "codemirror_mode": {
    "name": "ipython",
    "version": 3
   },
   "file_extension": ".py",
   "mimetype": "text/x-python",
   "name": "python",
   "nbconvert_exporter": "python",
   "pygments_lexer": "ipython3",
   "version": "3.10.9"
  },
  "orig_nbformat": 4,
  "vscode": {
   "interpreter": {
    "hash": "48fa73cffd7ea0ee077adfb9340a9f695394edf478401010103a3ce4f2491774"
   }
  }
 },
 "nbformat": 4,
 "nbformat_minor": 2
}
